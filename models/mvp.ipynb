{
 "cells": [
  {
   "cell_type": "markdown",
   "metadata": {},
   "source": [
    "# Library Imports"
   ]
  },
  {
   "cell_type": "code",
   "execution_count": 1,
   "metadata": {
    "ExecuteTime": {
     "end_time": "2019-11-24T15:24:39.452043Z",
     "start_time": "2019-11-24T15:24:38.494223Z"
    }
   },
   "outputs": [],
   "source": [
    "import os\n",
    "import numpy as np\n",
    "import pandas as pd\n",
    "from scipy import io\n",
    "# from sklearn import metrics\n",
    "from sklearn.metrics import roc_auc_score"
   ]
  },
  {
   "cell_type": "code",
   "execution_count": 2,
   "metadata": {
    "ExecuteTime": {
     "end_time": "2019-11-24T15:24:40.666030Z",
     "start_time": "2019-11-24T15:24:39.454364Z"
    }
   },
   "outputs": [
    {
     "name": "stderr",
     "output_type": "stream",
     "text": [
      "Using TensorFlow backend.\n",
      "/Users/sean/anaconda3/envs/metis/lib/python3.7/site-packages/tensorflow/python/framework/dtypes.py:526: FutureWarning: Passing (type, 1) or '1type' as a synonym of type is deprecated; in a future version of numpy, it will be understood as (type, (1,)) / '(1,)type'.\n",
      "  _np_qint8 = np.dtype([(\"qint8\", np.int8, 1)])\n",
      "/Users/sean/anaconda3/envs/metis/lib/python3.7/site-packages/tensorflow/python/framework/dtypes.py:527: FutureWarning: Passing (type, 1) or '1type' as a synonym of type is deprecated; in a future version of numpy, it will be understood as (type, (1,)) / '(1,)type'.\n",
      "  _np_quint8 = np.dtype([(\"quint8\", np.uint8, 1)])\n",
      "/Users/sean/anaconda3/envs/metis/lib/python3.7/site-packages/tensorflow/python/framework/dtypes.py:528: FutureWarning: Passing (type, 1) or '1type' as a synonym of type is deprecated; in a future version of numpy, it will be understood as (type, (1,)) / '(1,)type'.\n",
      "  _np_qint16 = np.dtype([(\"qint16\", np.int16, 1)])\n",
      "/Users/sean/anaconda3/envs/metis/lib/python3.7/site-packages/tensorflow/python/framework/dtypes.py:529: FutureWarning: Passing (type, 1) or '1type' as a synonym of type is deprecated; in a future version of numpy, it will be understood as (type, (1,)) / '(1,)type'.\n",
      "  _np_quint16 = np.dtype([(\"quint16\", np.uint16, 1)])\n",
      "/Users/sean/anaconda3/envs/metis/lib/python3.7/site-packages/tensorflow/python/framework/dtypes.py:530: FutureWarning: Passing (type, 1) or '1type' as a synonym of type is deprecated; in a future version of numpy, it will be understood as (type, (1,)) / '(1,)type'.\n",
      "  _np_qint32 = np.dtype([(\"qint32\", np.int32, 1)])\n",
      "/Users/sean/anaconda3/envs/metis/lib/python3.7/site-packages/tensorflow/python/framework/dtypes.py:535: FutureWarning: Passing (type, 1) or '1type' as a synonym of type is deprecated; in a future version of numpy, it will be understood as (type, (1,)) / '(1,)type'.\n",
      "  np_resource = np.dtype([(\"resource\", np.ubyte, 1)])\n"
     ]
    }
   ],
   "source": [
    "import keras"
   ]
  },
  {
   "cell_type": "code",
   "execution_count": 3,
   "metadata": {
    "ExecuteTime": {
     "end_time": "2019-11-24T15:24:40.934836Z",
     "start_time": "2019-11-24T15:24:40.817735Z"
    }
   },
   "outputs": [
    {
     "name": "stdout",
     "output_type": "stream",
     "text": [
      "/Users/sean/CloudStation/Metis/projects/project5\r\n"
     ]
    }
   ],
   "source": [
    "os.chdir('/Users/sean/CloudStation/Metis/projects/project5')\n",
    "!pwd"
   ]
  },
  {
   "cell_type": "markdown",
   "metadata": {},
   "source": [
    "# Load Data"
   ]
  },
  {
   "cell_type": "code",
   "execution_count": 4,
   "metadata": {
    "ExecuteTime": {
     "end_time": "2019-11-24T15:24:52.883156Z",
     "start_time": "2019-11-24T15:24:42.016917Z"
    }
   },
   "outputs": [],
   "source": [
    "# load data\n",
    "raw_data = './data/raw/tox21/'\n",
    "y_tr = pd.read_csv(raw_data+'tox21_labels_train.csv.gz', index_col=0, compression=\"gzip\")\n",
    "y_te = pd.read_csv(raw_data+'tox21_labels_test.csv.gz', index_col=0, compression=\"gzip\")\n",
    "x_tr_dense = pd.read_csv(raw_data+'tox21_dense_train.csv.gz', index_col=0, compression=\"gzip\").values\n",
    "x_te_dense = pd.read_csv(raw_data+'tox21_dense_test.csv.gz', index_col=0, compression=\"gzip\").values\n",
    "x_tr_sparse = io.mmread(raw_data+'tox21_sparse_train.mtx.gz').tocsc()\n",
    "x_te_sparse = io.mmread(raw_data+'tox21_sparse_test.mtx.gz').tocsc()\n",
    "# filter out very sparse features\n",
    "sparse_col_idx = ((x_tr_sparse > 0).mean(0) > 0.05).A.ravel()\n",
    "x_tr = np.hstack([x_tr_dense, x_tr_sparse[:, sparse_col_idx].A])\n",
    "x_te = np.hstack([x_te_dense, x_te_sparse[:, sparse_col_idx].A])"
   ]
  },
  {
   "cell_type": "markdown",
   "metadata": {},
   "source": [
    "# Choose A Target"
   ]
  },
  {
   "cell_type": "code",
   "execution_count": 5,
   "metadata": {
    "ExecuteTime": {
     "end_time": "2019-11-24T15:24:54.586490Z",
     "start_time": "2019-11-24T15:24:54.576521Z"
    }
   },
   "outputs": [
    {
     "data": {
      "text/plain": [
       "Index(['NR.AhR', 'NR.AR', 'NR.AR.LBD', 'NR.Aromatase', 'NR.ER', 'NR.ER.LBD',\n",
       "       'NR.PPAR.gamma', 'SR.ARE', 'SR.ATAD5', 'SR.HSE', 'SR.MMP', 'SR.p53'],\n",
       "      dtype='object')"
      ]
     },
     "execution_count": 5,
     "metadata": {},
     "output_type": "execute_result"
    }
   ],
   "source": [
    "y_tr.columns"
   ]
  },
  {
   "cell_type": "markdown",
   "metadata": {},
   "source": [
    "The Random Forest example loops through all the targets.  I'll pick only the first one:"
   ]
  },
  {
   "cell_type": "code",
   "execution_count": 6,
   "metadata": {
    "ExecuteTime": {
     "end_time": "2019-11-24T15:25:04.229949Z",
     "start_time": "2019-11-24T15:25:03.999598Z"
    }
   },
   "outputs": [
    {
     "data": {
      "text/plain": [
       "(8441, 1644)"
      ]
     },
     "execution_count": 6,
     "metadata": {},
     "output_type": "execute_result"
    }
   ],
   "source": [
    "# for target in y_tr.columns:\n",
    "target = 'NR.AhR'\n",
    "rows_tr = np.isfinite(y_tr[target]).values\n",
    "rows_te = np.isfinite(y_te[target]).values\n",
    "x,y = x_tr[rows_tr], y_tr[target][rows_tr]\n",
    "x.shape"
   ]
  },
  {
   "cell_type": "markdown",
   "metadata": {},
   "source": [
    "# Build Neural Network\n",
    "\n",
    "Following the desciption in section 2.2.4 of the [DeepTox article](https://www.frontiersin.org/articles/10.3389/fenvs.2015.00080/full), I tried to use intermediate values in [Table 2](https://www.frontiersin.org/articles/10.3389/fenvs.2015.00080/full#T2) to build the neural network:"
   ]
  },
  {
   "cell_type": "code",
   "execution_count": 7,
   "metadata": {
    "ExecuteTime": {
     "end_time": "2019-11-24T15:25:06.286500Z",
     "start_time": "2019-11-24T15:25:06.102703Z"
    }
   },
   "outputs": [
    {
     "name": "stdout",
     "output_type": "stream",
     "text": [
      "WARNING:tensorflow:From /Users/sean/anaconda3/envs/metis/lib/python3.7/site-packages/tensorflow/python/framework/op_def_library.py:263: colocate_with (from tensorflow.python.framework.ops) is deprecated and will be removed in a future version.\n",
      "Instructions for updating:\n",
      "Colocations handled automatically by placer.\n",
      "WARNING:tensorflow:From /Users/sean/anaconda3/envs/metis/lib/python3.7/site-packages/keras/backend/tensorflow_backend.py:3733: calling dropout (from tensorflow.python.ops.nn_ops) with keep_prob is deprecated and will be removed in a future version.\n",
      "Instructions for updating:\n",
      "Please use `rate` instead of `keep_prob`. Rate should be set to `rate = 1 - keep_prob`.\n",
      "Model: \"sequential_1\"\n",
      "_________________________________________________________________\n",
      "Layer (type)                 Output Shape              Param #   \n",
      "=================================================================\n",
      "h1_relu_activation (Dense)   (None, 2048)              3368960   \n",
      "_________________________________________________________________\n",
      "h2_relu_activation (Dense)   (None, 2048)              4196352   \n",
      "_________________________________________________________________\n",
      "Dropout (Dropout)            (None, 2048)              0         \n",
      "_________________________________________________________________\n",
      "dense_1 (Dense)              (None, 1)                 2049      \n",
      "=================================================================\n",
      "Total params: 7,567,361\n",
      "Trainable params: 7,567,361\n",
      "Non-trainable params: 0\n",
      "_________________________________________________________________\n"
     ]
    }
   ],
   "source": [
    "drop_out=0.5\n",
    "L2_reg = 0.0001\n",
    "model = keras.Sequential([\n",
    "    keras.layers.InputLayer(input_shape=x.shape[1:],name='Input_Layer'),\n",
    "    keras.layers.Dense(units=2048, activation=\"relu\",name='h1_relu_activation',\\\n",
    "                       kernel_regularizer=keras.regularizers.l2(L2_reg)),\n",
    "    keras.layers.Dense(units=2048, activation=\"relu\",name='h2_relu_activation',\\\n",
    "                       kernel_regularizer=keras.regularizers.l2(L2_reg)),\n",
    "    keras.layers.Dropout(rate=drop_out,name='Dropout'),\n",
    "    keras.layers.Dense(units=1, activation='sigmoid')\n",
    "])\n",
    "model.compile(optimizer='sgd', loss='binary_crossentropy', metrics=['mean_squared_error'])\n",
    "model.summary()"
   ]
  },
  {
   "cell_type": "code",
   "execution_count": 9,
   "metadata": {
    "ExecuteTime": {
     "end_time": "2019-11-24T15:29:47.504451Z",
     "start_time": "2019-11-24T15:26:05.710106Z"
    }
   },
   "outputs": [
    {
     "name": "stdout",
     "output_type": "stream",
     "text": [
      "WARNING:tensorflow:From /Users/sean/anaconda3/envs/metis/lib/python3.7/site-packages/tensorflow/python/ops/math_ops.py:3066: to_int32 (from tensorflow.python.ops.math_ops) is deprecated and will be removed in a future version.\n",
      "Instructions for updating:\n",
      "Use tf.cast instead.\n",
      "Train on 6752 samples, validate on 1689 samples\n",
      "Epoch 1/100\n",
      "6752/6752 [==============================] - 3s 403us/step - loss: 2.8476 - mean_squared_error: 0.1577 - val_loss: 1.0074 - val_mean_squared_error: 0.0385\n",
      "Epoch 2/100\n",
      "6752/6752 [==============================] - 2s 307us/step - loss: 2.5738 - mean_squared_error: 0.1357 - val_loss: 1.0074 - val_mean_squared_error: 0.0385\n",
      "Epoch 3/100\n",
      "6752/6752 [==============================] - 2s 307us/step - loss: 2.5738 - mean_squared_error: 0.1357 - val_loss: 1.0074 - val_mean_squared_error: 0.0385\n",
      "Epoch 4/100\n",
      "6752/6752 [==============================] - 2s 308us/step - loss: 2.5737 - mean_squared_error: 0.1357 - val_loss: 1.0074 - val_mean_squared_error: 0.0385\n",
      "\n",
      "Epoch 00004: ReduceLROnPlateau reducing learning rate to 0.004999999888241291.\n",
      "Epoch 5/100\n",
      "6752/6752 [==============================] - 2s 310us/step - loss: 2.5737 - mean_squared_error: 0.1357 - val_loss: 1.0074 - val_mean_squared_error: 0.0385\n",
      "Epoch 6/100\n",
      "6752/6752 [==============================] - 2s 326us/step - loss: 2.5737 - mean_squared_error: 0.1357 - val_loss: 1.0074 - val_mean_squared_error: 0.0385\n",
      "Epoch 7/100\n",
      "6752/6752 [==============================] - 2s 317us/step - loss: 2.5737 - mean_squared_error: 0.1357 - val_loss: 1.0073 - val_mean_squared_error: 0.0385\n",
      "\n",
      "Epoch 00007: ReduceLROnPlateau reducing learning rate to 0.0024999999441206455.\n",
      "Epoch 8/100\n",
      "6752/6752 [==============================] - 2s 315us/step - loss: 2.5737 - mean_squared_error: 0.1357 - val_loss: 1.0073 - val_mean_squared_error: 0.0385\n",
      "Epoch 9/100\n",
      "6752/6752 [==============================] - 2s 324us/step - loss: 2.5737 - mean_squared_error: 0.1357 - val_loss: 1.0073 - val_mean_squared_error: 0.0385\n",
      "Epoch 10/100\n",
      "6752/6752 [==============================] - 2s 331us/step - loss: 2.5737 - mean_squared_error: 0.1357 - val_loss: 1.0073 - val_mean_squared_error: 0.0385\n",
      "Epoch 11/100\n",
      "6752/6752 [==============================] - 2s 329us/step - loss: 2.5737 - mean_squared_error: 0.1357 - val_loss: 1.0073 - val_mean_squared_error: 0.0385\n",
      "\n",
      "Epoch 00011: ReduceLROnPlateau reducing learning rate to 0.0012499999720603228.\n",
      "Epoch 12/100\n",
      "6752/6752 [==============================] - 2s 333us/step - loss: 2.5737 - mean_squared_error: 0.1357 - val_loss: 1.0073 - val_mean_squared_error: 0.0385\n",
      "Epoch 13/100\n",
      "6752/6752 [==============================] - 2s 333us/step - loss: 2.5737 - mean_squared_error: 0.1357 - val_loss: 1.0073 - val_mean_squared_error: 0.0385\n",
      "Epoch 14/100\n",
      "6752/6752 [==============================] - 2s 328us/step - loss: 2.5737 - mean_squared_error: 0.1357 - val_loss: 1.0073 - val_mean_squared_error: 0.0385\n",
      "\n",
      "Epoch 00014: ReduceLROnPlateau reducing learning rate to 0.0006249999860301614.\n",
      "Epoch 15/100\n",
      "6752/6752 [==============================] - 2s 333us/step - loss: 2.5737 - mean_squared_error: 0.1357 - val_loss: 1.0073 - val_mean_squared_error: 0.0385\n",
      "Epoch 16/100\n",
      "6752/6752 [==============================] - 2s 334us/step - loss: 2.5737 - mean_squared_error: 0.1357 - val_loss: 1.0073 - val_mean_squared_error: 0.0385\n",
      "Epoch 17/100\n",
      "6752/6752 [==============================] - 2s 332us/step - loss: 2.5737 - mean_squared_error: 0.1357 - val_loss: 1.0073 - val_mean_squared_error: 0.0385\n",
      "\n",
      "Epoch 00017: ReduceLROnPlateau reducing learning rate to 0.0003124999930150807.\n",
      "Epoch 18/100\n",
      "6752/6752 [==============================] - 2s 333us/step - loss: 2.5737 - mean_squared_error: 0.1357 - val_loss: 1.0073 - val_mean_squared_error: 0.0385\n",
      "Epoch 19/100\n",
      "6752/6752 [==============================] - 2s 342us/step - loss: 2.5737 - mean_squared_error: 0.1357 - val_loss: 1.0073 - val_mean_squared_error: 0.0385\n",
      "Epoch 20/100\n",
      "6752/6752 [==============================] - 2s 334us/step - loss: 2.5737 - mean_squared_error: 0.1357 - val_loss: 1.0073 - val_mean_squared_error: 0.0385\n",
      "\n",
      "Epoch 00020: ReduceLROnPlateau reducing learning rate to 0.00015624999650754035.\n",
      "Epoch 21/100\n",
      "6752/6752 [==============================] - 2s 337us/step - loss: 2.5737 - mean_squared_error: 0.1357 - val_loss: 1.0073 - val_mean_squared_error: 0.0385\n",
      "Epoch 22/100\n",
      "6752/6752 [==============================] - 2s 336us/step - loss: 2.5737 - mean_squared_error: 0.1357 - val_loss: 1.0073 - val_mean_squared_error: 0.0385\n",
      "Epoch 23/100\n",
      "6752/6752 [==============================] - 2s 335us/step - loss: 2.5737 - mean_squared_error: 0.1357 - val_loss: 1.0073 - val_mean_squared_error: 0.0385\n",
      "\n",
      "Epoch 00023: ReduceLROnPlateau reducing learning rate to 7.812499825377017e-05.\n",
      "Epoch 24/100\n",
      "6752/6752 [==============================] - 2s 342us/step - loss: 2.5737 - mean_squared_error: 0.1357 - val_loss: 1.0073 - val_mean_squared_error: 0.0385\n",
      "Epoch 25/100\n",
      "6752/6752 [==============================] - 2s 347us/step - loss: 2.5737 - mean_squared_error: 0.1357 - val_loss: 1.0073 - val_mean_squared_error: 0.0385\n",
      "Epoch 26/100\n",
      "6752/6752 [==============================] - 2s 339us/step - loss: 2.5737 - mean_squared_error: 0.1357 - val_loss: 1.0073 - val_mean_squared_error: 0.0385\n",
      "\n",
      "Epoch 00026: ReduceLROnPlateau reducing learning rate to 3.9062499126885086e-05.\n",
      "Epoch 27/100\n",
      "6752/6752 [==============================] - 2s 342us/step - loss: 2.5737 - mean_squared_error: 0.1357 - val_loss: 1.0073 - val_mean_squared_error: 0.0385\n",
      "Epoch 28/100\n",
      "6752/6752 [==============================] - 2s 341us/step - loss: 2.5737 - mean_squared_error: 0.1357 - val_loss: 1.0073 - val_mean_squared_error: 0.0385\n",
      "Epoch 29/100\n",
      "6752/6752 [==============================] - 2s 349us/step - loss: 2.5737 - mean_squared_error: 0.1357 - val_loss: 1.0073 - val_mean_squared_error: 0.0385\n",
      "\n",
      "Epoch 00029: ReduceLROnPlateau reducing learning rate to 1.9531249563442543e-05.\n",
      "Epoch 30/100\n",
      "6752/6752 [==============================] - 2s 342us/step - loss: 2.5737 - mean_squared_error: 0.1357 - val_loss: 1.0073 - val_mean_squared_error: 0.0385\n",
      "Epoch 31/100\n",
      "6752/6752 [==============================] - 2s 347us/step - loss: 2.5737 - mean_squared_error: 0.1357 - val_loss: 1.0073 - val_mean_squared_error: 0.0385\n",
      "Epoch 32/100\n",
      "6752/6752 [==============================] - 2s 336us/step - loss: 2.5737 - mean_squared_error: 0.1357 - val_loss: 1.0073 - val_mean_squared_error: 0.0385\n",
      "\n",
      "Epoch 00032: ReduceLROnPlateau reducing learning rate to 9.765624781721272e-06.\n",
      "Epoch 33/100\n",
      "6752/6752 [==============================] - 2s 338us/step - loss: 2.5737 - mean_squared_error: 0.1357 - val_loss: 1.0073 - val_mean_squared_error: 0.0385\n",
      "Epoch 34/100\n",
      "6752/6752 [==============================] - 2s 331us/step - loss: 2.5737 - mean_squared_error: 0.1357 - val_loss: 1.0073 - val_mean_squared_error: 0.0385\n",
      "Epoch 35/100\n",
      "6752/6752 [==============================] - 2s 340us/step - loss: 2.5737 - mean_squared_error: 0.1357 - val_loss: 1.0073 - val_mean_squared_error: 0.0385\n",
      "\n",
      "Epoch 00035: ReduceLROnPlateau reducing learning rate to 4.882812390860636e-06.\n",
      "Epoch 36/100\n",
      "6752/6752 [==============================] - 2s 332us/step - loss: 2.5737 - mean_squared_error: 0.1357 - val_loss: 1.0073 - val_mean_squared_error: 0.0385\n",
      "Epoch 37/100\n",
      "6752/6752 [==============================] - 2s 343us/step - loss: 2.5737 - mean_squared_error: 0.1357 - val_loss: 1.0073 - val_mean_squared_error: 0.0385\n",
      "Epoch 38/100\n",
      "6752/6752 [==============================] - 2s 333us/step - loss: 2.5737 - mean_squared_error: 0.1357 - val_loss: 1.0073 - val_mean_squared_error: 0.0385\n",
      "\n",
      "Epoch 00038: ReduceLROnPlateau reducing learning rate to 2.441406195430318e-06.\n",
      "Epoch 39/100\n",
      "6752/6752 [==============================] - 2s 334us/step - loss: 2.5737 - mean_squared_error: 0.1357 - val_loss: 1.0073 - val_mean_squared_error: 0.0385\n",
      "Epoch 40/100\n",
      "6752/6752 [==============================] - 2s 336us/step - loss: 2.5737 - mean_squared_error: 0.1357 - val_loss: 1.0073 - val_mean_squared_error: 0.0385\n",
      "Epoch 41/100\n",
      "6752/6752 [==============================] - 2s 335us/step - loss: 2.5737 - mean_squared_error: 0.1357 - val_loss: 1.0073 - val_mean_squared_error: 0.0385\n",
      "\n",
      "Epoch 00041: ReduceLROnPlateau reducing learning rate to 1.220703097715159e-06.\n",
      "Epoch 42/100\n"
     ]
    },
    {
     "name": "stdout",
     "output_type": "stream",
     "text": [
      "6752/6752 [==============================] - 2s 337us/step - loss: 2.5737 - mean_squared_error: 0.1357 - val_loss: 1.0073 - val_mean_squared_error: 0.0385\n",
      "Epoch 43/100\n",
      "6752/6752 [==============================] - 2s 332us/step - loss: 2.5737 - mean_squared_error: 0.1357 - val_loss: 1.0073 - val_mean_squared_error: 0.0385\n",
      "Epoch 44/100\n",
      "6752/6752 [==============================] - 2s 333us/step - loss: 2.5737 - mean_squared_error: 0.1357 - val_loss: 1.0073 - val_mean_squared_error: 0.0385\n",
      "\n",
      "Epoch 00044: ReduceLROnPlateau reducing learning rate to 6.103515488575795e-07.\n",
      "Epoch 45/100\n",
      "6752/6752 [==============================] - 2s 341us/step - loss: 2.5737 - mean_squared_error: 0.1357 - val_loss: 1.0073 - val_mean_squared_error: 0.0385\n",
      "Epoch 46/100\n",
      "6752/6752 [==============================] - 2s 347us/step - loss: 2.5737 - mean_squared_error: 0.1357 - val_loss: 1.0073 - val_mean_squared_error: 0.0385\n",
      "Epoch 47/100\n",
      "6752/6752 [==============================] - 2s 337us/step - loss: 2.5737 - mean_squared_error: 0.1357 - val_loss: 1.0073 - val_mean_squared_error: 0.0385\n",
      "\n",
      "Epoch 00047: ReduceLROnPlateau reducing learning rate to 3.0517577442878974e-07.\n",
      "Epoch 48/100\n",
      "6752/6752 [==============================] - 2s 341us/step - loss: 2.5737 - mean_squared_error: 0.1357 - val_loss: 1.0073 - val_mean_squared_error: 0.0385\n",
      "Epoch 49/100\n",
      "6752/6752 [==============================] - 2s 336us/step - loss: 2.5737 - mean_squared_error: 0.1357 - val_loss: 1.0073 - val_mean_squared_error: 0.0385\n",
      "Epoch 50/100\n",
      "6752/6752 [==============================] - 2s 337us/step - loss: 2.5737 - mean_squared_error: 0.1357 - val_loss: 1.0073 - val_mean_squared_error: 0.0385\n",
      "\n",
      "Epoch 00050: ReduceLROnPlateau reducing learning rate to 1.5258788721439487e-07.\n",
      "Epoch 51/100\n",
      "6752/6752 [==============================] - 2s 332us/step - loss: 2.5737 - mean_squared_error: 0.1357 - val_loss: 1.0073 - val_mean_squared_error: 0.0385\n",
      "Epoch 52/100\n",
      "6752/6752 [==============================] - 2s 329us/step - loss: 2.5737 - mean_squared_error: 0.1357 - val_loss: 1.0073 - val_mean_squared_error: 0.0385\n",
      "Epoch 53/100\n",
      "6752/6752 [==============================] - 2s 334us/step - loss: 2.5737 - mean_squared_error: 0.1357 - val_loss: 1.0073 - val_mean_squared_error: 0.0385\n",
      "\n",
      "Epoch 00053: ReduceLROnPlateau reducing learning rate to 7.629394360719743e-08.\n",
      "Epoch 54/100\n",
      "6752/6752 [==============================] - 2s 335us/step - loss: 2.5737 - mean_squared_error: 0.1357 - val_loss: 1.0073 - val_mean_squared_error: 0.0385\n",
      "Epoch 55/100\n",
      "6752/6752 [==============================] - 2s 333us/step - loss: 2.5737 - mean_squared_error: 0.1357 - val_loss: 1.0073 - val_mean_squared_error: 0.0385\n",
      "Epoch 56/100\n",
      "6752/6752 [==============================] - 2s 329us/step - loss: 2.5737 - mean_squared_error: 0.1357 - val_loss: 1.0073 - val_mean_squared_error: 0.0385\n",
      "\n",
      "Epoch 00056: ReduceLROnPlateau reducing learning rate to 3.814697180359872e-08.\n",
      "Epoch 57/100\n",
      "6752/6752 [==============================] - 2s 333us/step - loss: 2.5737 - mean_squared_error: 0.1357 - val_loss: 1.0073 - val_mean_squared_error: 0.0385\n",
      "Epoch 58/100\n",
      "6752/6752 [==============================] - 2s 334us/step - loss: 2.5737 - mean_squared_error: 0.1357 - val_loss: 1.0073 - val_mean_squared_error: 0.0385\n",
      "Epoch 59/100\n",
      "6752/6752 [==============================] - 2s 335us/step - loss: 2.5737 - mean_squared_error: 0.1357 - val_loss: 1.0073 - val_mean_squared_error: 0.0385\n",
      "\n",
      "Epoch 00059: ReduceLROnPlateau reducing learning rate to 1.907348590179936e-08.\n",
      "Epoch 60/100\n",
      "6752/6752 [==============================] - 2s 322us/step - loss: 2.5737 - mean_squared_error: 0.1357 - val_loss: 1.0073 - val_mean_squared_error: 0.0385\n",
      "Epoch 61/100\n",
      "6752/6752 [==============================] - 2s 334us/step - loss: 2.5737 - mean_squared_error: 0.1357 - val_loss: 1.0073 - val_mean_squared_error: 0.0385\n",
      "Epoch 62/100\n",
      "6752/6752 [==============================] - 2s 327us/step - loss: 2.5737 - mean_squared_error: 0.1357 - val_loss: 1.0073 - val_mean_squared_error: 0.0385\n",
      "\n",
      "Epoch 00062: ReduceLROnPlateau reducing learning rate to 9.53674295089968e-09.\n",
      "Epoch 63/100\n",
      "6752/6752 [==============================] - 2s 335us/step - loss: 2.5737 - mean_squared_error: 0.1357 - val_loss: 1.0073 - val_mean_squared_error: 0.0385\n",
      "Epoch 64/100\n",
      "6752/6752 [==============================] - 2s 328us/step - loss: 2.5737 - mean_squared_error: 0.1357 - val_loss: 1.0073 - val_mean_squared_error: 0.0385\n",
      "Epoch 65/100\n",
      "6752/6752 [==============================] - 2s 332us/step - loss: 2.5737 - mean_squared_error: 0.1357 - val_loss: 1.0073 - val_mean_squared_error: 0.0385\n",
      "\n",
      "Epoch 00065: ReduceLROnPlateau reducing learning rate to 4.76837147544984e-09.\n",
      "Epoch 66/100\n",
      "6752/6752 [==============================] - 2s 339us/step - loss: 2.5737 - mean_squared_error: 0.1357 - val_loss: 1.0073 - val_mean_squared_error: 0.0385\n",
      "Epoch 67/100\n",
      "6752/6752 [==============================] - 2s 338us/step - loss: 2.5737 - mean_squared_error: 0.1357 - val_loss: 1.0073 - val_mean_squared_error: 0.0385\n",
      "Epoch 68/100\n",
      "6752/6752 [==============================] - 2s 332us/step - loss: 2.5737 - mean_squared_error: 0.1357 - val_loss: 1.0073 - val_mean_squared_error: 0.0385\n",
      "\n",
      "Epoch 00068: ReduceLROnPlateau reducing learning rate to 2.38418573772492e-09.\n",
      "Epoch 69/100\n",
      "6752/6752 [==============================] - 2s 333us/step - loss: 2.5737 - mean_squared_error: 0.1357 - val_loss: 1.0073 - val_mean_squared_error: 0.0385\n",
      "Epoch 70/100\n",
      "6752/6752 [==============================] - 2s 327us/step - loss: 2.5737 - mean_squared_error: 0.1357 - val_loss: 1.0073 - val_mean_squared_error: 0.0385\n",
      "Epoch 71/100\n",
      "6752/6752 [==============================] - 2s 332us/step - loss: 2.5737 - mean_squared_error: 0.1357 - val_loss: 1.0073 - val_mean_squared_error: 0.0385\n",
      "\n",
      "Epoch 00071: ReduceLROnPlateau reducing learning rate to 1.19209286886246e-09.\n",
      "Epoch 72/100\n",
      "6752/6752 [==============================] - 2s 337us/step - loss: 2.5737 - mean_squared_error: 0.1357 - val_loss: 1.0073 - val_mean_squared_error: 0.0385\n",
      "Epoch 73/100\n",
      "6752/6752 [==============================] - 2s 337us/step - loss: 2.5737 - mean_squared_error: 0.1357 - val_loss: 1.0073 - val_mean_squared_error: 0.0385\n",
      "Epoch 74/100\n",
      "6752/6752 [==============================] - 2s 337us/step - loss: 2.5737 - mean_squared_error: 0.1357 - val_loss: 1.0073 - val_mean_squared_error: 0.0385\n",
      "\n",
      "Epoch 00074: ReduceLROnPlateau reducing learning rate to 5.9604643443123e-10.\n",
      "Epoch 75/100\n",
      "6752/6752 [==============================] - 2s 336us/step - loss: 2.5737 - mean_squared_error: 0.1357 - val_loss: 1.0073 - val_mean_squared_error: 0.0385\n",
      "Epoch 76/100\n",
      "6752/6752 [==============================] - 2s 337us/step - loss: 2.5737 - mean_squared_error: 0.1357 - val_loss: 1.0073 - val_mean_squared_error: 0.0385\n",
      "Epoch 77/100\n",
      "6752/6752 [==============================] - 2s 338us/step - loss: 2.5737 - mean_squared_error: 0.1357 - val_loss: 1.0073 - val_mean_squared_error: 0.0385\n",
      "\n",
      "Epoch 00077: ReduceLROnPlateau reducing learning rate to 2.98023217215615e-10.\n",
      "Epoch 78/100\n",
      "6752/6752 [==============================] - 2s 338us/step - loss: 2.5737 - mean_squared_error: 0.1357 - val_loss: 1.0073 - val_mean_squared_error: 0.0385\n",
      "Epoch 79/100\n",
      "6752/6752 [==============================] - 2s 344us/step - loss: 2.5737 - mean_squared_error: 0.1357 - val_loss: 1.0073 - val_mean_squared_error: 0.0385\n",
      "Epoch 80/100\n",
      "6752/6752 [==============================] - 2s 334us/step - loss: 2.5737 - mean_squared_error: 0.1357 - val_loss: 1.0073 - val_mean_squared_error: 0.0385\n",
      "\n",
      "Epoch 00080: ReduceLROnPlateau reducing learning rate to 1.490116086078075e-10.\n",
      "Epoch 81/100\n",
      "6752/6752 [==============================] - 2s 343us/step - loss: 2.5737 - mean_squared_error: 0.1357 - val_loss: 1.0073 - val_mean_squared_error: 0.0385\n",
      "Epoch 82/100\n",
      "6752/6752 [==============================] - 2s 332us/step - loss: 2.5737 - mean_squared_error: 0.1357 - val_loss: 1.0073 - val_mean_squared_error: 0.0385\n",
      "Epoch 83/100\n",
      "6752/6752 [==============================] - 2s 334us/step - loss: 2.5737 - mean_squared_error: 0.1357 - val_loss: 1.0073 - val_mean_squared_error: 0.0385\n",
      "\n",
      "Epoch 00083: ReduceLROnPlateau reducing learning rate to 7.450580430390374e-11.\n",
      "Epoch 84/100\n"
     ]
    },
    {
     "name": "stdout",
     "output_type": "stream",
     "text": [
      "6752/6752 [==============================] - 2s 331us/step - loss: 2.5737 - mean_squared_error: 0.1357 - val_loss: 1.0073 - val_mean_squared_error: 0.0385\n",
      "Epoch 85/100\n",
      "6752/6752 [==============================] - 2s 332us/step - loss: 2.5737 - mean_squared_error: 0.1357 - val_loss: 1.0073 - val_mean_squared_error: 0.0385\n",
      "Epoch 86/100\n",
      "6752/6752 [==============================] - 2s 331us/step - loss: 2.5737 - mean_squared_error: 0.1357 - val_loss: 1.0073 - val_mean_squared_error: 0.0385\n",
      "\n",
      "Epoch 00086: ReduceLROnPlateau reducing learning rate to 3.725290215195187e-11.\n",
      "Epoch 87/100\n",
      "6752/6752 [==============================] - 2s 332us/step - loss: 2.5737 - mean_squared_error: 0.1357 - val_loss: 1.0073 - val_mean_squared_error: 0.0385\n",
      "Epoch 88/100\n",
      "6752/6752 [==============================] - 2s 332us/step - loss: 2.5737 - mean_squared_error: 0.1357 - val_loss: 1.0073 - val_mean_squared_error: 0.0385\n",
      "Epoch 89/100\n",
      "6752/6752 [==============================] - 2s 336us/step - loss: 2.5737 - mean_squared_error: 0.1357 - val_loss: 1.0073 - val_mean_squared_error: 0.0385\n",
      "\n",
      "Epoch 00089: ReduceLROnPlateau reducing learning rate to 1.8626451075975936e-11.\n",
      "Epoch 90/100\n",
      "6752/6752 [==============================] - 2s 340us/step - loss: 2.5737 - mean_squared_error: 0.1357 - val_loss: 1.0073 - val_mean_squared_error: 0.0385\n",
      "Epoch 91/100\n",
      "6752/6752 [==============================] - 2s 328us/step - loss: 2.5737 - mean_squared_error: 0.1357 - val_loss: 1.0073 - val_mean_squared_error: 0.0385\n",
      "Epoch 92/100\n",
      "6752/6752 [==============================] - 2s 333us/step - loss: 2.5737 - mean_squared_error: 0.1357 - val_loss: 1.0073 - val_mean_squared_error: 0.0385\n",
      "\n",
      "Epoch 00092: ReduceLROnPlateau reducing learning rate to 9.313225537987968e-12.\n",
      "Epoch 93/100\n",
      "6752/6752 [==============================] - 2s 334us/step - loss: 2.5737 - mean_squared_error: 0.1357 - val_loss: 1.0073 - val_mean_squared_error: 0.0385\n",
      "Epoch 94/100\n",
      "6752/6752 [==============================] - 2s 332us/step - loss: 2.5737 - mean_squared_error: 0.1357 - val_loss: 1.0073 - val_mean_squared_error: 0.0385\n",
      "Epoch 95/100\n",
      "6752/6752 [==============================] - 2s 335us/step - loss: 2.5737 - mean_squared_error: 0.1357 - val_loss: 1.0073 - val_mean_squared_error: 0.0385\n",
      "\n",
      "Epoch 00095: ReduceLROnPlateau reducing learning rate to 4.656612768993984e-12.\n",
      "Epoch 96/100\n",
      "6752/6752 [==============================] - 2s 331us/step - loss: 2.5737 - mean_squared_error: 0.1357 - val_loss: 1.0073 - val_mean_squared_error: 0.0385\n",
      "Epoch 97/100\n",
      "6752/6752 [==============================] - 2s 338us/step - loss: 2.5737 - mean_squared_error: 0.1357 - val_loss: 1.0073 - val_mean_squared_error: 0.0385\n",
      "Epoch 98/100\n",
      "6752/6752 [==============================] - 2s 338us/step - loss: 2.5737 - mean_squared_error: 0.1357 - val_loss: 1.0073 - val_mean_squared_error: 0.0385\n",
      "Restoring model weights from the end of the best epoch\n",
      "\n",
      "Epoch 00098: ReduceLROnPlateau reducing learning rate to 2.328306384496992e-12.\n",
      "Epoch 00098: early stopping\n"
     ]
    },
    {
     "data": {
      "text/plain": [
       "<keras.callbacks.History at 0x125bc20f0>"
      ]
     },
     "execution_count": 9,
     "metadata": {},
     "output_type": "execute_result"
    }
   ],
   "source": [
    "model.fit(\n",
    "    x, y, batch_size=512, epochs=100, validation_split=0.2, verbose=1,\n",
    "    callbacks=[\n",
    "        keras.callbacks.EarlyStopping(patience=75,verbose=1, mode='min', restore_best_weights=True),\n",
    "        keras.callbacks.ReduceLROnPlateau(factor=0.5,patience=3,verbose=1)\n",
    "    ])"
   ]
  },
  {
   "cell_type": "code",
   "execution_count": 10,
   "metadata": {
    "ExecuteTime": {
     "end_time": "2019-11-24T15:29:56.382175Z",
     "start_time": "2019-11-24T15:29:56.235701Z"
    }
   },
   "outputs": [
    {
     "name": "stdout",
     "output_type": "stream",
     "text": [
      "         NR.AhR: 0.50000\n"
     ]
    }
   ],
   "source": [
    "auc_te = roc_auc_score(y_te[target][rows_te], model.predict(x_te[rows_te]))\n",
    "print(\"%15s: %3.5f\" % (target, auc_te))"
   ]
  },
  {
   "cell_type": "markdown",
   "metadata": {},
   "source": [
    "Well, that's about as bad of a prediction as you can get!"
   ]
  },
  {
   "cell_type": "code",
   "execution_count": null,
   "metadata": {},
   "outputs": [],
   "source": []
  }
 ],
 "metadata": {
  "kernelspec": {
   "display_name": "Python [conda env:metis] *",
   "language": "python",
   "name": "conda-env-metis-py"
  },
  "language_info": {
   "codemirror_mode": {
    "name": "ipython",
    "version": 3
   },
   "file_extension": ".py",
   "mimetype": "text/x-python",
   "name": "python",
   "nbconvert_exporter": "python",
   "pygments_lexer": "ipython3",
   "version": "3.7.3"
  },
  "toc": {
   "base_numbering": 1,
   "nav_menu": {},
   "number_sections": true,
   "sideBar": true,
   "skip_h1_title": false,
   "title_cell": "Table of Contents",
   "title_sidebar": "Contents",
   "toc_cell": false,
   "toc_position": {},
   "toc_section_display": true,
   "toc_window_display": false
  }
 },
 "nbformat": 4,
 "nbformat_minor": 2
}
