{
 "cells": [
  {
   "cell_type": "markdown",
   "metadata": {},
   "source": [
    "# Library Imports"
   ]
  },
  {
   "cell_type": "code",
   "execution_count": 1,
   "metadata": {
    "ExecuteTime": {
     "end_time": "2019-11-24T08:16:00.689750Z",
     "start_time": "2019-11-24T08:15:59.047758Z"
    }
   },
   "outputs": [],
   "source": [
    "import os\n",
    "import numpy as np\n",
    "import pandas as pd\n",
    "from scipy import io\n",
    "# from sklearn import metrics\n",
    "from sklearn.metrics import roc_auc_score"
   ]
  },
  {
   "cell_type": "code",
   "execution_count": 2,
   "metadata": {
    "ExecuteTime": {
     "end_time": "2019-11-24T08:16:02.715413Z",
     "start_time": "2019-11-24T08:16:00.691937Z"
    }
   },
   "outputs": [
    {
     "name": "stderr",
     "output_type": "stream",
     "text": [
      "Using TensorFlow backend.\n",
      "/Users/sean/anaconda3/envs/metis/lib/python3.7/site-packages/tensorflow/python/framework/dtypes.py:526: FutureWarning: Passing (type, 1) or '1type' as a synonym of type is deprecated; in a future version of numpy, it will be understood as (type, (1,)) / '(1,)type'.\n",
      "  _np_qint8 = np.dtype([(\"qint8\", np.int8, 1)])\n",
      "/Users/sean/anaconda3/envs/metis/lib/python3.7/site-packages/tensorflow/python/framework/dtypes.py:527: FutureWarning: Passing (type, 1) or '1type' as a synonym of type is deprecated; in a future version of numpy, it will be understood as (type, (1,)) / '(1,)type'.\n",
      "  _np_quint8 = np.dtype([(\"quint8\", np.uint8, 1)])\n",
      "/Users/sean/anaconda3/envs/metis/lib/python3.7/site-packages/tensorflow/python/framework/dtypes.py:528: FutureWarning: Passing (type, 1) or '1type' as a synonym of type is deprecated; in a future version of numpy, it will be understood as (type, (1,)) / '(1,)type'.\n",
      "  _np_qint16 = np.dtype([(\"qint16\", np.int16, 1)])\n",
      "/Users/sean/anaconda3/envs/metis/lib/python3.7/site-packages/tensorflow/python/framework/dtypes.py:529: FutureWarning: Passing (type, 1) or '1type' as a synonym of type is deprecated; in a future version of numpy, it will be understood as (type, (1,)) / '(1,)type'.\n",
      "  _np_quint16 = np.dtype([(\"quint16\", np.uint16, 1)])\n",
      "/Users/sean/anaconda3/envs/metis/lib/python3.7/site-packages/tensorflow/python/framework/dtypes.py:530: FutureWarning: Passing (type, 1) or '1type' as a synonym of type is deprecated; in a future version of numpy, it will be understood as (type, (1,)) / '(1,)type'.\n",
      "  _np_qint32 = np.dtype([(\"qint32\", np.int32, 1)])\n",
      "/Users/sean/anaconda3/envs/metis/lib/python3.7/site-packages/tensorflow/python/framework/dtypes.py:535: FutureWarning: Passing (type, 1) or '1type' as a synonym of type is deprecated; in a future version of numpy, it will be understood as (type, (1,)) / '(1,)type'.\n",
      "  np_resource = np.dtype([(\"resource\", np.ubyte, 1)])\n"
     ]
    }
   ],
   "source": [
    "import keras"
   ]
  },
  {
   "cell_type": "code",
   "execution_count": 3,
   "metadata": {
    "ExecuteTime": {
     "end_time": "2019-11-24T08:16:02.838251Z",
     "start_time": "2019-11-24T08:16:02.717798Z"
    }
   },
   "outputs": [
    {
     "name": "stdout",
     "output_type": "stream",
     "text": [
      "/Users/sean/CloudStation/Metis/projects/project5\r\n"
     ]
    }
   ],
   "source": [
    "os.chdir('/Users/sean/CloudStation/Metis/projects/project5')\n",
    "!pwd"
   ]
  },
  {
   "cell_type": "markdown",
   "metadata": {},
   "source": [
    "# Load Data"
   ]
  },
  {
   "cell_type": "code",
   "execution_count": 4,
   "metadata": {
    "ExecuteTime": {
     "end_time": "2019-11-24T08:16:13.995738Z",
     "start_time": "2019-11-24T08:16:02.841974Z"
    }
   },
   "outputs": [],
   "source": [
    "# load data\n",
    "raw_data = './data/raw/tox21/'\n",
    "y_tr = pd.read_csv(raw_data+'tox21_labels_train.csv.gz', index_col=0, compression=\"gzip\")\n",
    "y_te = pd.read_csv(raw_data+'tox21_labels_test.csv.gz', index_col=0, compression=\"gzip\")\n",
    "x_tr_dense = pd.read_csv(raw_data+'tox21_dense_train.csv.gz', index_col=0, compression=\"gzip\").values\n",
    "x_te_dense = pd.read_csv(raw_data+'tox21_dense_test.csv.gz', index_col=0, compression=\"gzip\").values\n",
    "x_tr_sparse = io.mmread(raw_data+'tox21_sparse_train.mtx.gz').tocsc()\n",
    "x_te_sparse = io.mmread(raw_data+'tox21_sparse_test.mtx.gz').tocsc()\n",
    "# filter out very sparse features\n",
    "sparse_col_idx = ((x_tr_sparse > 0).mean(0) > 0.05).A.ravel()\n",
    "x_tr = np.hstack([x_tr_dense, x_tr_sparse[:, sparse_col_idx].A])\n",
    "x_te = np.hstack([x_te_dense, x_te_sparse[:, sparse_col_idx].A])"
   ]
  },
  {
   "cell_type": "markdown",
   "metadata": {},
   "source": [
    "# Choose Target"
   ]
  },
  {
   "cell_type": "code",
   "execution_count": 5,
   "metadata": {
    "ExecuteTime": {
     "end_time": "2019-11-24T08:16:14.008613Z",
     "start_time": "2019-11-24T08:16:13.997552Z"
    }
   },
   "outputs": [
    {
     "data": {
      "text/plain": [
       "Index(['NR.AhR', 'NR.AR', 'NR.AR.LBD', 'NR.Aromatase', 'NR.ER', 'NR.ER.LBD',\n",
       "       'NR.PPAR.gamma', 'SR.ARE', 'SR.ATAD5', 'SR.HSE', 'SR.MMP', 'SR.p53'],\n",
       "      dtype='object')"
      ]
     },
     "execution_count": 5,
     "metadata": {},
     "output_type": "execute_result"
    }
   ],
   "source": [
    "y_tr.columns"
   ]
  },
  {
   "cell_type": "code",
   "execution_count": 6,
   "metadata": {
    "ExecuteTime": {
     "end_time": "2019-11-24T08:16:14.248565Z",
     "start_time": "2019-11-24T08:16:14.010700Z"
    }
   },
   "outputs": [
    {
     "data": {
      "text/plain": [
       "(8441, 1644)"
      ]
     },
     "execution_count": 6,
     "metadata": {},
     "output_type": "execute_result"
    }
   ],
   "source": [
    "# for target in y_tr.columns:\n",
    "target = 'NR.AhR'\n",
    "rows_tr = np.isfinite(y_tr[target]).values\n",
    "rows_te = np.isfinite(y_te[target]).values\n",
    "x,y = x_tr[rows_tr], y_tr[target][rows_tr]\n",
    "x.shape"
   ]
  },
  {
   "cell_type": "markdown",
   "metadata": {},
   "source": [
    "# Build Neural Network"
   ]
  },
  {
   "cell_type": "code",
   "execution_count": 7,
   "metadata": {
    "ExecuteTime": {
     "end_time": "2019-11-24T08:16:14.254363Z",
     "start_time": "2019-11-24T08:16:14.250367Z"
    }
   },
   "outputs": [
    {
     "data": {
      "text/plain": [
       "tuple"
      ]
     },
     "execution_count": 7,
     "metadata": {},
     "output_type": "execute_result"
    }
   ],
   "source": [
    "type(x.shape[1:])"
   ]
  },
  {
   "cell_type": "code",
   "execution_count": 8,
   "metadata": {
    "ExecuteTime": {
     "end_time": "2019-11-24T08:16:14.429538Z",
     "start_time": "2019-11-24T08:16:14.257405Z"
    }
   },
   "outputs": [
    {
     "name": "stdout",
     "output_type": "stream",
     "text": [
      "WARNING:tensorflow:From /Users/sean/anaconda3/envs/metis/lib/python3.7/site-packages/tensorflow/python/framework/op_def_library.py:263: colocate_with (from tensorflow.python.framework.ops) is deprecated and will be removed in a future version.\n",
      "Instructions for updating:\n",
      "Colocations handled automatically by placer.\n",
      "WARNING:tensorflow:From /Users/sean/anaconda3/envs/metis/lib/python3.7/site-packages/keras/backend/tensorflow_backend.py:3733: calling dropout (from tensorflow.python.ops.nn_ops) with keep_prob is deprecated and will be removed in a future version.\n",
      "Instructions for updating:\n",
      "Please use `rate` instead of `keep_prob`. Rate should be set to `rate = 1 - keep_prob`.\n",
      "Model: \"sequential_1\"\n",
      "_________________________________________________________________\n",
      "Layer (type)                 Output Shape              Param #   \n",
      "=================================================================\n",
      "h1_relu_activation (Dense)   (None, 2048)              3368960   \n",
      "_________________________________________________________________\n",
      "h2_relu_activation (Dense)   (None, 2048)              4196352   \n",
      "_________________________________________________________________\n",
      "Dropout (Dropout)            (None, 2048)              0         \n",
      "_________________________________________________________________\n",
      "dense_1 (Dense)              (None, 1)                 2049      \n",
      "=================================================================\n",
      "Total params: 7,567,361\n",
      "Trainable params: 7,567,361\n",
      "Non-trainable params: 0\n",
      "_________________________________________________________________\n"
     ]
    }
   ],
   "source": [
    "drop_out=0.5\n",
    "L2_reg = keras.regularizers.l2(0.00001)\n",
    "model = keras.Sequential([\n",
    "    keras.layers.InputLayer(input_shape=x.shape[1:],name='Input_Layer'),\n",
    "    keras.layers.Dense(units=2048, activation=\"relu\",name='h1_relu_activation',\\\n",
    "                       kernel_regularizer=L2_reg),\n",
    "    keras.layers.Dense(units=2048, activation=\"relu\",name='h2_relu_activation',\\\n",
    "                       kernel_regularizer=L2_reg),\n",
    "    keras.layers.Dropout(drop_out,name='Dropout'),\n",
    "    keras.layers.Dense(units=1, activation='sigmoid')\n",
    "])\n",
    "model.compile(optimizer='sgd', loss='binary_crossentropy', metrics=['mean_squared_error'])\n",
    "model.summary()"
   ]
  },
  {
   "cell_type": "code",
   "execution_count": 9,
   "metadata": {
    "ExecuteTime": {
     "end_time": "2019-11-24T08:16:57.542611Z",
     "start_time": "2019-11-24T08:16:14.431882Z"
    }
   },
   "outputs": [
    {
     "name": "stdout",
     "output_type": "stream",
     "text": [
      "WARNING:tensorflow:From /Users/sean/anaconda3/envs/metis/lib/python3.7/site-packages/tensorflow/python/ops/math_ops.py:3066: to_int32 (from tensorflow.python.ops.math_ops) is deprecated and will be removed in a future version.\n",
      "Instructions for updating:\n",
      "Use tf.cast instead.\n",
      "Train on 6752 samples, validate on 1689 samples\n",
      "Epoch 1/100\n",
      "6752/6752 [==============================] - 3s 403us/step - loss: 2.2984 - mean_squared_error: 0.1417 - val_loss: 0.6590 - val_mean_squared_error: 0.0385\n",
      "Epoch 2/100\n",
      "6752/6752 [==============================] - 2s 309us/step - loss: 2.2254 - mean_squared_error: 0.1357 - val_loss: 0.6590 - val_mean_squared_error: 0.0385\n",
      "Epoch 3/100\n",
      "6752/6752 [==============================] - 2s 336us/step - loss: 2.2254 - mean_squared_error: 0.1357 - val_loss: 0.6590 - val_mean_squared_error: 0.0385\n",
      "Epoch 4/100\n",
      "6752/6752 [==============================] - 2s 341us/step - loss: 2.2254 - mean_squared_error: 0.1357 - val_loss: 0.6590 - val_mean_squared_error: 0.0385\n",
      "\n",
      "Epoch 00004: ReduceLROnPlateau reducing learning rate to 0.004999999888241291.\n",
      "Epoch 5/100\n",
      "6752/6752 [==============================] - 2s 340us/step - loss: 2.2254 - mean_squared_error: 0.1357 - val_loss: 0.6590 - val_mean_squared_error: 0.0385\n",
      "Epoch 6/100\n",
      "6752/6752 [==============================] - 2s 344us/step - loss: 2.2254 - mean_squared_error: 0.1357 - val_loss: 0.6590 - val_mean_squared_error: 0.0385\n",
      "Epoch 7/100\n",
      "6752/6752 [==============================] - 2s 340us/step - loss: 2.2254 - mean_squared_error: 0.1357 - val_loss: 0.6590 - val_mean_squared_error: 0.0385\n",
      "\n",
      "Epoch 00007: ReduceLROnPlateau reducing learning rate to 0.0024999999441206455.\n",
      "Epoch 8/100\n",
      "6752/6752 [==============================] - 2s 344us/step - loss: 2.2254 - mean_squared_error: 0.1357 - val_loss: 0.6590 - val_mean_squared_error: 0.0385\n",
      "Epoch 9/100\n",
      "6752/6752 [==============================] - 2s 345us/step - loss: 2.2254 - mean_squared_error: 0.1357 - val_loss: 0.6590 - val_mean_squared_error: 0.0385\n",
      "Epoch 10/100\n",
      "6752/6752 [==============================] - 2s 342us/step - loss: 2.2254 - mean_squared_error: 0.1357 - val_loss: 0.6590 - val_mean_squared_error: 0.0385\n",
      "\n",
      "Epoch 00010: ReduceLROnPlateau reducing learning rate to 0.0012499999720603228.\n",
      "Epoch 11/100\n",
      "6752/6752 [==============================] - 2s 346us/step - loss: 2.2254 - mean_squared_error: 0.1357 - val_loss: 0.6590 - val_mean_squared_error: 0.0385\n",
      "Epoch 12/100\n",
      "6752/6752 [==============================] - 2s 347us/step - loss: 2.2254 - mean_squared_error: 0.1357 - val_loss: 0.6590 - val_mean_squared_error: 0.0385\n",
      "Epoch 13/100\n",
      "6752/6752 [==============================] - 2s 353us/step - loss: 2.2254 - mean_squared_error: 0.1357 - val_loss: 0.6590 - val_mean_squared_error: 0.0385\n",
      "\n",
      "Epoch 00013: ReduceLROnPlateau reducing learning rate to 0.0006249999860301614.\n",
      "Epoch 14/100\n",
      "6752/6752 [==============================] - 2s 367us/step - loss: 2.2254 - mean_squared_error: 0.1357 - val_loss: 0.6590 - val_mean_squared_error: 0.0385\n",
      "Epoch 15/100\n",
      "6752/6752 [==============================] - 2s 358us/step - loss: 2.2254 - mean_squared_error: 0.1357 - val_loss: 0.6590 - val_mean_squared_error: 0.0385\n",
      "Epoch 16/100\n",
      "6752/6752 [==============================] - 3s 382us/step - loss: 2.2254 - mean_squared_error: 0.1357 - val_loss: 0.6590 - val_mean_squared_error: 0.0385\n",
      "\n",
      "Epoch 00016: ReduceLROnPlateau reducing learning rate to 0.0003124999930150807.\n",
      "Epoch 17/100\n",
      "6752/6752 [==============================] - 2s 366us/step - loss: 2.2254 - mean_squared_error: 0.1357 - val_loss: 0.6590 - val_mean_squared_error: 0.0385\n",
      "Epoch 18/100\n",
      "6752/6752 [==============================] - 2s 361us/step - loss: 2.2254 - mean_squared_error: 0.1357 - val_loss: 0.6590 - val_mean_squared_error: 0.0385\n",
      "Restoring model weights from the end of the best epoch\n",
      "Epoch 00018: early stopping\n"
     ]
    },
    {
     "data": {
      "text/plain": [
       "<keras.callbacks.History at 0x10a4cecf8>"
      ]
     },
     "execution_count": 9,
     "metadata": {},
     "output_type": "execute_result"
    }
   ],
   "source": [
    "model.fit(\n",
    "    x, y, batch_size=512, epochs=100, validation_split=0.2, verbose=1,\n",
    "    callbacks=[\n",
    "        keras.callbacks.EarlyStopping(patience=8,verbose=1, restore_best_weights=True),\n",
    "        keras.callbacks.ReduceLROnPlateau(factor=0.5,patience=3,verbose=1)\n",
    "    ])"
   ]
  },
  {
   "cell_type": "code",
   "execution_count": 10,
   "metadata": {
    "ExecuteTime": {
     "end_time": "2019-11-24T08:16:57.735449Z",
     "start_time": "2019-11-24T08:16:57.545257Z"
    }
   },
   "outputs": [
    {
     "name": "stdout",
     "output_type": "stream",
     "text": [
      "         NR.AhR: 0.50000\n"
     ]
    }
   ],
   "source": [
    "auc_te = roc_auc_score(y_te[target][rows_te], model.predict(x_te[rows_te]))\n",
    "print(\"%15s: %3.5f\" % (target, auc_te))"
   ]
  },
  {
   "cell_type": "code",
   "execution_count": null,
   "metadata": {},
   "outputs": [],
   "source": []
  }
 ],
 "metadata": {
  "kernelspec": {
   "display_name": "Python [conda env:metis] *",
   "language": "python",
   "name": "conda-env-metis-py"
  },
  "language_info": {
   "codemirror_mode": {
    "name": "ipython",
    "version": 3
   },
   "file_extension": ".py",
   "mimetype": "text/x-python",
   "name": "python",
   "nbconvert_exporter": "python",
   "pygments_lexer": "ipython3",
   "version": "3.7.3"
  },
  "toc": {
   "base_numbering": 1,
   "nav_menu": {},
   "number_sections": true,
   "sideBar": true,
   "skip_h1_title": false,
   "title_cell": "Table of Contents",
   "title_sidebar": "Contents",
   "toc_cell": false,
   "toc_position": {},
   "toc_section_display": true,
   "toc_window_display": false
  }
 },
 "nbformat": 4,
 "nbformat_minor": 2
}
