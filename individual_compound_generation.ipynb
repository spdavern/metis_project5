{
 "cells": [
  {
   "cell_type": "markdown",
   "metadata": {},
   "source": [
    "# Library Imports"
   ]
  },
  {
   "cell_type": "code",
   "execution_count": 3,
   "metadata": {
    "ExecuteTime": {
     "end_time": "2019-12-05T20:09:37.771899Z",
     "start_time": "2019-12-05T20:09:33.714450Z"
    }
   },
   "outputs": [
    {
     "name": "stderr",
     "output_type": "stream",
     "text": [
      "Using TensorFlow backend.\n",
      "/Users/sean/anaconda3/envs/metis/lib/python3.7/site-packages/tensorflow/python/framework/dtypes.py:526: FutureWarning: Passing (type, 1) or '1type' as a synonym of type is deprecated; in a future version of numpy, it will be understood as (type, (1,)) / '(1,)type'.\n",
      "  _np_qint8 = np.dtype([(\"qint8\", np.int8, 1)])\n",
      "/Users/sean/anaconda3/envs/metis/lib/python3.7/site-packages/tensorflow/python/framework/dtypes.py:527: FutureWarning: Passing (type, 1) or '1type' as a synonym of type is deprecated; in a future version of numpy, it will be understood as (type, (1,)) / '(1,)type'.\n",
      "  _np_quint8 = np.dtype([(\"quint8\", np.uint8, 1)])\n",
      "/Users/sean/anaconda3/envs/metis/lib/python3.7/site-packages/tensorflow/python/framework/dtypes.py:528: FutureWarning: Passing (type, 1) or '1type' as a synonym of type is deprecated; in a future version of numpy, it will be understood as (type, (1,)) / '(1,)type'.\n",
      "  _np_qint16 = np.dtype([(\"qint16\", np.int16, 1)])\n",
      "/Users/sean/anaconda3/envs/metis/lib/python3.7/site-packages/tensorflow/python/framework/dtypes.py:529: FutureWarning: Passing (type, 1) or '1type' as a synonym of type is deprecated; in a future version of numpy, it will be understood as (type, (1,)) / '(1,)type'.\n",
      "  _np_quint16 = np.dtype([(\"quint16\", np.uint16, 1)])\n",
      "/Users/sean/anaconda3/envs/metis/lib/python3.7/site-packages/tensorflow/python/framework/dtypes.py:530: FutureWarning: Passing (type, 1) or '1type' as a synonym of type is deprecated; in a future version of numpy, it will be understood as (type, (1,)) / '(1,)type'.\n",
      "  _np_qint32 = np.dtype([(\"qint32\", np.int32, 1)])\n",
      "/Users/sean/anaconda3/envs/metis/lib/python3.7/site-packages/tensorflow/python/framework/dtypes.py:535: FutureWarning: Passing (type, 1) or '1type' as a synonym of type is deprecated; in a future version of numpy, it will be understood as (type, (1,)) / '(1,)type'.\n",
      "  np_resource = np.dtype([(\"resource\", np.ubyte, 1)])\n"
     ]
    }
   ],
   "source": [
    "import os\n",
    "import pickle\n",
    "import numpy as np\n",
    "import pandas as pd\n",
    "from src.helper_functions import load_data"
   ]
  },
  {
   "cell_type": "markdown",
   "metadata": {},
   "source": [
    "# Load Data"
   ]
  },
  {
   "cell_type": "code",
   "execution_count": 4,
   "metadata": {
    "ExecuteTime": {
     "end_time": "2019-12-05T20:09:51.658209Z",
     "start_time": "2019-12-05T20:09:40.146390Z"
    }
   },
   "outputs": [],
   "source": [
    "_, _, x_te, y_te = load_data()"
   ]
  },
  {
   "cell_type": "code",
   "execution_count": 7,
   "metadata": {
    "ExecuteTime": {
     "end_time": "2019-12-05T20:11:03.689660Z",
     "start_time": "2019-12-05T20:11:03.544544Z"
    }
   },
   "outputs": [],
   "source": [
    "raw_data = './data/raw/tox21/'\n",
    "x_te_dense = pd.read_csv(raw_data+'tox21_dense_test.csv.gz', index_col=0, compression=\"gzip\")\n",
    "y_te = pd.read_csv(raw_data+'tox21_labels_test.csv.gz', index_col=0, compression=\"gzip\")"
   ]
  },
  {
   "cell_type": "code",
   "execution_count": 11,
   "metadata": {
    "ExecuteTime": {
     "end_time": "2019-12-05T20:12:32.833456Z",
     "start_time": "2019-12-05T20:12:32.822007Z"
    }
   },
   "outputs": [
    {
     "data": {
      "text/html": [
       "<div>\n",
       "<style scoped>\n",
       "    .dataframe tbody tr th:only-of-type {\n",
       "        vertical-align: middle;\n",
       "    }\n",
       "\n",
       "    .dataframe tbody tr th {\n",
       "        vertical-align: top;\n",
       "    }\n",
       "\n",
       "    .dataframe thead th {\n",
       "        text-align: right;\n",
       "    }\n",
       "</style>\n",
       "<table border=\"1\" class=\"dataframe\">\n",
       "  <thead>\n",
       "    <tr style=\"text-align: right;\">\n",
       "      <th></th>\n",
       "      <th>AW</th>\n",
       "      <th>AWeight</th>\n",
       "      <th>Arto</th>\n",
       "      <th>BertzCT</th>\n",
       "      <th>Chi0</th>\n",
       "      <th>Chi1</th>\n",
       "      <th>Chi10</th>\n",
       "      <th>Chi2</th>\n",
       "      <th>Chi3</th>\n",
       "      <th>Chi3c</th>\n",
       "    </tr>\n",
       "  </thead>\n",
       "  <tbody>\n",
       "    <tr>\n",
       "      <td>NCGC00261900-01</td>\n",
       "      <td>2.612482e+07</td>\n",
       "      <td>12.688</td>\n",
       "      <td>2.226</td>\n",
       "      <td>3.226</td>\n",
       "      <td>37.329</td>\n",
       "      <td>25.440</td>\n",
       "      <td>3.663</td>\n",
       "      <td>24.200</td>\n",
       "      <td>20.222</td>\n",
       "      <td>4.565</td>\n",
       "    </tr>\n",
       "    <tr>\n",
       "      <td>NCGC00260869-01</td>\n",
       "      <td>8.333337e+06</td>\n",
       "      <td>17.500</td>\n",
       "      <td>2.167</td>\n",
       "      <td>2.923</td>\n",
       "      <td>16.353</td>\n",
       "      <td>10.872</td>\n",
       "      <td>1.193</td>\n",
       "      <td>11.116</td>\n",
       "      <td>9.279</td>\n",
       "      <td>2.693</td>\n",
       "    </tr>\n",
       "  </tbody>\n",
       "</table>\n",
       "</div>"
      ],
      "text/plain": [
       "                           AW  AWeight   Arto  BertzCT    Chi0    Chi1  Chi10  \\\n",
       "NCGC00261900-01  2.612482e+07   12.688  2.226    3.226  37.329  25.440  3.663   \n",
       "NCGC00260869-01  8.333337e+06   17.500  2.167    2.923  16.353  10.872  1.193   \n",
       "\n",
       "                   Chi2    Chi3  Chi3c  \n",
       "NCGC00261900-01  24.200  20.222  4.565  \n",
       "NCGC00260869-01  11.116   9.279  2.693  "
      ]
     },
     "execution_count": 11,
     "metadata": {},
     "output_type": "execute_result"
    }
   ],
   "source": [
    "x_te_dense.iloc[0:2,0:10]"
   ]
  },
  {
   "cell_type": "code",
   "execution_count": 12,
   "metadata": {
    "ExecuteTime": {
     "end_time": "2019-12-05T20:27:01.101949Z",
     "start_time": "2019-12-05T20:27:01.090467Z"
    }
   },
   "outputs": [
    {
     "data": {
      "text/html": [
       "<div>\n",
       "<style scoped>\n",
       "    .dataframe tbody tr th:only-of-type {\n",
       "        vertical-align: middle;\n",
       "    }\n",
       "\n",
       "    .dataframe tbody tr th {\n",
       "        vertical-align: top;\n",
       "    }\n",
       "\n",
       "    .dataframe thead th {\n",
       "        text-align: right;\n",
       "    }\n",
       "</style>\n",
       "<table border=\"1\" class=\"dataframe\">\n",
       "  <thead>\n",
       "    <tr style=\"text-align: right;\">\n",
       "      <th></th>\n",
       "      <th>NR.AhR</th>\n",
       "      <th>NR.AR</th>\n",
       "      <th>NR.AR.LBD</th>\n",
       "      <th>NR.Aromatase</th>\n",
       "      <th>NR.ER</th>\n",
       "      <th>NR.ER.LBD</th>\n",
       "      <th>NR.PPAR.gamma</th>\n",
       "      <th>SR.ARE</th>\n",
       "      <th>SR.ATAD5</th>\n",
       "      <th>SR.HSE</th>\n",
       "      <th>SR.MMP</th>\n",
       "      <th>SR.p53</th>\n",
       "    </tr>\n",
       "  </thead>\n",
       "  <tbody>\n",
       "    <tr>\n",
       "      <td>NCGC00261900-01</td>\n",
       "      <td>0.0</td>\n",
       "      <td>1.0</td>\n",
       "      <td>NaN</td>\n",
       "      <td>0.0</td>\n",
       "      <td>0.0</td>\n",
       "      <td>0.0</td>\n",
       "      <td>0.0</td>\n",
       "      <td>NaN</td>\n",
       "      <td>0.0</td>\n",
       "      <td>0.0</td>\n",
       "      <td>NaN</td>\n",
       "      <td>0.0</td>\n",
       "    </tr>\n",
       "    <tr>\n",
       "      <td>NCGC00260869-01</td>\n",
       "      <td>0.0</td>\n",
       "      <td>1.0</td>\n",
       "      <td>NaN</td>\n",
       "      <td>NaN</td>\n",
       "      <td>0.0</td>\n",
       "      <td>0.0</td>\n",
       "      <td>0.0</td>\n",
       "      <td>0.0</td>\n",
       "      <td>0.0</td>\n",
       "      <td>0.0</td>\n",
       "      <td>0.0</td>\n",
       "      <td>0.0</td>\n",
       "    </tr>\n",
       "  </tbody>\n",
       "</table>\n",
       "</div>"
      ],
      "text/plain": [
       "                 NR.AhR  NR.AR  NR.AR.LBD  NR.Aromatase  NR.ER  NR.ER.LBD  \\\n",
       "NCGC00261900-01     0.0    1.0        NaN           0.0    0.0        0.0   \n",
       "NCGC00260869-01     0.0    1.0        NaN           NaN    0.0        0.0   \n",
       "\n",
       "                 NR.PPAR.gamma  SR.ARE  SR.ATAD5  SR.HSE  SR.MMP  SR.p53  \n",
       "NCGC00261900-01            0.0     NaN       0.0     0.0     NaN     0.0  \n",
       "NCGC00260869-01            0.0     0.0       0.0     0.0     0.0     0.0  "
      ]
     },
     "execution_count": 12,
     "metadata": {},
     "output_type": "execute_result"
    }
   ],
   "source": [
    "y_te.head(2)"
   ]
  },
  {
   "cell_type": "markdown",
   "metadata": {},
   "source": [
    " modeled_feature_names was aggregated in the Jupyter Notebook: input_parameters.ipynb"
   ]
  },
  {
   "cell_type": "code",
   "execution_count": 4,
   "metadata": {
    "ExecuteTime": {
     "end_time": "2019-12-05T00:56:34.878702Z",
     "start_time": "2019-12-05T00:56:34.874562Z"
    }
   },
   "outputs": [],
   "source": [
    "modeled_feature_names= pickle.load(open('./data/processed/modeled_feature_names.pkl', 'rb'))"
   ]
  },
  {
   "cell_type": "markdown",
   "metadata": {},
   "source": [
    "Verify that compounds are in the same order in x_te and y_te:"
   ]
  },
  {
   "cell_type": "code",
   "execution_count": 5,
   "metadata": {
    "ExecuteTime": {
     "end_time": "2019-12-05T00:56:34.889600Z",
     "start_time": "2019-12-05T00:56:34.880438Z"
    }
   },
   "outputs": [
    {
     "data": {
      "text/plain": [
       "True"
      ]
     },
     "execution_count": 5,
     "metadata": {},
     "output_type": "execute_result"
    }
   ],
   "source": [
    "all(y_te.index==x_te_dense.index)"
   ]
  },
  {
   "cell_type": "markdown",
   "metadata": {},
   "source": [
    "How many target tests do compounds in the test set measure as toxic?:"
   ]
  },
  {
   "cell_type": "code",
   "execution_count": 6,
   "metadata": {
    "ExecuteTime": {
     "end_time": "2019-12-05T00:56:34.898076Z",
     "start_time": "2019-12-05T00:56:34.891209Z"
    },
    "scrolled": true
   },
   "outputs": [
    {
     "data": {
      "text/plain": [
       "0    416\n",
       "1    110\n",
       "2     53\n",
       "3     31\n",
       "4     19\n",
       "5     10\n",
       "6      4\n",
       "7      3\n",
       "8      1\n",
       "dtype: int64"
      ]
     },
     "execution_count": 6,
     "metadata": {},
     "output_type": "execute_result"
    }
   ],
   "source": [
    "nToxic = y_te.sum(axis=1).astype('int')\n",
    "nToxic.value_counts()"
   ]
  },
  {
   "cell_type": "markdown",
   "metadata": {},
   "source": [
    "# Create a fully labeled x dataframe:"
   ]
  },
  {
   "cell_type": "code",
   "execution_count": 7,
   "metadata": {
    "ExecuteTime": {
     "end_time": "2019-12-05T00:56:34.903100Z",
     "start_time": "2019-12-05T00:56:34.899711Z"
    }
   },
   "outputs": [],
   "source": [
    "x=pd.DataFrame(x_te,index=x_te_dense.index,columns=np.array(modeled_feature_names))"
   ]
  },
  {
   "cell_type": "code",
   "execution_count": 8,
   "metadata": {
    "ExecuteTime": {
     "end_time": "2019-12-05T00:56:34.981511Z",
     "start_time": "2019-12-05T00:56:34.906883Z"
    }
   },
   "outputs": [
    {
     "data": {
      "text/html": [
       "<div>\n",
       "<style scoped>\n",
       "    .dataframe tbody tr th:only-of-type {\n",
       "        vertical-align: middle;\n",
       "    }\n",
       "\n",
       "    .dataframe tbody tr th {\n",
       "        vertical-align: top;\n",
       "    }\n",
       "\n",
       "    .dataframe thead th {\n",
       "        text-align: right;\n",
       "    }\n",
       "</style>\n",
       "<table border=\"1\" class=\"dataframe\">\n",
       "  <thead>\n",
       "    <tr style=\"text-align: right;\">\n",
       "      <th></th>\n",
       "      <th>AW</th>\n",
       "      <th>AWeight</th>\n",
       "      <th>Arto</th>\n",
       "      <th>BertzCT</th>\n",
       "      <th>Chi0</th>\n",
       "      <th>Chi1</th>\n",
       "      <th>Chi10</th>\n",
       "      <th>Chi2</th>\n",
       "      <th>Chi3</th>\n",
       "      <th>Chi3c</th>\n",
       "      <th>...</th>\n",
       "      <th>dfs8:685185923</th>\n",
       "      <th>dfs8:1231366183</th>\n",
       "      <th>dfs8:77893</th>\n",
       "      <th>dfs8:74857143</th>\n",
       "      <th>dfs8:-1779586931</th>\n",
       "      <th>dfs8:-1046300056</th>\n",
       "      <th>dfs8:-429125098</th>\n",
       "      <th>dfs8:63298235</th>\n",
       "      <th>dfs8:284573023</th>\n",
       "      <th>dfs8:1056993476</th>\n",
       "    </tr>\n",
       "  </thead>\n",
       "  <tbody>\n",
       "    <tr>\n",
       "      <td>NCGC00261900-01</td>\n",
       "      <td>2.612482e+07</td>\n",
       "      <td>12.688</td>\n",
       "      <td>2.226</td>\n",
       "      <td>3.226</td>\n",
       "      <td>37.329</td>\n",
       "      <td>25.440</td>\n",
       "      <td>3.663</td>\n",
       "      <td>24.200</td>\n",
       "      <td>20.222</td>\n",
       "      <td>4.565</td>\n",
       "      <td>...</td>\n",
       "      <td>0.0</td>\n",
       "      <td>0.0</td>\n",
       "      <td>0.0</td>\n",
       "      <td>0.0</td>\n",
       "      <td>0.0</td>\n",
       "      <td>0.0</td>\n",
       "      <td>0.0</td>\n",
       "      <td>0.0</td>\n",
       "      <td>0.0</td>\n",
       "      <td>0.0</td>\n",
       "    </tr>\n",
       "    <tr>\n",
       "      <td>NCGC00260869-01</td>\n",
       "      <td>8.333337e+06</td>\n",
       "      <td>17.500</td>\n",
       "      <td>2.167</td>\n",
       "      <td>2.923</td>\n",
       "      <td>16.353</td>\n",
       "      <td>10.872</td>\n",
       "      <td>1.193</td>\n",
       "      <td>11.116</td>\n",
       "      <td>9.279</td>\n",
       "      <td>2.693</td>\n",
       "      <td>...</td>\n",
       "      <td>0.0</td>\n",
       "      <td>0.0</td>\n",
       "      <td>0.0</td>\n",
       "      <td>0.0</td>\n",
       "      <td>0.0</td>\n",
       "      <td>0.0</td>\n",
       "      <td>0.0</td>\n",
       "      <td>0.0</td>\n",
       "      <td>0.0</td>\n",
       "      <td>0.0</td>\n",
       "    </tr>\n",
       "    <tr>\n",
       "      <td>NCGC00261776-01</td>\n",
       "      <td>4.074000e+00</td>\n",
       "      <td>12.464</td>\n",
       "      <td>2.364</td>\n",
       "      <td>3.043</td>\n",
       "      <td>14.681</td>\n",
       "      <td>10.826</td>\n",
       "      <td>2.149</td>\n",
       "      <td>9.980</td>\n",
       "      <td>9.469</td>\n",
       "      <td>1.342</td>\n",
       "      <td>...</td>\n",
       "      <td>1.0</td>\n",
       "      <td>1.0</td>\n",
       "      <td>0.0</td>\n",
       "      <td>0.0</td>\n",
       "      <td>0.0</td>\n",
       "      <td>0.0</td>\n",
       "      <td>0.0</td>\n",
       "      <td>0.0</td>\n",
       "      <td>0.0</td>\n",
       "      <td>0.0</td>\n",
       "    </tr>\n",
       "    <tr>\n",
       "      <td>NCGC00261380-01</td>\n",
       "      <td>8.000005e+06</td>\n",
       "      <td>13.827</td>\n",
       "      <td>2.080</td>\n",
       "      <td>2.845</td>\n",
       "      <td>16.778</td>\n",
       "      <td>11.720</td>\n",
       "      <td>0.777</td>\n",
       "      <td>10.139</td>\n",
       "      <td>8.207</td>\n",
       "      <td>1.251</td>\n",
       "      <td>...</td>\n",
       "      <td>0.0</td>\n",
       "      <td>0.0</td>\n",
       "      <td>0.0</td>\n",
       "      <td>0.0</td>\n",
       "      <td>0.0</td>\n",
       "      <td>0.0</td>\n",
       "      <td>0.0</td>\n",
       "      <td>0.0</td>\n",
       "      <td>0.0</td>\n",
       "      <td>0.0</td>\n",
       "    </tr>\n",
       "    <tr>\n",
       "      <td>NCGC00261842-01</td>\n",
       "      <td>4.838000e+00</td>\n",
       "      <td>14.509</td>\n",
       "      <td>2.087</td>\n",
       "      <td>2.880</td>\n",
       "      <td>16.872</td>\n",
       "      <td>10.920</td>\n",
       "      <td>0.413</td>\n",
       "      <td>10.035</td>\n",
       "      <td>7.719</td>\n",
       "      <td>2.090</td>\n",
       "      <td>...</td>\n",
       "      <td>0.0</td>\n",
       "      <td>0.0</td>\n",
       "      <td>1.0</td>\n",
       "      <td>1.0</td>\n",
       "      <td>1.0</td>\n",
       "      <td>1.0</td>\n",
       "      <td>1.0</td>\n",
       "      <td>1.0</td>\n",
       "      <td>1.0</td>\n",
       "      <td>1.0</td>\n",
       "    </tr>\n",
       "    <tr>\n",
       "      <td>...</td>\n",
       "      <td>...</td>\n",
       "      <td>...</td>\n",
       "      <td>...</td>\n",
       "      <td>...</td>\n",
       "      <td>...</td>\n",
       "      <td>...</td>\n",
       "      <td>...</td>\n",
       "      <td>...</td>\n",
       "      <td>...</td>\n",
       "      <td>...</td>\n",
       "      <td>...</td>\n",
       "      <td>...</td>\n",
       "      <td>...</td>\n",
       "      <td>...</td>\n",
       "      <td>...</td>\n",
       "      <td>...</td>\n",
       "      <td>...</td>\n",
       "      <td>...</td>\n",
       "      <td>...</td>\n",
       "      <td>...</td>\n",
       "      <td>...</td>\n",
       "    </tr>\n",
       "    <tr>\n",
       "      <td>NCGC00357168-01</td>\n",
       "      <td>2.000000e+00</td>\n",
       "      <td>16.820</td>\n",
       "      <td>1.600</td>\n",
       "      <td>1.157</td>\n",
       "      <td>4.121</td>\n",
       "      <td>2.414</td>\n",
       "      <td>0.000</td>\n",
       "      <td>1.354</td>\n",
       "      <td>0.707</td>\n",
       "      <td>0.000</td>\n",
       "      <td>...</td>\n",
       "      <td>0.0</td>\n",
       "      <td>0.0</td>\n",
       "      <td>0.0</td>\n",
       "      <td>0.0</td>\n",
       "      <td>0.0</td>\n",
       "      <td>0.0</td>\n",
       "      <td>0.0</td>\n",
       "      <td>0.0</td>\n",
       "      <td>0.0</td>\n",
       "      <td>0.0</td>\n",
       "    </tr>\n",
       "    <tr>\n",
       "      <td>NCGC00357283-01</td>\n",
       "      <td>3.714000e+00</td>\n",
       "      <td>13.208</td>\n",
       "      <td>2.000</td>\n",
       "      <td>2.134</td>\n",
       "      <td>11.096</td>\n",
       "      <td>7.296</td>\n",
       "      <td>0.072</td>\n",
       "      <td>5.671</td>\n",
       "      <td>4.091</td>\n",
       "      <td>0.612</td>\n",
       "      <td>...</td>\n",
       "      <td>0.0</td>\n",
       "      <td>0.0</td>\n",
       "      <td>0.0</td>\n",
       "      <td>0.0</td>\n",
       "      <td>0.0</td>\n",
       "      <td>0.0</td>\n",
       "      <td>0.0</td>\n",
       "      <td>0.0</td>\n",
       "      <td>0.0</td>\n",
       "      <td>0.0</td>\n",
       "    </tr>\n",
       "    <tr>\n",
       "      <td>NCGC00357210-01</td>\n",
       "      <td>1.905000e+00</td>\n",
       "      <td>16.017</td>\n",
       "      <td>2.000</td>\n",
       "      <td>2.295</td>\n",
       "      <td>5.276</td>\n",
       "      <td>3.305</td>\n",
       "      <td>0.000</td>\n",
       "      <td>2.885</td>\n",
       "      <td>2.290</td>\n",
       "      <td>0.471</td>\n",
       "      <td>...</td>\n",
       "      <td>0.0</td>\n",
       "      <td>0.0</td>\n",
       "      <td>0.0</td>\n",
       "      <td>0.0</td>\n",
       "      <td>0.0</td>\n",
       "      <td>0.0</td>\n",
       "      <td>0.0</td>\n",
       "      <td>0.0</td>\n",
       "      <td>0.0</td>\n",
       "      <td>0.0</td>\n",
       "    </tr>\n",
       "    <tr>\n",
       "      <td>NCGC00357118-01</td>\n",
       "      <td>4.186000e+00</td>\n",
       "      <td>15.674</td>\n",
       "      <td>2.190</td>\n",
       "      <td>2.851</td>\n",
       "      <td>15.088</td>\n",
       "      <td>9.935</td>\n",
       "      <td>0.366</td>\n",
       "      <td>9.720</td>\n",
       "      <td>8.086</td>\n",
       "      <td>2.262</td>\n",
       "      <td>...</td>\n",
       "      <td>0.0</td>\n",
       "      <td>0.0</td>\n",
       "      <td>0.0</td>\n",
       "      <td>0.0</td>\n",
       "      <td>0.0</td>\n",
       "      <td>0.0</td>\n",
       "      <td>0.0</td>\n",
       "      <td>0.0</td>\n",
       "      <td>0.0</td>\n",
       "      <td>0.0</td>\n",
       "    </tr>\n",
       "    <tr>\n",
       "      <td>NCGC00357144-01</td>\n",
       "      <td>2.048000e+00</td>\n",
       "      <td>15.446</td>\n",
       "      <td>2.000</td>\n",
       "      <td>2.089</td>\n",
       "      <td>5.113</td>\n",
       "      <td>3.432</td>\n",
       "      <td>0.000</td>\n",
       "      <td>2.559</td>\n",
       "      <td>2.052</td>\n",
       "      <td>0.204</td>\n",
       "      <td>...</td>\n",
       "      <td>0.0</td>\n",
       "      <td>0.0</td>\n",
       "      <td>0.0</td>\n",
       "      <td>0.0</td>\n",
       "      <td>0.0</td>\n",
       "      <td>0.0</td>\n",
       "      <td>0.0</td>\n",
       "      <td>0.0</td>\n",
       "      <td>0.0</td>\n",
       "      <td>0.0</td>\n",
       "    </tr>\n",
       "  </tbody>\n",
       "</table>\n",
       "<p>647 rows × 1644 columns</p>\n",
       "</div>"
      ],
      "text/plain": [
       "                           AW  AWeight   Arto  BertzCT    Chi0    Chi1  Chi10  \\\n",
       "NCGC00261900-01  2.612482e+07   12.688  2.226    3.226  37.329  25.440  3.663   \n",
       "NCGC00260869-01  8.333337e+06   17.500  2.167    2.923  16.353  10.872  1.193   \n",
       "NCGC00261776-01  4.074000e+00   12.464  2.364    3.043  14.681  10.826  2.149   \n",
       "NCGC00261380-01  8.000005e+06   13.827  2.080    2.845  16.778  11.720  0.777   \n",
       "NCGC00261842-01  4.838000e+00   14.509  2.087    2.880  16.872  10.920  0.413   \n",
       "...                       ...      ...    ...      ...     ...     ...    ...   \n",
       "NCGC00357168-01  2.000000e+00   16.820  1.600    1.157   4.121   2.414  0.000   \n",
       "NCGC00357283-01  3.714000e+00   13.208  2.000    2.134  11.096   7.296  0.072   \n",
       "NCGC00357210-01  1.905000e+00   16.017  2.000    2.295   5.276   3.305  0.000   \n",
       "NCGC00357118-01  4.186000e+00   15.674  2.190    2.851  15.088   9.935  0.366   \n",
       "NCGC00357144-01  2.048000e+00   15.446  2.000    2.089   5.113   3.432  0.000   \n",
       "\n",
       "                   Chi2    Chi3  Chi3c  ...  dfs8:685185923  dfs8:1231366183  \\\n",
       "NCGC00261900-01  24.200  20.222  4.565  ...             0.0              0.0   \n",
       "NCGC00260869-01  11.116   9.279  2.693  ...             0.0              0.0   \n",
       "NCGC00261776-01   9.980   9.469  1.342  ...             1.0              1.0   \n",
       "NCGC00261380-01  10.139   8.207  1.251  ...             0.0              0.0   \n",
       "NCGC00261842-01  10.035   7.719  2.090  ...             0.0              0.0   \n",
       "...                 ...     ...    ...  ...             ...              ...   \n",
       "NCGC00357168-01   1.354   0.707  0.000  ...             0.0              0.0   \n",
       "NCGC00357283-01   5.671   4.091  0.612  ...             0.0              0.0   \n",
       "NCGC00357210-01   2.885   2.290  0.471  ...             0.0              0.0   \n",
       "NCGC00357118-01   9.720   8.086  2.262  ...             0.0              0.0   \n",
       "NCGC00357144-01   2.559   2.052  0.204  ...             0.0              0.0   \n",
       "\n",
       "                 dfs8:77893  dfs8:74857143  dfs8:-1779586931  \\\n",
       "NCGC00261900-01         0.0            0.0               0.0   \n",
       "NCGC00260869-01         0.0            0.0               0.0   \n",
       "NCGC00261776-01         0.0            0.0               0.0   \n",
       "NCGC00261380-01         0.0            0.0               0.0   \n",
       "NCGC00261842-01         1.0            1.0               1.0   \n",
       "...                     ...            ...               ...   \n",
       "NCGC00357168-01         0.0            0.0               0.0   \n",
       "NCGC00357283-01         0.0            0.0               0.0   \n",
       "NCGC00357210-01         0.0            0.0               0.0   \n",
       "NCGC00357118-01         0.0            0.0               0.0   \n",
       "NCGC00357144-01         0.0            0.0               0.0   \n",
       "\n",
       "                 dfs8:-1046300056  dfs8:-429125098  dfs8:63298235  \\\n",
       "NCGC00261900-01               0.0              0.0            0.0   \n",
       "NCGC00260869-01               0.0              0.0            0.0   \n",
       "NCGC00261776-01               0.0              0.0            0.0   \n",
       "NCGC00261380-01               0.0              0.0            0.0   \n",
       "NCGC00261842-01               1.0              1.0            1.0   \n",
       "...                           ...              ...            ...   \n",
       "NCGC00357168-01               0.0              0.0            0.0   \n",
       "NCGC00357283-01               0.0              0.0            0.0   \n",
       "NCGC00357210-01               0.0              0.0            0.0   \n",
       "NCGC00357118-01               0.0              0.0            0.0   \n",
       "NCGC00357144-01               0.0              0.0            0.0   \n",
       "\n",
       "                 dfs8:284573023  dfs8:1056993476  \n",
       "NCGC00261900-01             0.0              0.0  \n",
       "NCGC00260869-01             0.0              0.0  \n",
       "NCGC00261776-01             0.0              0.0  \n",
       "NCGC00261380-01             0.0              0.0  \n",
       "NCGC00261842-01             1.0              1.0  \n",
       "...                         ...              ...  \n",
       "NCGC00357168-01             0.0              0.0  \n",
       "NCGC00357283-01             0.0              0.0  \n",
       "NCGC00357210-01             0.0              0.0  \n",
       "NCGC00357118-01             0.0              0.0  \n",
       "NCGC00357144-01             0.0              0.0  \n",
       "\n",
       "[647 rows x 1644 columns]"
      ]
     },
     "execution_count": 8,
     "metadata": {},
     "output_type": "execute_result"
    }
   ],
   "source": [
    "x"
   ]
  },
  {
   "cell_type": "markdown",
   "metadata": {},
   "source": [
    "Save each compound in a separate file in the folder indicating how many targets they met:"
   ]
  },
  {
   "cell_type": "code",
   "execution_count": 9,
   "metadata": {
    "ExecuteTime": {
     "end_time": "2019-12-05T00:56:35.731745Z",
     "start_time": "2019-12-05T00:56:34.983936Z"
    },
    "scrolled": true
   },
   "outputs": [],
   "source": [
    "for i in range(0,len(x)):\n",
    "    folder = 'non-toxic' if nToxic[i]==0 else str(nToxic[i])\n",
    "    pickle.dump(x.iloc[i],\\\n",
    "                open('./data/processed/'+folder+'/'+x.iloc[i].name+'.pkl','wb'))"
   ]
  },
  {
   "cell_type": "markdown",
   "metadata": {},
   "source": [
    "# Verify a written file is readable:"
   ]
  },
  {
   "cell_type": "code",
   "execution_count": 10,
   "metadata": {
    "ExecuteTime": {
     "end_time": "2019-12-05T00:56:35.746414Z",
     "start_time": "2019-12-05T00:56:35.734902Z"
    }
   },
   "outputs": [
    {
     "name": "stdout",
     "output_type": "stream",
     "text": [
      "(1644,)\n"
     ]
    },
    {
     "data": {
      "text/plain": [
       "AW                   3.011\n",
       "AWeight             14.540\n",
       "Arto                 2.143\n",
       "BertzCT              2.746\n",
       "Chi0                10.293\n",
       "                     ...  \n",
       "dfs8:-1046300056     0.000\n",
       "dfs8:-429125098      0.000\n",
       "dfs8:63298235        0.000\n",
       "dfs8:284573023       0.000\n",
       "dfs8:1056993476      0.000\n",
       "Name: NCGC00357111-01, Length: 1644, dtype: float64"
      ]
     },
     "execution_count": 10,
     "metadata": {},
     "output_type": "execute_result"
    }
   ],
   "source": [
    "test=pickle.load(open('./data/processed/8/NCGC00357111-01.pkl', 'rb'))\n",
    "print(test.shape)\n",
    "test"
   ]
  },
  {
   "cell_type": "code",
   "execution_count": null,
   "metadata": {},
   "outputs": [],
   "source": []
  }
 ],
 "metadata": {
  "kernelspec": {
   "display_name": "Python [conda env:metis] *",
   "language": "python",
   "name": "conda-env-metis-py"
  },
  "language_info": {
   "codemirror_mode": {
    "name": "ipython",
    "version": 3
   },
   "file_extension": ".py",
   "mimetype": "text/x-python",
   "name": "python",
   "nbconvert_exporter": "python",
   "pygments_lexer": "ipython3",
   "version": "3.7.3"
  },
  "toc": {
   "base_numbering": 1,
   "nav_menu": {},
   "number_sections": true,
   "sideBar": true,
   "skip_h1_title": false,
   "title_cell": "Table of Contents",
   "title_sidebar": "Contents",
   "toc_cell": false,
   "toc_position": {},
   "toc_section_display": true,
   "toc_window_display": false
  }
 },
 "nbformat": 4,
 "nbformat_minor": 2
}
