{
 "cells": [
  {
   "cell_type": "markdown",
   "metadata": {},
   "source": [
    "# Import Libraries"
   ]
  },
  {
   "cell_type": "code",
   "execution_count": 1,
   "metadata": {
    "ExecuteTime": {
     "end_time": "2019-12-09T22:53:49.103646Z",
     "start_time": "2019-12-09T22:53:49.099389Z"
    }
   },
   "outputs": [
    {
     "name": "stderr",
     "output_type": "stream",
     "text": [
      "Using TensorFlow backend.\n"
     ]
    },
    {
     "name": "stdout",
     "output_type": "stream",
     "text": [
      "WARNING:tensorflow:From /home/ubuntu/anaconda3/envs/tensorflow_p36/lib/python3.6/site-packages/tensorflow_core/__init__.py:1467: The name tf.estimator.inputs is deprecated. Please use tf.compat.v1.estimator.inputs instead.\n",
      "\n"
     ]
    }
   ],
   "source": [
    "import numpy as np\n",
    "import pandas as pd\n",
    "from scipy import io\n",
    "from src.helper_functions import load_data, get_model_perfs, init_model_perfs,\\\n",
    "                                 save_model, save_model_perfs, check_is_best,\\\n",
    "                                 read_model, evaluate_model_predictions,\\\n",
    "                                 update_model_perfs, check_and_save,\\\n",
    "                                 adjusted_classes\n",
    "import matplotlib.pyplot as plt\n",
    "%matplotlib inline"
   ]
  },
  {
   "cell_type": "markdown",
   "metadata": {},
   "source": [
    "# Show Performance of All Target Models"
   ]
  },
  {
   "cell_type": "code",
   "execution_count": 11,
   "metadata": {
    "ExecuteTime": {
     "end_time": "2019-12-09T23:37:50.276488Z",
     "start_time": "2019-12-09T23:37:50.165944Z"
    },
    "scrolled": true
   },
   "outputs": [
    {
     "data": {
      "image/png": "[encoded data removed]",
      "text/plain": [
       "<Figure size 576x432 with 1 Axes>"
      ]
     },
     "metadata": {},
     "output_type": "display_data"
    }
   ],
   "source": [
    "met = 'mcc'\n",
    "def get_max_met(df):\n",
    "    i = df[met].idxmax()\n",
    "    return df.loc[[i]]\n",
    "\n",
    "targets = ['NR.AhR', 'NR.AR', 'NR.AR.LBD', 'NR.Aromatase', 'NR.ER', 'NR.ER.LBD',\n",
    "           'NR.PPAR.gamma', 'SR.ARE', 'SR.ATAD5', 'SR.HSE', 'SR.MMP', 'SR.p53']\n",
    "use_base_RF = False\n",
    "rf = None\n",
    "for target in targets:\n",
    "    df = get_model_perfs(target)\n",
    "    df['Target']=target\n",
    "    if rf is None:\n",
    "        rf = df.iloc[:1,] if use_base_RF else get_max_met(df.iloc[:2,])\n",
    "    else:\n",
    "        rf = rf.append(df.iloc[:1,],ignore_index=True) if use_base_RF else \\\n",
    "                            rf.append(get_max_met(df.iloc[:2,]),ignore_index=True)\n",
    "rf = rf[[met,'Target']].set_index('Target').rename(columns={met:'Random Forest'})\n",
    "dnn = None\n",
    "for target in targets:\n",
    "    df = get_model_perfs(target)\n",
    "    df['Target']=target\n",
    "    if dnn is None:\n",
    "        dnn = get_max_met(df.iloc[2:,])\n",
    "    else:\n",
    "        dnn = dnn.append(get_max_met(df.iloc[2:,]),ignore_index=True)\n",
    "dnn = dnn[[met,'Target']].set_index('Target').rename(columns={met:'DNN'})\n",
    "# sdf = sdf[['model','f1','target']].set_index('target')\n",
    "rf['DNN'] = dnn['DNN']\n",
    "\n",
    "ax = rf[['DNN','Random Forest']].plot.barh(figsize=[8,8*4.8/6.4],color=('crimson','k'))\n",
    "fig = ax.get_figure()\n",
    "ax.set_xlabel(met.upper(),fontsize=14)\n",
    "handles, labels = ax.get_legend_handles_labels()\n",
    "ax.legend(reversed(handles), reversed(labels))\n",
    "ax.set_ylabel('Toxicity Test',fontsize=14)\n",
    "ax.set_title('Random Forest vs. Neural Net Performance',fontsize=16);\n",
    "fig.savefig('./reports/figures/overall_performance.svg',\\\n",
    "            format='svg', dpi=1200, transparent=True, bbox_inches = \"tight\");"
   ]
  },
  {
   "cell_type": "code",
   "execution_count": null,
   "metadata": {},
   "outputs": [],
   "source": []
  }
 ],
 "metadata": {
  "kernelspec": {
   "display_name": "Environment (conda_tensorflow_p36)",
   "language": "python",
   "name": "conda_tensorflow_p36"
  },
  "language_info": {
   "codemirror_mode": {
    "name": "ipython",
    "version": 3
   },
   "file_extension": ".py",
   "mimetype": "text/x-python",
   "name": "python",
   "nbconvert_exporter": "python",
   "pygments_lexer": "ipython3",
   "version": "3.6.5"
  },
  "toc": {
   "base_numbering": 1,
   "nav_menu": {},
   "number_sections": true,
   "sideBar": true,
   "skip_h1_title": false,
   "title_cell": "Table of Contents",
   "title_sidebar": "Contents",
   "toc_cell": false,
   "toc_position": {},
   "toc_section_display": true,
   "toc_window_display": false
  }
 },
 "nbformat": 4,
 "nbformat_minor": 2
}
