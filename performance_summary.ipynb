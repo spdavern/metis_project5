{
 "cells": [
  {
   "cell_type": "markdown",
   "metadata": {},
   "source": [
    "# Import Libraries"
   ]
  },
  {
   "cell_type": "code",
   "execution_count": 132,
   "metadata": {
    "ExecuteTime": {
     "end_time": "2019-12-09T22:53:49.103646Z",
     "start_time": "2019-12-09T22:53:49.099389Z"
    }
   },
   "outputs": [],
   "source": [
    "import numpy as np\n",
    "import pandas as pd\n",
    "from scipy import io\n",
    "from src.helper_functions import load_data, get_model_perfs, init_model_perfs,\\\n",
    "                                 save_model, save_model_perfs, check_is_best,\\\n",
    "                                 read_model, evaluate_model_predictions,\\\n",
    "                                 update_model_perfs, check_and_save,\\\n",
    "                                 adjusted_classes\n",
    "import matplotlib.pyplot"
   ]
  },
  {
   "cell_type": "markdown",
   "metadata": {},
   "source": [
    "# Show Performance of All Target Models"
   ]
  },
  {
   "cell_type": "code",
   "execution_count": 59,
   "metadata": {
    "ExecuteTime": {
     "end_time": "2019-12-09T18:01:19.710565Z",
     "start_time": "2019-12-09T18:01:19.707525Z"
    }
   },
   "outputs": [],
   "source": [
    "def get_max_f1(df):\n",
    "    i = df['f1'].idxmax()\n",
    "    return df.loc[[i]]"
   ]
  },
  {
   "cell_type": "markdown",
   "metadata": {},
   "source": [
    "## Pull out the base models and compare against best DNN"
   ]
  },
  {
   "cell_type": "code",
   "execution_count": 156,
   "metadata": {
    "ExecuteTime": {
     "end_time": "2019-12-09T23:37:50.276488Z",
     "start_time": "2019-12-09T23:37:50.165944Z"
    }
   },
   "outputs": [],
   "source": [
    "targets = ['NR.AhR', 'NR.AR', 'NR.AR.LBD', 'NR.Aromatase', 'NR.ER', 'NR.ER.LBD',\n",
    "           'NR.PPAR.gamma', 'SR.ARE', 'SR.ATAD5', 'SR.HSE', 'SR.MMP', 'SR.p53']\n",
    "use_base_RF = False\n",
    "rf = None\n",
    "for target in targets:\n",
    "    df = get_model_perfs(target)\n",
    "    df['Target']=target\n",
    "    if rf is None:\n",
    "        rf = df.iloc[:1,] if use_base_RF else get_max_f1(df.iloc[:2,])\n",
    "    else:\n",
    "        rf = rf.append(df.iloc[:1,],ignore_index=True) if use_base_RF else \\\n",
    "                            rf.append(get_max_f1(df.iloc[:2,]),ignore_index=True)\n",
    "rf = rf[['f1','Target']].set_index('Target').rename(columns={'f1':'Random Forest'})\n",
    "dnn = None\n",
    "for target in targets:\n",
    "    df = get_model_perfs(target)\n",
    "    df['Target']=target\n",
    "    if dnn is None:\n",
    "        dnn = get_max_f1(df.iloc[2:,])\n",
    "    else:\n",
    "        dnn = dnn.append(get_max_f1(df.iloc[2:,]),ignore_index=True)\n",
    "dnn = dnn[['f1','Target']].set_index('Target').rename(columns={'f1':'DNN'})\n",
    "# sdf = sdf[['model','f1','target']].set_index('target')\n",
    "rf['DNN'] = dnn['DNN']"
   ]
  },
  {
   "cell_type": "code",
   "execution_count": 161,
   "metadata": {
    "ExecuteTime": {
     "end_time": "2019-12-09T23:58:02.449848Z",
     "start_time": "2019-12-09T23:58:02.442789Z"
    }
   },
   "outputs": [],
   "source": [
    "import matplotlib.pyplot as plt\n",
    "%matplotlib inline"
   ]
  },
  {
   "cell_type": "code",
   "execution_count": 162,
   "metadata": {
    "ExecuteTime": {
     "end_time": "2019-12-09T23:58:04.213979Z",
     "start_time": "2019-12-09T23:58:03.714683Z"
    },
    "scrolled": true
   },
   "outputs": [
    {
     "data": {
      "image/png": "[encoded data removed]",
      "text/plain": [
       "<Figure size 576x432 with 1 Axes>"
      ]
     },
     "metadata": {
      "needs_background": "light"
     },
     "output_type": "display_data"
    }
   ],
   "source": [
    "ax = rf.plot.barh(figsize=[8,8*4.8/6.4],color=('k','crimson'))\n",
    "fig = ax.get_figure()\n",
    "ax.set_xlabel('F1',fontsize=14)\n",
    "ax.set_ylabel('Toxicity Test',fontsize=14)\n",
    "ax.set_title('Random Forest vs. Neural Net Performance',fontsize=16);\n",
    "fig.savefig('./reports/figures/overall_performance.svg',\\\n",
    "            format='svg', dpi=1200, transparent=True, bbox_inches = \"tight\");"
   ]
  },
  {
   "cell_type": "code",
   "execution_count": null,
   "metadata": {},
   "outputs": [],
   "source": []
  }
 ],
 "metadata": {
  "kernelspec": {
   "display_name": "Python [conda env:metis] *",
   "language": "python",
   "name": "conda-env-metis-py"
  },
  "language_info": {
   "codemirror_mode": {
    "name": "ipython",
    "version": 3
   },
   "file_extension": ".py",
   "mimetype": "text/x-python",
   "name": "python",
   "nbconvert_exporter": "python",
   "pygments_lexer": "ipython3",
   "version": "3.7.3"
  },
  "toc": {
   "base_numbering": 1,
   "nav_menu": {},
   "number_sections": true,
   "sideBar": true,
   "skip_h1_title": false,
   "title_cell": "Table of Contents",
   "title_sidebar": "Contents",
   "toc_cell": false,
   "toc_position": {},
   "toc_section_display": true,
   "toc_window_display": false
  }
 },
 "nbformat": 4,
 "nbformat_minor": 2
}
