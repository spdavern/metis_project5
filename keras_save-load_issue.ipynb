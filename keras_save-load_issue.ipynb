{
 "cells": [
  {
   "cell_type": "markdown",
   "metadata": {},
   "source": [
    "# Library Imports"
   ]
  },
  {
   "cell_type": "code",
   "execution_count": 1,
   "metadata": {
    "ExecuteTime": {
     "end_time": "2019-12-02T23:38:33.834885Z",
     "start_time": "2019-12-02T23:38:31.251096Z"
    }
   },
   "outputs": [
    {
     "name": "stderr",
     "output_type": "stream",
     "text": [
      "Using TensorFlow backend.\n",
      "/Users/sean/anaconda3/envs/metis/lib/python3.7/site-packages/tensorflow/python/framework/dtypes.py:526: FutureWarning: Passing (type, 1) or '1type' as a synonym of type is deprecated; in a future version of numpy, it will be understood as (type, (1,)) / '(1,)type'.\n",
      "  _np_qint8 = np.dtype([(\"qint8\", np.int8, 1)])\n",
      "/Users/sean/anaconda3/envs/metis/lib/python3.7/site-packages/tensorflow/python/framework/dtypes.py:527: FutureWarning: Passing (type, 1) or '1type' as a synonym of type is deprecated; in a future version of numpy, it will be understood as (type, (1,)) / '(1,)type'.\n",
      "  _np_quint8 = np.dtype([(\"quint8\", np.uint8, 1)])\n",
      "/Users/sean/anaconda3/envs/metis/lib/python3.7/site-packages/tensorflow/python/framework/dtypes.py:528: FutureWarning: Passing (type, 1) or '1type' as a synonym of type is deprecated; in a future version of numpy, it will be understood as (type, (1,)) / '(1,)type'.\n",
      "  _np_qint16 = np.dtype([(\"qint16\", np.int16, 1)])\n",
      "/Users/sean/anaconda3/envs/metis/lib/python3.7/site-packages/tensorflow/python/framework/dtypes.py:529: FutureWarning: Passing (type, 1) or '1type' as a synonym of type is deprecated; in a future version of numpy, it will be understood as (type, (1,)) / '(1,)type'.\n",
      "  _np_quint16 = np.dtype([(\"quint16\", np.uint16, 1)])\n",
      "/Users/sean/anaconda3/envs/metis/lib/python3.7/site-packages/tensorflow/python/framework/dtypes.py:530: FutureWarning: Passing (type, 1) or '1type' as a synonym of type is deprecated; in a future version of numpy, it will be understood as (type, (1,)) / '(1,)type'.\n",
      "  _np_qint32 = np.dtype([(\"qint32\", np.int32, 1)])\n",
      "/Users/sean/anaconda3/envs/metis/lib/python3.7/site-packages/tensorflow/python/framework/dtypes.py:535: FutureWarning: Passing (type, 1) or '1type' as a synonym of type is deprecated; in a future version of numpy, it will be understood as (type, (1,)) / '(1,)type'.\n",
      "  np_resource = np.dtype([(\"resource\", np.ubyte, 1)])\n"
     ]
    }
   ],
   "source": [
    "import os\n",
    "import numpy as np\n",
    "import pandas as pd\n",
    "from scipy import io\n",
    "# from sklearn import metrics\n",
    "from sklearn.model_selection import train_test_split\n",
    "from sklearn.metrics import roc_auc_score\n",
    "from sklearn.metrics import roc_auc_score, confusion_matrix, f1_score,\\\n",
    "                            precision_score, recall_score, accuracy_score,\\\n",
    "                            average_precision_score, precision_recall_curve\n",
    "from imblearn.over_sampling import RandomOverSampler\n",
    "from src.helper_functions import load_data, get_model_perfs, init_model_perfs,\\\n",
    "                                 save_model, save_model_perfs, check_is_best,\\\n",
    "                                 read_model, evaluate_model_predictions,\\\n",
    "                                 update_model_perfs, check_and_save,\\\n",
    "                                 adjusted_classes\n",
    "from src.metrics import recall_m, f1"
   ]
  },
  {
   "cell_type": "code",
   "execution_count": 2,
   "metadata": {
    "ExecuteTime": {
     "end_time": "2019-12-02T23:38:34.316937Z",
     "start_time": "2019-12-02T23:38:34.307852Z"
    }
   },
   "outputs": [
    {
     "data": {
      "text/plain": [
       "'2.2.5'"
      ]
     },
     "execution_count": 2,
     "metadata": {},
     "output_type": "execute_result"
    }
   ],
   "source": [
    "import keras\n",
    "from keras.callbacks import Callback\n",
    "from keras.layers import Dense, Activation, Dropout\n",
    "keras.__version__"
   ]
  },
  {
   "cell_type": "markdown",
   "metadata": {},
   "source": [
    "# Load Data"
   ]
  },
  {
   "cell_type": "code",
   "execution_count": 3,
   "metadata": {
    "ExecuteTime": {
     "end_time": "2019-12-02T23:38:47.529799Z",
     "start_time": "2019-12-02T23:38:36.619064Z"
    }
   },
   "outputs": [],
   "source": [
    "x_tr, y_tr, x_te, y_te = load_data()"
   ]
  },
  {
   "cell_type": "markdown",
   "metadata": {},
   "source": [
    "# Build Neural Network\n",
    "\n",
    "Following the desciption in section 2.2.4 of the [DeepTox article](https://www.frontiersin.org/articles/10.3389/fenvs.2015.00080/full), I tried to use intermediate values in [Table 2](https://www.frontiersin.org/articles/10.3389/fenvs.2015.00080/full#T2) to build the neural network:"
   ]
  },
  {
   "cell_type": "markdown",
   "metadata": {},
   "source": [
    "Following [this question/answer](https://datascience.stackexchange.com/questions/45165/how-to-get-accuracy-f1-precision-and-recall-for-a-keras-model) and [this question/answer](https://stackoverflow.com/questions/54065733/how-to-employ-the-scikit-learn-evaluation-metrics-functions-with-keras-in-python) to implement usage of recall in model training:"
   ]
  },
  {
   "cell_type": "code",
   "execution_count": 4,
   "metadata": {
    "ExecuteTime": {
     "end_time": "2019-12-02T23:39:14.677757Z",
     "start_time": "2019-12-02T23:39:14.497792Z"
    }
   },
   "outputs": [
    {
     "name": "stdout",
     "output_type": "stream",
     "text": [
      "WARNING:tensorflow:From /Users/sean/anaconda3/envs/metis/lib/python3.7/site-packages/tensorflow/python/framework/op_def_library.py:263: colocate_with (from tensorflow.python.framework.ops) is deprecated and will be removed in a future version.\n",
      "Instructions for updating:\n",
      "Colocations handled automatically by placer.\n",
      "WARNING:tensorflow:From /Users/sean/anaconda3/envs/metis/lib/python3.7/site-packages/keras/backend/tensorflow_backend.py:3733: calling dropout (from tensorflow.python.ops.nn_ops) with keep_prob is deprecated and will be removed in a future version.\n",
      "Instructions for updating:\n",
      "Please use `rate` instead of `keep_prob`. Rate should be set to `rate = 1 - keep_prob`.\n",
      "Model: \"sequential_1\"\n",
      "_________________________________________________________________\n",
      "Layer (type)                 Output Shape              Param #   \n",
      "=================================================================\n",
      "h1_sigmoid_activation (Dense (None, 1024)              1684480   \n",
      "_________________________________________________________________\n",
      "Dropout1 (Dropout)           (None, 1024)              0         \n",
      "_________________________________________________________________\n",
      "h2_sigmoid_activation (Dense (None, 1024)              1049600   \n",
      "_________________________________________________________________\n",
      "Dropout2 (Dropout)           (None, 1024)              0         \n",
      "_________________________________________________________________\n",
      "h3_sigmoid_activation (Dense (None, 1024)              1049600   \n",
      "_________________________________________________________________\n",
      "Dropout3 (Dropout)           (None, 1024)              0         \n",
      "_________________________________________________________________\n",
      "dense_1 (Dense)              (None, 1)                 1025      \n",
      "=================================================================\n",
      "Total params: 3,784,705\n",
      "Trainable params: 3,784,705\n",
      "Non-trainable params: 0\n",
      "_________________________________________________________________\n"
     ]
    }
   ],
   "source": [
    "drop_out=0.5    # DeepTox range: 0.5, 0.2, 0\n",
    "L2_reg = 0.0001 # Default = 0.01\n",
    "layers = 3      # DeepTox range: 1, 2, 3, 4\n",
    "act = 'sigmoid' # Consider sigmoid and tanh\n",
    "neurons = 1024  # DeepTox range: 1024, 2048, 4096, 8192, 16384\n",
    "# Info on decay: https://datascience.stackexchange.com/questions/26112/decay-parameter-in-keras-optimizers\n",
    "decay = 0       # DeepTox range: 10^-4, 10^-5, 10^-6\n",
    "learn_rate = 0.1  #Research appropriate range\n",
    "DNN = keras.Sequential([\n",
    "    keras.layers.InputLayer(input_shape=x_tr.shape[1:],name='Input_Layer')\n",
    "])\n",
    "for i in range(1,layers+1):\n",
    "    DNN.add(Dense(units=neurons, activation=act,\\\n",
    "                  name='h'+str(i)+'_'+act+'_activation',\\\n",
    "                  kernel_regularizer=keras.regularizers.l2(L2_reg)))\n",
    "    DNN.add(Dropout(rate=drop_out,name='Dropout'+str(i)))\n",
    "DNN.add(Dense(units=1, activation='sigmoid'))\n",
    "keras.optimizers.Adam(lr=learn_rate, beta_1=0.9,\\\n",
    "                      beta_2=0.999, decay=decay, amsgrad=False)\n",
    "DNN.compile(optimizer='adam', loss='binary_crossentropy',\\\n",
    "            metrics=['accuracy',recall_m,f1])\n",
    "DNN.summary()"
   ]
  },
  {
   "cell_type": "markdown",
   "metadata": {},
   "source": [
    "# Train DNN's"
   ]
  },
  {
   "cell_type": "code",
   "execution_count": 5,
   "metadata": {
    "ExecuteTime": {
     "end_time": "2019-12-02T23:40:35.587585Z",
     "start_time": "2019-12-02T23:39:23.729152Z"
    }
   },
   "outputs": [
    {
     "name": "stdout",
     "output_type": "stream",
     "text": [
      "WARNING:tensorflow:From /Users/sean/anaconda3/envs/metis/lib/python3.7/site-packages/tensorflow/python/ops/math_ops.py:3066: to_int32 (from tensorflow.python.ops.math_ops) is deprecated and will be removed in a future version.\n",
      "Instructions for updating:\n",
      "Use tf.cast instead.\n",
      "Train on 11934 samples, validate on 1689 samples\n",
      "Epoch 1/100\n",
      "11934/11934 [==============================] - 3s 252us/step - loss: 1.1367 - acc: 0.5261 - recall_m: 0.5395 - f1: 0.4547 - val_loss: 0.8516 - val_acc: 0.5784 - val_recall_m: 0.7162 - val_f1: 0.2805\n",
      "Epoch 2/100\n",
      "11934/11934 [==============================] - 2s 193us/step - loss: 0.8714 - acc: 0.6030 - recall_m: 0.6011 - f1: 0.5946 - val_loss: 0.8097 - val_acc: 0.6495 - val_recall_m: 0.7696 - val_f1: 0.3348\n",
      "Epoch 3/100\n",
      "11934/11934 [==============================] - 3s 228us/step - loss: 0.7835 - acc: 0.6708 - recall_m: 0.7164 - f1: 0.6840 - val_loss: 0.6929 - val_acc: 0.7525 - val_recall_m: 0.7013 - val_f1: 0.3912\n",
      "Epoch 4/100\n",
      "11934/11934 [==============================] - 3s 219us/step - loss: 0.7524 - acc: 0.6880 - recall_m: 0.7181 - f1: 0.6951 - val_loss: 0.8868 - val_acc: 0.4796 - val_recall_m: 0.9629 - val_f1: 0.2991\n",
      "Epoch 5/100\n",
      "11934/11934 [==============================] - 3s 221us/step - loss: 0.7260 - acc: 0.6972 - recall_m: 0.7327 - f1: 0.7061 - val_loss: 0.6539 - val_acc: 0.7649 - val_recall_m: 0.6753 - val_f1: 0.3944\n",
      "Epoch 6/100\n",
      "11934/11934 [==============================] - 3s 222us/step - loss: 0.7051 - acc: 0.7117 - recall_m: 0.7416 - f1: 0.7194 - val_loss: 0.6212 - val_acc: 0.7922 - val_recall_m: 0.6686 - val_f1: 0.4223\n",
      "Epoch 7/100\n",
      "11934/11934 [==============================] - 3s 234us/step - loss: 0.7081 - acc: 0.7052 - recall_m: 0.7424 - f1: 0.7125 - val_loss: 0.6145 - val_acc: 0.7934 - val_recall_m: 0.6796 - val_f1: 0.4272\n",
      "Epoch 8/100\n",
      "11934/11934 [==============================] - 3s 231us/step - loss: 0.6987 - acc: 0.7025 - recall_m: 0.7236 - f1: 0.7051 - val_loss: 0.6964 - val_acc: 0.7229 - val_recall_m: 0.7456 - val_f1: 0.3806\n",
      "Epoch 9/100\n",
      "11934/11934 [==============================] - 3s 248us/step - loss: 0.6745 - acc: 0.7162 - recall_m: 0.7468 - f1: 0.7227 - val_loss: 0.5852 - val_acc: 0.8176 - val_recall_m: 0.6266 - val_f1: 0.4381\n",
      "Epoch 10/100\n",
      "11934/11934 [==============================] - 3s 230us/step - loss: 0.6610 - acc: 0.7221 - recall_m: 0.7613 - f1: 0.7312 - val_loss: 0.4894 - val_acc: 0.8520 - val_recall_m: 0.5135 - val_f1: 0.4417\n",
      "Epoch 11/100\n",
      "11934/11934 [==============================] - 3s 223us/step - loss: 0.6674 - acc: 0.7143 - recall_m: 0.7306 - f1: 0.7152 - val_loss: 0.6684 - val_acc: 0.7407 - val_recall_m: 0.7579 - val_f1: 0.3995\n",
      "Epoch 12/100\n",
      "11934/11934 [==============================] - 3s 227us/step - loss: 0.6605 - acc: 0.7113 - recall_m: 0.7448 - f1: 0.7161 - val_loss: 0.6623 - val_acc: 0.7247 - val_recall_m: 0.7774 - val_f1: 0.3911\n",
      "Epoch 13/100\n",
      "11934/11934 [==============================] - 3s 237us/step - loss: 0.6563 - acc: 0.7204 - recall_m: 0.7582 - f1: 0.7267 - val_loss: 0.7650 - val_acc: 0.5560 - val_recall_m: 0.9356 - val_f1: 0.3271\n",
      "\n",
      "Epoch 00013: ReduceLROnPlateau reducing learning rate to 0.0005000000237487257.\n",
      "Epoch 14/100\n",
      "11934/11934 [==============================] - 3s 239us/step - loss: 0.6311 - acc: 0.7362 - recall_m: 0.7806 - f1: 0.7463 - val_loss: 0.6682 - val_acc: 0.6146 - val_recall_m: 0.8982 - val_f1: 0.3475\n",
      "Epoch 15/100\n",
      "11934/11934 [==============================] - 3s 234us/step - loss: 0.6275 - acc: 0.7303 - recall_m: 0.7551 - f1: 0.7351 - val_loss: 0.5742 - val_acc: 0.7762 - val_recall_m: 0.7097 - val_f1: 0.4187\n",
      "Epoch 16/100\n",
      "11934/11934 [==============================] - 3s 228us/step - loss: 0.6179 - acc: 0.7366 - recall_m: 0.7579 - f1: 0.7415 - val_loss: 0.6094 - val_acc: 0.7478 - val_recall_m: 0.7664 - val_f1: 0.4088\n",
      "\n",
      "Epoch 00016: ReduceLROnPlateau reducing learning rate to 0.0002500000118743628.\n",
      "Epoch 17/100\n",
      "11934/11934 [==============================] - 3s 229us/step - loss: 0.6019 - acc: 0.7462 - recall_m: 0.7842 - f1: 0.7550 - val_loss: 0.5675 - val_acc: 0.7916 - val_recall_m: 0.7245 - val_f1: 0.4399\n",
      "Epoch 18/100\n",
      "11934/11934 [==============================] - 3s 229us/step - loss: 0.5914 - acc: 0.7578 - recall_m: 0.7772 - f1: 0.7622 - val_loss: 0.5873 - val_acc: 0.7561 - val_recall_m: 0.7728 - val_f1: 0.4184\n",
      "Epoch 19/100\n",
      "11934/11934 [==============================] - 3s 227us/step - loss: 0.5933 - acc: 0.7567 - recall_m: 0.7936 - f1: 0.7653 - val_loss: 0.5632 - val_acc: 0.8046 - val_recall_m: 0.6816 - val_f1: 0.4425\n",
      "\n",
      "Epoch 00019: ReduceLROnPlateau reducing learning rate to 0.0001250000059371814.\n",
      "Epoch 20/100\n",
      "11934/11934 [==============================] - 3s 229us/step - loss: 0.5836 - acc: 0.7525 - recall_m: 0.7796 - f1: 0.7586 - val_loss: 0.5513 - val_acc: 0.8046 - val_recall_m: 0.6781 - val_f1: 0.4402\n",
      "Epoch 21/100\n",
      "11934/11934 [==============================] - 3s 229us/step - loss: 0.5782 - acc: 0.7599 - recall_m: 0.7815 - f1: 0.7649 - val_loss: 0.5517 - val_acc: 0.8022 - val_recall_m: 0.6878 - val_f1: 0.4407\n",
      "Epoch 22/100\n",
      "11934/11934 [==============================] - 3s 229us/step - loss: 0.5734 - acc: 0.7593 - recall_m: 0.7787 - f1: 0.7635 - val_loss: 0.5440 - val_acc: 0.8105 - val_recall_m: 0.6853 - val_f1: 0.4510\n",
      "\n",
      "Epoch 00022: ReduceLROnPlateau reducing learning rate to 6.25000029685907e-05.\n",
      "Epoch 23/100\n",
      "11934/11934 [==============================] - 3s 228us/step - loss: 0.5642 - acc: 0.7672 - recall_m: 0.7955 - f1: 0.7733 - val_loss: 0.5407 - val_acc: 0.8111 - val_recall_m: 0.6756 - val_f1: 0.4479\n",
      "Epoch 24/100\n",
      "11934/11934 [==============================] - 3s 224us/step - loss: 0.5662 - acc: 0.7668 - recall_m: 0.7913 - f1: 0.7718 - val_loss: 0.5400 - val_acc: 0.8117 - val_recall_m: 0.6760 - val_f1: 0.4490\n",
      "Epoch 25/100\n",
      "11934/11934 [==============================] - 3s 228us/step - loss: 0.5641 - acc: 0.7697 - recall_m: 0.7910 - f1: 0.7741 - val_loss: 0.5530 - val_acc: 0.7898 - val_recall_m: 0.7248 - val_f1: 0.4392\n",
      "\n",
      "Epoch 00025: ReduceLROnPlateau reducing learning rate to 3.125000148429535e-05.\n",
      "Epoch 26/100\n",
      "11934/11934 [==============================] - 3s 223us/step - loss: 0.5607 - acc: 0.7691 - recall_m: 0.8009 - f1: 0.7757 - val_loss: 0.5384 - val_acc: 0.8123 - val_recall_m: 0.6804 - val_f1: 0.4513\n",
      "Restoring model weights from the end of the best epoch\n",
      "Epoch 00026: early stopping\n"
     ]
    }
   ],
   "source": [
    "for target in y_tr.columns[:1]:\n",
    "    # Determine rows with available data\n",
    "    rows_tr = np.isfinite(y_tr[target]).values\n",
    "    rows_te = np.isfinite(y_te[target]).values\n",
    "    x,y = x_tr[rows_tr], y_tr[target][rows_tr]\n",
    "    \n",
    "    # Address Class Imbalance\n",
    "    x_train, x_val, y_train, y_val = train_test_split(x, y, stratify=y, \\\n",
    "                                                      test_size=0.2, random_state=42)\n",
    "    ros = RandomOverSampler(random_state=0)\n",
    "    x_resampled, y_resampled = ros.fit_sample(x_train,y_train)\n",
    "    \n",
    "    # Train the DNN\n",
    "    DNN.fit(\n",
    "        x_resampled, y_resampled, batch_size=512, epochs=100,\\\n",
    "        validation_data=(x_val,y_val), verbose=1,\n",
    "        callbacks=[\n",
    "            keras.callbacks.EarlyStopping(patience=16,verbose=1,\\\n",
    "                                          restore_best_weights=True),\n",
    "            keras.callbacks.ReduceLROnPlateau(factor=0.5,patience=3,verbose=1)\n",
    "        ])"
   ]
  },
  {
   "cell_type": "markdown",
   "metadata": {},
   "source": [
    "# Testing DNN Model Saving."
   ]
  },
  {
   "cell_type": "code",
   "execution_count": 8,
   "metadata": {
    "ExecuteTime": {
     "end_time": "2019-12-02T23:43:22.906035Z",
     "start_time": "2019-12-02T23:43:22.811232Z"
    }
   },
   "outputs": [
    {
     "data": {
      "text/plain": [
       "'DNN1.h5'"
      ]
     },
     "execution_count": 8,
     "metadata": {},
     "output_type": "execute_result"
    }
   ],
   "source": [
    "filename = save_model(target,'DNN', DNN, True)\n",
    "filename"
   ]
  },
  {
   "cell_type": "code",
   "execution_count": 9,
   "metadata": {
    "ExecuteTime": {
     "end_time": "2019-12-02T23:43:25.868849Z",
     "start_time": "2019-12-02T23:43:25.848934Z"
    }
   },
   "outputs": [
    {
     "ename": "ValueError",
     "evalue": "You are trying to load a weight file containing 4 layers into a model with 0 layers",
     "output_type": "error",
     "traceback": [
      "\u001b[0;31m---------------------------------------------------------------------------\u001b[0m",
      "\u001b[0;31mValueError\u001b[0m                                Traceback (most recent call last)",
      "\u001b[0;32m<ipython-input-9-0140d48114b0>\u001b[0m in \u001b[0;36m<module>\u001b[0;34m\u001b[0m\n\u001b[0;32m----> 1\u001b[0;31m \u001b[0mDNN1\u001b[0m \u001b[0;34m=\u001b[0m \u001b[0mread_model\u001b[0m\u001b[0;34m(\u001b[0m\u001b[0mtarget\u001b[0m\u001b[0;34m,\u001b[0m\u001b[0mfilename\u001b[0m\u001b[0;34m)\u001b[0m\u001b[0;34m\u001b[0m\u001b[0;34m\u001b[0m\u001b[0m\n\u001b[0m",
      "\u001b[0;32m~/CloudStation/Metis/projects/project5/src/helper_functions.py\u001b[0m in \u001b[0;36mread_model\u001b[0;34m(target, filename)\u001b[0m\n\u001b[1;32m    128\u001b[0m         \u001b[0;32mif\u001b[0m \u001b[0mos\u001b[0m\u001b[0;34m.\u001b[0m\u001b[0mpath\u001b[0m\u001b[0;34m.\u001b[0m\u001b[0mexists\u001b[0m\u001b[0;34m(\u001b[0m\u001b[0mpathname\u001b[0m\u001b[0;34m)\u001b[0m\u001b[0;34m:\u001b[0m\u001b[0;34m\u001b[0m\u001b[0;34m\u001b[0m\u001b[0m\n\u001b[1;32m    129\u001b[0m             \u001b[0;32mif\u001b[0m \u001b[0mfilename\u001b[0m\u001b[0;34m[\u001b[0m\u001b[0;34m-\u001b[0m\u001b[0;36m2\u001b[0m\u001b[0;34m:\u001b[0m\u001b[0;34m]\u001b[0m\u001b[0;34m.\u001b[0m\u001b[0mlower\u001b[0m\u001b[0;34m(\u001b[0m\u001b[0;34m)\u001b[0m\u001b[0;34m==\u001b[0m\u001b[0;34m'h5'\u001b[0m\u001b[0;34m:\u001b[0m\u001b[0;34m\u001b[0m\u001b[0;34m\u001b[0m\u001b[0m\n\u001b[0;32m--> 130\u001b[0;31m                 \u001b[0mmodel\u001b[0m \u001b[0;34m=\u001b[0m \u001b[0mload_model\u001b[0m\u001b[0;34m(\u001b[0m\u001b[0mpathname\u001b[0m\u001b[0;34m)\u001b[0m\u001b[0;34m\u001b[0m\u001b[0;34m\u001b[0m\u001b[0m\n\u001b[0m\u001b[1;32m    131\u001b[0m             \u001b[0;32melse\u001b[0m\u001b[0;34m:\u001b[0m\u001b[0;34m\u001b[0m\u001b[0;34m\u001b[0m\u001b[0m\n\u001b[1;32m    132\u001b[0m                 \u001b[0mmodel\u001b[0m \u001b[0;34m=\u001b[0m \u001b[0mload\u001b[0m\u001b[0;34m(\u001b[0m\u001b[0mpathname\u001b[0m\u001b[0;34m)\u001b[0m\u001b[0;34m\u001b[0m\u001b[0;34m\u001b[0m\u001b[0m\n",
      "\u001b[0;32m~/anaconda3/envs/metis/lib/python3.7/site-packages/keras/engine/saving.py\u001b[0m in \u001b[0;36mload_wrapper\u001b[0;34m(*args, **kwargs)\u001b[0m\n\u001b[1;32m    456\u001b[0m                 \u001b[0mos\u001b[0m\u001b[0;34m.\u001b[0m\u001b[0mremove\u001b[0m\u001b[0;34m(\u001b[0m\u001b[0mtmp_filepath\u001b[0m\u001b[0;34m)\u001b[0m\u001b[0;34m\u001b[0m\u001b[0;34m\u001b[0m\u001b[0m\n\u001b[1;32m    457\u001b[0m             \u001b[0;32mreturn\u001b[0m \u001b[0mres\u001b[0m\u001b[0;34m\u001b[0m\u001b[0;34m\u001b[0m\u001b[0m\n\u001b[0;32m--> 458\u001b[0;31m         \u001b[0;32mreturn\u001b[0m \u001b[0mload_function\u001b[0m\u001b[0;34m(\u001b[0m\u001b[0;34m*\u001b[0m\u001b[0margs\u001b[0m\u001b[0;34m,\u001b[0m \u001b[0;34m**\u001b[0m\u001b[0mkwargs\u001b[0m\u001b[0;34m)\u001b[0m\u001b[0;34m\u001b[0m\u001b[0;34m\u001b[0m\u001b[0m\n\u001b[0m\u001b[1;32m    459\u001b[0m \u001b[0;34m\u001b[0m\u001b[0m\n\u001b[1;32m    460\u001b[0m     \u001b[0;32mreturn\u001b[0m \u001b[0mload_wrapper\u001b[0m\u001b[0;34m\u001b[0m\u001b[0;34m\u001b[0m\u001b[0m\n",
      "\u001b[0;32m~/anaconda3/envs/metis/lib/python3.7/site-packages/keras/engine/saving.py\u001b[0m in \u001b[0;36mload_model\u001b[0;34m(filepath, custom_objects, compile)\u001b[0m\n\u001b[1;32m    548\u001b[0m     \u001b[0;32mif\u001b[0m \u001b[0mH5Dict\u001b[0m\u001b[0;34m.\u001b[0m\u001b[0mis_supported_type\u001b[0m\u001b[0;34m(\u001b[0m\u001b[0mfilepath\u001b[0m\u001b[0;34m)\u001b[0m\u001b[0;34m:\u001b[0m\u001b[0;34m\u001b[0m\u001b[0;34m\u001b[0m\u001b[0m\n\u001b[1;32m    549\u001b[0m         \u001b[0;32mwith\u001b[0m \u001b[0mH5Dict\u001b[0m\u001b[0;34m(\u001b[0m\u001b[0mfilepath\u001b[0m\u001b[0;34m,\u001b[0m \u001b[0mmode\u001b[0m\u001b[0;34m=\u001b[0m\u001b[0;34m'r'\u001b[0m\u001b[0;34m)\u001b[0m \u001b[0;32mas\u001b[0m \u001b[0mh5dict\u001b[0m\u001b[0;34m:\u001b[0m\u001b[0;34m\u001b[0m\u001b[0;34m\u001b[0m\u001b[0m\n\u001b[0;32m--> 550\u001b[0;31m             \u001b[0mmodel\u001b[0m \u001b[0;34m=\u001b[0m \u001b[0m_deserialize_model\u001b[0m\u001b[0;34m(\u001b[0m\u001b[0mh5dict\u001b[0m\u001b[0;34m,\u001b[0m \u001b[0mcustom_objects\u001b[0m\u001b[0;34m,\u001b[0m \u001b[0mcompile\u001b[0m\u001b[0;34m)\u001b[0m\u001b[0;34m\u001b[0m\u001b[0;34m\u001b[0m\u001b[0m\n\u001b[0m\u001b[1;32m    551\u001b[0m     \u001b[0;32melif\u001b[0m \u001b[0mhasattr\u001b[0m\u001b[0;34m(\u001b[0m\u001b[0mfilepath\u001b[0m\u001b[0;34m,\u001b[0m \u001b[0;34m'write'\u001b[0m\u001b[0;34m)\u001b[0m \u001b[0;32mand\u001b[0m \u001b[0mcallable\u001b[0m\u001b[0;34m(\u001b[0m\u001b[0mfilepath\u001b[0m\u001b[0;34m.\u001b[0m\u001b[0mwrite\u001b[0m\u001b[0;34m)\u001b[0m\u001b[0;34m:\u001b[0m\u001b[0;34m\u001b[0m\u001b[0;34m\u001b[0m\u001b[0m\n\u001b[1;32m    552\u001b[0m         \u001b[0;32mdef\u001b[0m \u001b[0mload_function\u001b[0m\u001b[0;34m(\u001b[0m\u001b[0mh5file\u001b[0m\u001b[0;34m)\u001b[0m\u001b[0;34m:\u001b[0m\u001b[0;34m\u001b[0m\u001b[0;34m\u001b[0m\u001b[0m\n",
      "\u001b[0;32m~/anaconda3/envs/metis/lib/python3.7/site-packages/keras/engine/saving.py\u001b[0m in \u001b[0;36m_deserialize_model\u001b[0;34m(h5dict, custom_objects, compile)\u001b[0m\n\u001b[1;32m    274\u001b[0m         raise ValueError('You are trying to load a weight file'\n\u001b[1;32m    275\u001b[0m                          \u001b[0;34m' containing {} layers into a model with {} layers'\u001b[0m\u001b[0;34m\u001b[0m\u001b[0;34m\u001b[0m\u001b[0m\n\u001b[0;32m--> 276\u001b[0;31m                          \u001b[0;34m.\u001b[0m\u001b[0mformat\u001b[0m\u001b[0;34m(\u001b[0m\u001b[0mlen\u001b[0m\u001b[0;34m(\u001b[0m\u001b[0mlayer_names\u001b[0m\u001b[0;34m)\u001b[0m\u001b[0;34m,\u001b[0m \u001b[0mlen\u001b[0m\u001b[0;34m(\u001b[0m\u001b[0mfiltered_layers\u001b[0m\u001b[0;34m)\u001b[0m\u001b[0;34m)\u001b[0m\u001b[0;34m\u001b[0m\u001b[0;34m\u001b[0m\u001b[0m\n\u001b[0m\u001b[1;32m    277\u001b[0m                          )\n\u001b[1;32m    278\u001b[0m \u001b[0;34m\u001b[0m\u001b[0m\n",
      "\u001b[0;31mValueError\u001b[0m: You are trying to load a weight file containing 4 layers into a model with 0 layers"
     ]
    }
   ],
   "source": [
    "DNN1 = read_model(target,filename)"
   ]
  },
  {
   "cell_type": "code",
   "execution_count": 11,
   "metadata": {
    "ExecuteTime": {
     "end_time": "2019-12-02T23:44:39.722269Z",
     "start_time": "2019-12-02T23:44:39.631489Z"
    }
   },
   "outputs": [
    {
     "data": {
      "text/plain": [
       "'./models/NR_AhR/DNN1y.joblib'"
      ]
     },
     "execution_count": 11,
     "metadata": {},
     "output_type": "execute_result"
    }
   ],
   "source": [
    "from joblib import dump, load\n",
    "filename = dump(DNN, './models/NR_AhR/DNN1y.joblib')[0]\n",
    "filename"
   ]
  },
  {
   "cell_type": "code",
   "execution_count": 12,
   "metadata": {
    "ExecuteTime": {
     "end_time": "2019-12-02T23:44:43.206952Z",
     "start_time": "2019-12-02T23:44:43.167349Z"
    },
    "scrolled": true
   },
   "outputs": [
    {
     "ename": "ValueError",
     "evalue": "You are trying to load a weight file containing 4 layers into a model with 0 layers",
     "output_type": "error",
     "traceback": [
      "\u001b[0;31m---------------------------------------------------------------------------\u001b[0m",
      "\u001b[0;31mValueError\u001b[0m                                Traceback (most recent call last)",
      "\u001b[0;32m<ipython-input-12-f13949cdb240>\u001b[0m in \u001b[0;36m<module>\u001b[0;34m\u001b[0m\n\u001b[0;32m----> 1\u001b[0;31m \u001b[0mDNN2\u001b[0m \u001b[0;34m=\u001b[0m \u001b[0mload\u001b[0m\u001b[0;34m(\u001b[0m\u001b[0mfilename\u001b[0m\u001b[0;34m)\u001b[0m\u001b[0;34m\u001b[0m\u001b[0;34m\u001b[0m\u001b[0m\n\u001b[0m",
      "\u001b[0;32m~/anaconda3/envs/metis/lib/python3.7/site-packages/joblib/numpy_pickle.py\u001b[0m in \u001b[0;36mload\u001b[0;34m(filename, mmap_mode)\u001b[0m\n\u001b[1;32m    596\u001b[0m                     \u001b[0;32mreturn\u001b[0m \u001b[0mload_compatibility\u001b[0m\u001b[0;34m(\u001b[0m\u001b[0mfobj\u001b[0m\u001b[0;34m)\u001b[0m\u001b[0;34m\u001b[0m\u001b[0;34m\u001b[0m\u001b[0m\n\u001b[1;32m    597\u001b[0m \u001b[0;34m\u001b[0m\u001b[0m\n\u001b[0;32m--> 598\u001b[0;31m                 \u001b[0mobj\u001b[0m \u001b[0;34m=\u001b[0m \u001b[0m_unpickle\u001b[0m\u001b[0;34m(\u001b[0m\u001b[0mfobj\u001b[0m\u001b[0;34m,\u001b[0m \u001b[0mfilename\u001b[0m\u001b[0;34m,\u001b[0m \u001b[0mmmap_mode\u001b[0m\u001b[0;34m)\u001b[0m\u001b[0;34m\u001b[0m\u001b[0;34m\u001b[0m\u001b[0m\n\u001b[0m\u001b[1;32m    599\u001b[0m \u001b[0;34m\u001b[0m\u001b[0m\n\u001b[1;32m    600\u001b[0m     \u001b[0;32mreturn\u001b[0m \u001b[0mobj\u001b[0m\u001b[0;34m\u001b[0m\u001b[0;34m\u001b[0m\u001b[0m\n",
      "\u001b[0;32m~/anaconda3/envs/metis/lib/python3.7/site-packages/joblib/numpy_pickle.py\u001b[0m in \u001b[0;36m_unpickle\u001b[0;34m(fobj, filename, mmap_mode)\u001b[0m\n\u001b[1;32m    524\u001b[0m     \u001b[0mobj\u001b[0m \u001b[0;34m=\u001b[0m \u001b[0;32mNone\u001b[0m\u001b[0;34m\u001b[0m\u001b[0;34m\u001b[0m\u001b[0m\n\u001b[1;32m    525\u001b[0m     \u001b[0;32mtry\u001b[0m\u001b[0;34m:\u001b[0m\u001b[0;34m\u001b[0m\u001b[0;34m\u001b[0m\u001b[0m\n\u001b[0;32m--> 526\u001b[0;31m         \u001b[0mobj\u001b[0m \u001b[0;34m=\u001b[0m \u001b[0munpickler\u001b[0m\u001b[0;34m.\u001b[0m\u001b[0mload\u001b[0m\u001b[0;34m(\u001b[0m\u001b[0;34m)\u001b[0m\u001b[0;34m\u001b[0m\u001b[0;34m\u001b[0m\u001b[0m\n\u001b[0m\u001b[1;32m    527\u001b[0m         \u001b[0;32mif\u001b[0m \u001b[0munpickler\u001b[0m\u001b[0;34m.\u001b[0m\u001b[0mcompat_mode\u001b[0m\u001b[0;34m:\u001b[0m\u001b[0;34m\u001b[0m\u001b[0;34m\u001b[0m\u001b[0m\n\u001b[1;32m    528\u001b[0m             warnings.warn(\"The file '%s' has been generated with a \"\n",
      "\u001b[0;32m~/anaconda3/envs/metis/lib/python3.7/pickle.py\u001b[0m in \u001b[0;36mload\u001b[0;34m(self)\u001b[0m\n\u001b[1;32m   1083\u001b[0m                     \u001b[0;32mraise\u001b[0m \u001b[0mEOFError\u001b[0m\u001b[0;34m\u001b[0m\u001b[0;34m\u001b[0m\u001b[0m\n\u001b[1;32m   1084\u001b[0m                 \u001b[0;32massert\u001b[0m \u001b[0misinstance\u001b[0m\u001b[0;34m(\u001b[0m\u001b[0mkey\u001b[0m\u001b[0;34m,\u001b[0m \u001b[0mbytes_types\u001b[0m\u001b[0;34m)\u001b[0m\u001b[0;34m\u001b[0m\u001b[0;34m\u001b[0m\u001b[0m\n\u001b[0;32m-> 1085\u001b[0;31m                 \u001b[0mdispatch\u001b[0m\u001b[0;34m[\u001b[0m\u001b[0mkey\u001b[0m\u001b[0;34m[\u001b[0m\u001b[0;36m0\u001b[0m\u001b[0;34m]\u001b[0m\u001b[0;34m]\u001b[0m\u001b[0;34m(\u001b[0m\u001b[0mself\u001b[0m\u001b[0;34m)\u001b[0m\u001b[0;34m\u001b[0m\u001b[0;34m\u001b[0m\u001b[0m\n\u001b[0m\u001b[1;32m   1086\u001b[0m         \u001b[0;32mexcept\u001b[0m \u001b[0m_Stop\u001b[0m \u001b[0;32mas\u001b[0m \u001b[0mstopinst\u001b[0m\u001b[0;34m:\u001b[0m\u001b[0;34m\u001b[0m\u001b[0;34m\u001b[0m\u001b[0m\n\u001b[1;32m   1087\u001b[0m             \u001b[0;32mreturn\u001b[0m \u001b[0mstopinst\u001b[0m\u001b[0;34m.\u001b[0m\u001b[0mvalue\u001b[0m\u001b[0;34m\u001b[0m\u001b[0;34m\u001b[0m\u001b[0m\n",
      "\u001b[0;32m~/anaconda3/envs/metis/lib/python3.7/site-packages/joblib/numpy_pickle.py\u001b[0m in \u001b[0;36mload_build\u001b[0;34m(self)\u001b[0m\n\u001b[1;32m    337\u001b[0m         \u001b[0mNDArrayWrapper\u001b[0m \u001b[0;32mis\u001b[0m \u001b[0mused\u001b[0m \u001b[0;32mfor\u001b[0m \u001b[0mbackward\u001b[0m \u001b[0mcompatibility\u001b[0m \u001b[0;32mwith\u001b[0m \u001b[0mjoblib\u001b[0m \u001b[0;34m<=\u001b[0m \u001b[0;36m0.9\u001b[0m\u001b[0;34m.\u001b[0m\u001b[0;34m\u001b[0m\u001b[0;34m\u001b[0m\u001b[0m\n\u001b[1;32m    338\u001b[0m         \"\"\"\n\u001b[0;32m--> 339\u001b[0;31m         \u001b[0mUnpickler\u001b[0m\u001b[0;34m.\u001b[0m\u001b[0mload_build\u001b[0m\u001b[0;34m(\u001b[0m\u001b[0mself\u001b[0m\u001b[0;34m)\u001b[0m\u001b[0;34m\u001b[0m\u001b[0;34m\u001b[0m\u001b[0m\n\u001b[0m\u001b[1;32m    340\u001b[0m \u001b[0;34m\u001b[0m\u001b[0m\n\u001b[1;32m    341\u001b[0m         \u001b[0;31m# For backward compatibility, we support NDArrayWrapper objects.\u001b[0m\u001b[0;34m\u001b[0m\u001b[0;34m\u001b[0m\u001b[0;34m\u001b[0m\u001b[0m\n",
      "\u001b[0;32m~/anaconda3/envs/metis/lib/python3.7/pickle.py\u001b[0m in \u001b[0;36mload_build\u001b[0;34m(self)\u001b[0m\n\u001b[1;32m   1547\u001b[0m         \u001b[0msetstate\u001b[0m \u001b[0;34m=\u001b[0m \u001b[0mgetattr\u001b[0m\u001b[0;34m(\u001b[0m\u001b[0minst\u001b[0m\u001b[0;34m,\u001b[0m \u001b[0;34m\"__setstate__\"\u001b[0m\u001b[0;34m,\u001b[0m \u001b[0;32mNone\u001b[0m\u001b[0;34m)\u001b[0m\u001b[0;34m\u001b[0m\u001b[0;34m\u001b[0m\u001b[0m\n\u001b[1;32m   1548\u001b[0m         \u001b[0;32mif\u001b[0m \u001b[0msetstate\u001b[0m \u001b[0;32mis\u001b[0m \u001b[0;32mnot\u001b[0m \u001b[0;32mNone\u001b[0m\u001b[0;34m:\u001b[0m\u001b[0;34m\u001b[0m\u001b[0;34m\u001b[0m\u001b[0m\n\u001b[0;32m-> 1549\u001b[0;31m             \u001b[0msetstate\u001b[0m\u001b[0;34m(\u001b[0m\u001b[0mstate\u001b[0m\u001b[0;34m)\u001b[0m\u001b[0;34m\u001b[0m\u001b[0;34m\u001b[0m\u001b[0m\n\u001b[0m\u001b[1;32m   1550\u001b[0m             \u001b[0;32mreturn\u001b[0m\u001b[0;34m\u001b[0m\u001b[0;34m\u001b[0m\u001b[0m\n\u001b[1;32m   1551\u001b[0m         \u001b[0mslotstate\u001b[0m \u001b[0;34m=\u001b[0m \u001b[0;32mNone\u001b[0m\u001b[0;34m\u001b[0m\u001b[0;34m\u001b[0m\u001b[0m\n",
      "\u001b[0;32m~/anaconda3/envs/metis/lib/python3.7/site-packages/keras/engine/network.py\u001b[0m in \u001b[0;36m__setstate__\u001b[0;34m(self, state)\u001b[0m\n\u001b[1;32m   1319\u001b[0m \u001b[0;34m\u001b[0m\u001b[0m\n\u001b[1;32m   1320\u001b[0m     \u001b[0;32mdef\u001b[0m \u001b[0m__setstate__\u001b[0m\u001b[0;34m(\u001b[0m\u001b[0mself\u001b[0m\u001b[0;34m,\u001b[0m \u001b[0mstate\u001b[0m\u001b[0;34m)\u001b[0m\u001b[0;34m:\u001b[0m\u001b[0;34m\u001b[0m\u001b[0;34m\u001b[0m\u001b[0m\n\u001b[0;32m-> 1321\u001b[0;31m         \u001b[0mmodel\u001b[0m \u001b[0;34m=\u001b[0m \u001b[0msaving\u001b[0m\u001b[0;34m.\u001b[0m\u001b[0munpickle_model\u001b[0m\u001b[0;34m(\u001b[0m\u001b[0mstate\u001b[0m\u001b[0;34m)\u001b[0m\u001b[0;34m\u001b[0m\u001b[0;34m\u001b[0m\u001b[0m\n\u001b[0m\u001b[1;32m   1322\u001b[0m         \u001b[0mself\u001b[0m\u001b[0;34m.\u001b[0m\u001b[0m__dict__\u001b[0m\u001b[0;34m.\u001b[0m\u001b[0mupdate\u001b[0m\u001b[0;34m(\u001b[0m\u001b[0mmodel\u001b[0m\u001b[0;34m.\u001b[0m\u001b[0m__dict__\u001b[0m\u001b[0;34m)\u001b[0m\u001b[0;34m\u001b[0m\u001b[0;34m\u001b[0m\u001b[0m\n\u001b[1;32m   1323\u001b[0m \u001b[0;34m\u001b[0m\u001b[0m\n",
      "\u001b[0;32m~/anaconda3/envs/metis/lib/python3.7/site-packages/keras/engine/saving.py\u001b[0m in \u001b[0;36munpickle_model\u001b[0;34m(state)\u001b[0m\n\u001b[1;32m    568\u001b[0m \u001b[0;32mdef\u001b[0m \u001b[0munpickle_model\u001b[0m\u001b[0;34m(\u001b[0m\u001b[0mstate\u001b[0m\u001b[0;34m)\u001b[0m\u001b[0;34m:\u001b[0m\u001b[0;34m\u001b[0m\u001b[0;34m\u001b[0m\u001b[0m\n\u001b[1;32m    569\u001b[0m     \u001b[0mh5dict\u001b[0m \u001b[0;34m=\u001b[0m \u001b[0mH5Dict\u001b[0m\u001b[0;34m(\u001b[0m\u001b[0mstate\u001b[0m\u001b[0;34m,\u001b[0m \u001b[0mmode\u001b[0m\u001b[0;34m=\u001b[0m\u001b[0;34m'r'\u001b[0m\u001b[0;34m)\u001b[0m\u001b[0;34m\u001b[0m\u001b[0;34m\u001b[0m\u001b[0m\n\u001b[0;32m--> 570\u001b[0;31m     \u001b[0;32mreturn\u001b[0m \u001b[0m_deserialize_model\u001b[0m\u001b[0;34m(\u001b[0m\u001b[0mh5dict\u001b[0m\u001b[0;34m)\u001b[0m\u001b[0;34m\u001b[0m\u001b[0;34m\u001b[0m\u001b[0m\n\u001b[0m\u001b[1;32m    571\u001b[0m \u001b[0;34m\u001b[0m\u001b[0m\n\u001b[1;32m    572\u001b[0m \u001b[0;34m\u001b[0m\u001b[0m\n",
      "\u001b[0;32m~/anaconda3/envs/metis/lib/python3.7/site-packages/keras/engine/saving.py\u001b[0m in \u001b[0;36m_deserialize_model\u001b[0;34m(h5dict, custom_objects, compile)\u001b[0m\n\u001b[1;32m    274\u001b[0m         raise ValueError('You are trying to load a weight file'\n\u001b[1;32m    275\u001b[0m                          \u001b[0;34m' containing {} layers into a model with {} layers'\u001b[0m\u001b[0;34m\u001b[0m\u001b[0;34m\u001b[0m\u001b[0m\n\u001b[0;32m--> 276\u001b[0;31m                          \u001b[0;34m.\u001b[0m\u001b[0mformat\u001b[0m\u001b[0;34m(\u001b[0m\u001b[0mlen\u001b[0m\u001b[0;34m(\u001b[0m\u001b[0mlayer_names\u001b[0m\u001b[0;34m)\u001b[0m\u001b[0;34m,\u001b[0m \u001b[0mlen\u001b[0m\u001b[0;34m(\u001b[0m\u001b[0mfiltered_layers\u001b[0m\u001b[0;34m)\u001b[0m\u001b[0;34m)\u001b[0m\u001b[0;34m\u001b[0m\u001b[0;34m\u001b[0m\u001b[0m\n\u001b[0m\u001b[1;32m    277\u001b[0m                          )\n\u001b[1;32m    278\u001b[0m \u001b[0;34m\u001b[0m\u001b[0m\n",
      "\u001b[0;31mValueError\u001b[0m: You are trying to load a weight file containing 4 layers into a model with 0 layers"
     ]
    }
   ],
   "source": [
    "DNN2 = load(filename)"
   ]
  },
  {
   "cell_type": "code",
   "execution_count": 13,
   "metadata": {
    "ExecuteTime": {
     "end_time": "2019-12-02T23:44:56.699088Z",
     "start_time": "2019-12-02T23:44:56.582967Z"
    }
   },
   "outputs": [],
   "source": [
    "import pickle\n",
    "pickle.dump(DNN,open('./models/NR_AhR/DNN1z.pkl', 'wb'))"
   ]
  },
  {
   "cell_type": "code",
   "execution_count": 14,
   "metadata": {
    "ExecuteTime": {
     "end_time": "2019-12-02T23:44:57.629430Z",
     "start_time": "2019-12-02T23:44:57.597401Z"
    }
   },
   "outputs": [
    {
     "ename": "ValueError",
     "evalue": "You are trying to load a weight file containing 4 layers into a model with 0 layers",
     "output_type": "error",
     "traceback": [
      "\u001b[0;31m---------------------------------------------------------------------------\u001b[0m",
      "\u001b[0;31mValueError\u001b[0m                                Traceback (most recent call last)",
      "\u001b[0;32m<ipython-input-14-6955a54554f9>\u001b[0m in \u001b[0;36m<module>\u001b[0;34m\u001b[0m\n\u001b[0;32m----> 1\u001b[0;31m \u001b[0mDNN3\u001b[0m\u001b[0;34m=\u001b[0m\u001b[0mpickle\u001b[0m\u001b[0;34m.\u001b[0m\u001b[0mload\u001b[0m\u001b[0;34m(\u001b[0m\u001b[0mopen\u001b[0m\u001b[0;34m(\u001b[0m\u001b[0;34m'./models/NR_AhR/DNN1z.pkl'\u001b[0m\u001b[0;34m,\u001b[0m \u001b[0;34m'rb'\u001b[0m\u001b[0;34m)\u001b[0m\u001b[0;34m)\u001b[0m\u001b[0;34m\u001b[0m\u001b[0;34m\u001b[0m\u001b[0m\n\u001b[0m",
      "\u001b[0;32m~/anaconda3/envs/metis/lib/python3.7/site-packages/keras/engine/network.py\u001b[0m in \u001b[0;36m__setstate__\u001b[0;34m(self, state)\u001b[0m\n\u001b[1;32m   1319\u001b[0m \u001b[0;34m\u001b[0m\u001b[0m\n\u001b[1;32m   1320\u001b[0m     \u001b[0;32mdef\u001b[0m \u001b[0m__setstate__\u001b[0m\u001b[0;34m(\u001b[0m\u001b[0mself\u001b[0m\u001b[0;34m,\u001b[0m \u001b[0mstate\u001b[0m\u001b[0;34m)\u001b[0m\u001b[0;34m:\u001b[0m\u001b[0;34m\u001b[0m\u001b[0;34m\u001b[0m\u001b[0m\n\u001b[0;32m-> 1321\u001b[0;31m         \u001b[0mmodel\u001b[0m \u001b[0;34m=\u001b[0m \u001b[0msaving\u001b[0m\u001b[0;34m.\u001b[0m\u001b[0munpickle_model\u001b[0m\u001b[0;34m(\u001b[0m\u001b[0mstate\u001b[0m\u001b[0;34m)\u001b[0m\u001b[0;34m\u001b[0m\u001b[0;34m\u001b[0m\u001b[0m\n\u001b[0m\u001b[1;32m   1322\u001b[0m         \u001b[0mself\u001b[0m\u001b[0;34m.\u001b[0m\u001b[0m__dict__\u001b[0m\u001b[0;34m.\u001b[0m\u001b[0mupdate\u001b[0m\u001b[0;34m(\u001b[0m\u001b[0mmodel\u001b[0m\u001b[0;34m.\u001b[0m\u001b[0m__dict__\u001b[0m\u001b[0;34m)\u001b[0m\u001b[0;34m\u001b[0m\u001b[0;34m\u001b[0m\u001b[0m\n\u001b[1;32m   1323\u001b[0m \u001b[0;34m\u001b[0m\u001b[0m\n",
      "\u001b[0;32m~/anaconda3/envs/metis/lib/python3.7/site-packages/keras/engine/saving.py\u001b[0m in \u001b[0;36munpickle_model\u001b[0;34m(state)\u001b[0m\n\u001b[1;32m    568\u001b[0m \u001b[0;32mdef\u001b[0m \u001b[0munpickle_model\u001b[0m\u001b[0;34m(\u001b[0m\u001b[0mstate\u001b[0m\u001b[0;34m)\u001b[0m\u001b[0;34m:\u001b[0m\u001b[0;34m\u001b[0m\u001b[0;34m\u001b[0m\u001b[0m\n\u001b[1;32m    569\u001b[0m     \u001b[0mh5dict\u001b[0m \u001b[0;34m=\u001b[0m \u001b[0mH5Dict\u001b[0m\u001b[0;34m(\u001b[0m\u001b[0mstate\u001b[0m\u001b[0;34m,\u001b[0m \u001b[0mmode\u001b[0m\u001b[0;34m=\u001b[0m\u001b[0;34m'r'\u001b[0m\u001b[0;34m)\u001b[0m\u001b[0;34m\u001b[0m\u001b[0;34m\u001b[0m\u001b[0m\n\u001b[0;32m--> 570\u001b[0;31m     \u001b[0;32mreturn\u001b[0m \u001b[0m_deserialize_model\u001b[0m\u001b[0;34m(\u001b[0m\u001b[0mh5dict\u001b[0m\u001b[0;34m)\u001b[0m\u001b[0;34m\u001b[0m\u001b[0;34m\u001b[0m\u001b[0m\n\u001b[0m\u001b[1;32m    571\u001b[0m \u001b[0;34m\u001b[0m\u001b[0m\n\u001b[1;32m    572\u001b[0m \u001b[0;34m\u001b[0m\u001b[0m\n",
      "\u001b[0;32m~/anaconda3/envs/metis/lib/python3.7/site-packages/keras/engine/saving.py\u001b[0m in \u001b[0;36m_deserialize_model\u001b[0;34m(h5dict, custom_objects, compile)\u001b[0m\n\u001b[1;32m    274\u001b[0m         raise ValueError('You are trying to load a weight file'\n\u001b[1;32m    275\u001b[0m                          \u001b[0;34m' containing {} layers into a model with {} layers'\u001b[0m\u001b[0;34m\u001b[0m\u001b[0;34m\u001b[0m\u001b[0m\n\u001b[0;32m--> 276\u001b[0;31m                          \u001b[0;34m.\u001b[0m\u001b[0mformat\u001b[0m\u001b[0;34m(\u001b[0m\u001b[0mlen\u001b[0m\u001b[0;34m(\u001b[0m\u001b[0mlayer_names\u001b[0m\u001b[0;34m)\u001b[0m\u001b[0;34m,\u001b[0m \u001b[0mlen\u001b[0m\u001b[0;34m(\u001b[0m\u001b[0mfiltered_layers\u001b[0m\u001b[0;34m)\u001b[0m\u001b[0;34m)\u001b[0m\u001b[0;34m\u001b[0m\u001b[0;34m\u001b[0m\u001b[0m\n\u001b[0m\u001b[1;32m    277\u001b[0m                          )\n\u001b[1;32m    278\u001b[0m \u001b[0;34m\u001b[0m\u001b[0m\n",
      "\u001b[0;31mValueError\u001b[0m: You are trying to load a weight file containing 4 layers into a model with 0 layers"
     ]
    }
   ],
   "source": [
    "DNN3=pickle.load(open('./models/NR_AhR/DNN1z.pkl', 'rb'))"
   ]
  },
  {
   "cell_type": "code",
   "execution_count": 16,
   "metadata": {
    "ExecuteTime": {
     "end_time": "2019-12-02T23:48:10.629810Z",
     "start_time": "2019-12-02T23:48:10.409328Z"
    }
   },
   "outputs": [
    {
     "name": "stdout",
     "output_type": "stream",
     "text": [
      "Model: \"sequential_2\"\n",
      "_________________________________________________________________\n",
      "Layer (type)                 Output Shape              Param #   \n",
      "=================================================================\n",
      "h0_sigmoid_activation (Dense (None, 1024)              1684480   \n",
      "_________________________________________________________________\n",
      "Dropout0 (Dropout)           (None, 1024)              0         \n",
      "_________________________________________________________________\n",
      "h1_sigmoid_activation (Dense (None, 1024)              1049600   \n",
      "_________________________________________________________________\n",
      "Dropout1 (Dropout)           (None, 1024)              0         \n",
      "_________________________________________________________________\n",
      "h2_sigmoid_activation (Dense (None, 1024)              1049600   \n",
      "_________________________________________________________________\n",
      "Dropout2 (Dropout)           (None, 1024)              0         \n",
      "_________________________________________________________________\n",
      "dense_2 (Dense)              (None, 1)                 1025      \n",
      "=================================================================\n",
      "Total params: 3,784,705\n",
      "Trainable params: 3,784,705\n",
      "Non-trainable params: 0\n",
      "_________________________________________________________________\n"
     ]
    }
   ],
   "source": [
    "DNN = keras.Sequential()\n",
    "DNN.add(Dense(neurons, activation=act,input_shape=x_tr.shape[1:],name='h0_'+act+'_activation'))\n",
    "DNN.add(Dropout(rate=drop_out,name='Dropout0'))\n",
    "for i in range(1,layers):\n",
    "# DNN = keras.Sequential([\n",
    "#     keras.layers.InputLayer(input_shape=x_tr.shape[1:],name='Input_Layer')\n",
    "# ])\n",
    "# for i in range(1,layers+1):\n",
    "    DNN.add(Dense(units=neurons, activation=act,\\\n",
    "                  name='h'+str(i)+'_'+act+'_activation',\\\n",
    "                  kernel_regularizer=keras.regularizers.l2(L2_reg)))\n",
    "    DNN.add(Dropout(rate=drop_out,name='Dropout'+str(i)))\n",
    "DNN.add(Dense(units=1, activation='sigmoid'))\n",
    "keras.optimizers.Adam(lr=learn_rate, beta_1=0.9,\\\n",
    "                      beta_2=0.999, decay=decay, amsgrad=False)\n",
    "DNN.compile(optimizer='adam', loss='binary_crossentropy',\\\n",
    "            metrics=['accuracy',recall_m,f1])\n",
    "DNN.summary()"
   ]
  },
  {
   "cell_type": "code",
   "execution_count": 17,
   "metadata": {
    "ExecuteTime": {
     "end_time": "2019-12-02T23:49:20.012434Z",
     "start_time": "2019-12-02T23:48:18.008043Z"
    }
   },
   "outputs": [
    {
     "name": "stdout",
     "output_type": "stream",
     "text": [
      "Train on 11934 samples, validate on 1689 samples\n",
      "Epoch 1/100\n",
      "11934/11934 [==============================] - 3s 241us/step - loss: 1.1342 - acc: 0.5114 - recall_m: 0.5730 - f1: 0.4606 - val_loss: 0.7172 - val_acc: 0.8840 - val_recall_m: 0.0000e+00 - val_f1: 0.0000e+00\n",
      "Epoch 2/100\n",
      "11934/11934 [==============================] - 2s 187us/step - loss: 0.8757 - acc: 0.5711 - recall_m: 0.5398 - f1: 0.5456 - val_loss: 0.7823 - val_acc: 0.5252 - val_recall_m: 0.8753 - val_f1: 0.2982\n",
      "Epoch 3/100\n",
      "11934/11934 [==============================] - 2s 185us/step - loss: 0.7829 - acc: 0.6523 - recall_m: 0.6846 - f1: 0.6622 - val_loss: 0.7420 - val_acc: 0.6821 - val_recall_m: 0.7851 - val_f1: 0.3628\n",
      "Epoch 4/100\n",
      "11934/11934 [==============================] - 2s 208us/step - loss: 0.7393 - acc: 0.6824 - recall_m: 0.7265 - f1: 0.6951 - val_loss: 0.6407 - val_acc: 0.7626 - val_recall_m: 0.7019 - val_f1: 0.4010\n",
      "Epoch 5/100\n",
      "11934/11934 [==============================] - 3s 217us/step - loss: 0.7169 - acc: 0.6910 - recall_m: 0.7276 - f1: 0.7009 - val_loss: 0.6643 - val_acc: 0.7377 - val_recall_m: 0.7570 - val_f1: 0.3965\n",
      "Epoch 6/100\n",
      "11934/11934 [==============================] - 3s 212us/step - loss: 0.7004 - acc: 0.7053 - recall_m: 0.7352 - f1: 0.7114 - val_loss: 0.6750 - val_acc: 0.6347 - val_recall_m: 0.8519 - val_f1: 0.3476\n",
      "Epoch 7/100\n",
      "11934/11934 [==============================] - 3s 213us/step - loss: 0.6800 - acc: 0.7120 - recall_m: 0.7502 - f1: 0.7217 - val_loss: 0.5008 - val_acc: 0.8585 - val_recall_m: 0.5116 - val_f1: 0.4510\n",
      "Epoch 8/100\n",
      "11934/11934 [==============================] - 3s 217us/step - loss: 0.6752 - acc: 0.7044 - recall_m: 0.7285 - f1: 0.7077 - val_loss: 0.6005 - val_acc: 0.7738 - val_recall_m: 0.7176 - val_f1: 0.4192\n",
      "Epoch 9/100\n",
      "11934/11934 [==============================] - 3s 231us/step - loss: 0.6536 - acc: 0.7195 - recall_m: 0.7478 - f1: 0.7265 - val_loss: 0.5750 - val_acc: 0.8034 - val_recall_m: 0.6834 - val_f1: 0.4408\n",
      "Epoch 10/100\n",
      "11934/11934 [==============================] - 3s 219us/step - loss: 0.6418 - acc: 0.7262 - recall_m: 0.7577 - f1: 0.7315 - val_loss: 0.5130 - val_acc: 0.8443 - val_recall_m: 0.6329 - val_f1: 0.4796\n",
      "\n",
      "Epoch 00010: ReduceLROnPlateau reducing learning rate to 0.0005000000237487257.\n",
      "Epoch 11/100\n",
      "11934/11934 [==============================] - 3s 229us/step - loss: 0.6230 - acc: 0.7333 - recall_m: 0.7600 - f1: 0.7387 - val_loss: 0.6151 - val_acc: 0.7549 - val_recall_m: 0.7602 - val_f1: 0.4130\n",
      "Epoch 12/100\n",
      "11934/11934 [==============================] - 3s 221us/step - loss: 0.6103 - acc: 0.7338 - recall_m: 0.7639 - f1: 0.7412 - val_loss: 0.5959 - val_acc: 0.6755 - val_recall_m: 0.8311 - val_f1: 0.3675\n",
      "Epoch 13/100\n",
      "11934/11934 [==============================] - 3s 224us/step - loss: 0.5966 - acc: 0.7461 - recall_m: 0.7633 - f1: 0.7496 - val_loss: 0.5600 - val_acc: 0.7430 - val_recall_m: 0.7439 - val_f1: 0.3963\n",
      "\n",
      "Epoch 00013: ReduceLROnPlateau reducing learning rate to 0.0002500000118743628.\n",
      "Epoch 14/100\n",
      "11934/11934 [==============================] - 3s 238us/step - loss: 0.5818 - acc: 0.7512 - recall_m: 0.7638 - f1: 0.7534 - val_loss: 0.5968 - val_acc: 0.7803 - val_recall_m: 0.7428 - val_f1: 0.4338\n",
      "Epoch 15/100\n",
      "11934/11934 [==============================] - 3s 229us/step - loss: 0.5781 - acc: 0.7543 - recall_m: 0.7702 - f1: 0.7579 - val_loss: 0.5527 - val_acc: 0.7993 - val_recall_m: 0.7114 - val_f1: 0.4454\n",
      "Epoch 16/100\n",
      "11934/11934 [==============================] - 3s 241us/step - loss: 0.5688 - acc: 0.7614 - recall_m: 0.7779 - f1: 0.7649 - val_loss: 0.5087 - val_acc: 0.8295 - val_recall_m: 0.6735 - val_f1: 0.4723\n",
      "\n",
      "Epoch 00016: ReduceLROnPlateau reducing learning rate to 0.0001250000059371814.\n",
      "Epoch 17/100\n",
      "11934/11934 [==============================] - 3s 225us/step - loss: 0.5596 - acc: 0.7628 - recall_m: 0.7762 - f1: 0.7655 - val_loss: 0.5601 - val_acc: 0.7555 - val_recall_m: 0.7647 - val_f1: 0.4143\n",
      "Epoch 18/100\n",
      "11934/11934 [==============================] - 3s 226us/step - loss: 0.5599 - acc: 0.7667 - recall_m: 0.7823 - f1: 0.7699 - val_loss: 0.5555 - val_acc: 0.8076 - val_recall_m: 0.7142 - val_f1: 0.4573\n",
      "Epoch 19/100\n",
      "11934/11934 [==============================] - 3s 247us/step - loss: 0.5541 - acc: 0.7664 - recall_m: 0.7788 - f1: 0.7686 - val_loss: 0.5751 - val_acc: 0.7300 - val_recall_m: 0.8086 - val_f1: 0.4042\n",
      "\n",
      "Epoch 00019: ReduceLROnPlateau reducing learning rate to 6.25000029685907e-05.\n",
      "Epoch 20/100\n",
      "11934/11934 [==============================] - 3s 224us/step - loss: 0.5520 - acc: 0.7658 - recall_m: 0.7921 - f1: 0.7714 - val_loss: 0.5309 - val_acc: 0.8182 - val_recall_m: 0.6931 - val_f1: 0.4635\n",
      "Epoch 21/100\n",
      "11934/11934 [==============================] - 3s 233us/step - loss: 0.5494 - acc: 0.7715 - recall_m: 0.7811 - f1: 0.7732 - val_loss: 0.5488 - val_acc: 0.7726 - val_recall_m: 0.7727 - val_f1: 0.4349\n",
      "Epoch 22/100\n",
      "11934/11934 [==============================] - 3s 232us/step - loss: 0.5482 - acc: 0.7702 - recall_m: 0.7897 - f1: 0.7742 - val_loss: 0.5388 - val_acc: 0.7934 - val_recall_m: 0.7426 - val_f1: 0.4494\n",
      "\n",
      "Epoch 00022: ReduceLROnPlateau reducing learning rate to 3.125000148429535e-05.\n",
      "Epoch 23/100\n",
      "11934/11934 [==============================] - 3s 240us/step - loss: 0.5420 - acc: 0.7718 - recall_m: 0.7859 - f1: 0.7747 - val_loss: 0.5367 - val_acc: 0.7993 - val_recall_m: 0.7358 - val_f1: 0.4537\n",
      "Restoring model weights from the end of the best epoch\n",
      "Epoch 00023: early stopping\n"
     ]
    }
   ],
   "source": [
    "for target in y_tr.columns[:1]:\n",
    "    # Train the DNN\n",
    "    DNN.fit(\n",
    "        x_resampled, y_resampled, batch_size=512, epochs=100,\\\n",
    "        validation_data=(x_val,y_val), verbose=1,\n",
    "        callbacks=[\n",
    "            keras.callbacks.EarlyStopping(patience=16,verbose=1,\\\n",
    "                                          restore_best_weights=True),\n",
    "            keras.callbacks.ReduceLROnPlateau(factor=0.5,patience=3,verbose=1)\n",
    "        ])"
   ]
  },
  {
   "cell_type": "code",
   "execution_count": 18,
   "metadata": {
    "ExecuteTime": {
     "end_time": "2019-12-02T23:49:43.073046Z",
     "start_time": "2019-12-02T23:49:42.773502Z"
    }
   },
   "outputs": [
    {
     "data": {
      "text/plain": [
       "'DNNtest0.h5'"
      ]
     },
     "execution_count": 18,
     "metadata": {},
     "output_type": "execute_result"
    }
   ],
   "source": [
    "filename = save_model(target,'DNNtest', DNN, True)\n",
    "filename"
   ]
  },
  {
   "cell_type": "code",
   "execution_count": 19,
   "metadata": {
    "ExecuteTime": {
     "end_time": "2019-12-02T23:49:47.084064Z",
     "start_time": "2019-12-02T23:49:46.726232Z"
    }
   },
   "outputs": [
    {
     "ename": "ValueError",
     "evalue": "Unknown metric function:recall_m",
     "output_type": "error",
     "traceback": [
      "\u001b[0;31m---------------------------------------------------------------------------\u001b[0m",
      "\u001b[0;31mValueError\u001b[0m                                Traceback (most recent call last)",
      "\u001b[0;32m<ipython-input-19-0140d48114b0>\u001b[0m in \u001b[0;36m<module>\u001b[0;34m\u001b[0m\n\u001b[0;32m----> 1\u001b[0;31m \u001b[0mDNN1\u001b[0m \u001b[0;34m=\u001b[0m \u001b[0mread_model\u001b[0m\u001b[0;34m(\u001b[0m\u001b[0mtarget\u001b[0m\u001b[0;34m,\u001b[0m\u001b[0mfilename\u001b[0m\u001b[0;34m)\u001b[0m\u001b[0;34m\u001b[0m\u001b[0;34m\u001b[0m\u001b[0m\n\u001b[0m",
      "\u001b[0;32m~/CloudStation/Metis/projects/project5/src/helper_functions.py\u001b[0m in \u001b[0;36mread_model\u001b[0;34m(target, filename)\u001b[0m\n\u001b[1;32m    128\u001b[0m         \u001b[0;32mif\u001b[0m \u001b[0mos\u001b[0m\u001b[0;34m.\u001b[0m\u001b[0mpath\u001b[0m\u001b[0;34m.\u001b[0m\u001b[0mexists\u001b[0m\u001b[0;34m(\u001b[0m\u001b[0mpathname\u001b[0m\u001b[0;34m)\u001b[0m\u001b[0;34m:\u001b[0m\u001b[0;34m\u001b[0m\u001b[0;34m\u001b[0m\u001b[0m\n\u001b[1;32m    129\u001b[0m             \u001b[0;32mif\u001b[0m \u001b[0mfilename\u001b[0m\u001b[0;34m[\u001b[0m\u001b[0;34m-\u001b[0m\u001b[0;36m2\u001b[0m\u001b[0;34m:\u001b[0m\u001b[0;34m]\u001b[0m\u001b[0;34m.\u001b[0m\u001b[0mlower\u001b[0m\u001b[0;34m(\u001b[0m\u001b[0;34m)\u001b[0m\u001b[0;34m==\u001b[0m\u001b[0;34m'h5'\u001b[0m\u001b[0;34m:\u001b[0m\u001b[0;34m\u001b[0m\u001b[0;34m\u001b[0m\u001b[0m\n\u001b[0;32m--> 130\u001b[0;31m                 \u001b[0mmodel\u001b[0m \u001b[0;34m=\u001b[0m \u001b[0mload_model\u001b[0m\u001b[0;34m(\u001b[0m\u001b[0mpathname\u001b[0m\u001b[0;34m)\u001b[0m\u001b[0;34m\u001b[0m\u001b[0;34m\u001b[0m\u001b[0m\n\u001b[0m\u001b[1;32m    131\u001b[0m             \u001b[0;32melse\u001b[0m\u001b[0;34m:\u001b[0m\u001b[0;34m\u001b[0m\u001b[0;34m\u001b[0m\u001b[0m\n\u001b[1;32m    132\u001b[0m                 \u001b[0mmodel\u001b[0m \u001b[0;34m=\u001b[0m \u001b[0mload\u001b[0m\u001b[0;34m(\u001b[0m\u001b[0mpathname\u001b[0m\u001b[0;34m)\u001b[0m\u001b[0;34m\u001b[0m\u001b[0;34m\u001b[0m\u001b[0m\n",
      "\u001b[0;32m~/anaconda3/envs/metis/lib/python3.7/site-packages/keras/engine/saving.py\u001b[0m in \u001b[0;36mload_wrapper\u001b[0;34m(*args, **kwargs)\u001b[0m\n\u001b[1;32m    456\u001b[0m                 \u001b[0mos\u001b[0m\u001b[0;34m.\u001b[0m\u001b[0mremove\u001b[0m\u001b[0;34m(\u001b[0m\u001b[0mtmp_filepath\u001b[0m\u001b[0;34m)\u001b[0m\u001b[0;34m\u001b[0m\u001b[0;34m\u001b[0m\u001b[0m\n\u001b[1;32m    457\u001b[0m             \u001b[0;32mreturn\u001b[0m \u001b[0mres\u001b[0m\u001b[0;34m\u001b[0m\u001b[0;34m\u001b[0m\u001b[0m\n\u001b[0;32m--> 458\u001b[0;31m         \u001b[0;32mreturn\u001b[0m \u001b[0mload_function\u001b[0m\u001b[0;34m(\u001b[0m\u001b[0;34m*\u001b[0m\u001b[0margs\u001b[0m\u001b[0;34m,\u001b[0m \u001b[0;34m**\u001b[0m\u001b[0mkwargs\u001b[0m\u001b[0;34m)\u001b[0m\u001b[0;34m\u001b[0m\u001b[0;34m\u001b[0m\u001b[0m\n\u001b[0m\u001b[1;32m    459\u001b[0m \u001b[0;34m\u001b[0m\u001b[0m\n\u001b[1;32m    460\u001b[0m     \u001b[0;32mreturn\u001b[0m \u001b[0mload_wrapper\u001b[0m\u001b[0;34m\u001b[0m\u001b[0;34m\u001b[0m\u001b[0m\n",
      "\u001b[0;32m~/anaconda3/envs/metis/lib/python3.7/site-packages/keras/engine/saving.py\u001b[0m in \u001b[0;36mload_model\u001b[0;34m(filepath, custom_objects, compile)\u001b[0m\n\u001b[1;32m    548\u001b[0m     \u001b[0;32mif\u001b[0m \u001b[0mH5Dict\u001b[0m\u001b[0;34m.\u001b[0m\u001b[0mis_supported_type\u001b[0m\u001b[0;34m(\u001b[0m\u001b[0mfilepath\u001b[0m\u001b[0;34m)\u001b[0m\u001b[0;34m:\u001b[0m\u001b[0;34m\u001b[0m\u001b[0;34m\u001b[0m\u001b[0m\n\u001b[1;32m    549\u001b[0m         \u001b[0;32mwith\u001b[0m \u001b[0mH5Dict\u001b[0m\u001b[0;34m(\u001b[0m\u001b[0mfilepath\u001b[0m\u001b[0;34m,\u001b[0m \u001b[0mmode\u001b[0m\u001b[0;34m=\u001b[0m\u001b[0;34m'r'\u001b[0m\u001b[0;34m)\u001b[0m \u001b[0;32mas\u001b[0m \u001b[0mh5dict\u001b[0m\u001b[0;34m:\u001b[0m\u001b[0;34m\u001b[0m\u001b[0;34m\u001b[0m\u001b[0m\n\u001b[0;32m--> 550\u001b[0;31m             \u001b[0mmodel\u001b[0m \u001b[0;34m=\u001b[0m \u001b[0m_deserialize_model\u001b[0m\u001b[0;34m(\u001b[0m\u001b[0mh5dict\u001b[0m\u001b[0;34m,\u001b[0m \u001b[0mcustom_objects\u001b[0m\u001b[0;34m,\u001b[0m \u001b[0mcompile\u001b[0m\u001b[0;34m)\u001b[0m\u001b[0;34m\u001b[0m\u001b[0;34m\u001b[0m\u001b[0m\n\u001b[0m\u001b[1;32m    551\u001b[0m     \u001b[0;32melif\u001b[0m \u001b[0mhasattr\u001b[0m\u001b[0;34m(\u001b[0m\u001b[0mfilepath\u001b[0m\u001b[0;34m,\u001b[0m \u001b[0;34m'write'\u001b[0m\u001b[0;34m)\u001b[0m \u001b[0;32mand\u001b[0m \u001b[0mcallable\u001b[0m\u001b[0;34m(\u001b[0m\u001b[0mfilepath\u001b[0m\u001b[0;34m.\u001b[0m\u001b[0mwrite\u001b[0m\u001b[0;34m)\u001b[0m\u001b[0;34m:\u001b[0m\u001b[0;34m\u001b[0m\u001b[0;34m\u001b[0m\u001b[0m\n\u001b[1;32m    552\u001b[0m         \u001b[0;32mdef\u001b[0m \u001b[0mload_function\u001b[0m\u001b[0;34m(\u001b[0m\u001b[0mh5file\u001b[0m\u001b[0;34m)\u001b[0m\u001b[0;34m:\u001b[0m\u001b[0;34m\u001b[0m\u001b[0;34m\u001b[0m\u001b[0m\n",
      "\u001b[0;32m~/anaconda3/envs/metis/lib/python3.7/site-packages/keras/engine/saving.py\u001b[0m in \u001b[0;36m_deserialize_model\u001b[0;34m(h5dict, custom_objects, compile)\u001b[0m\n\u001b[1;32m    333\u001b[0m                       \u001b[0mweighted_metrics\u001b[0m\u001b[0;34m=\u001b[0m\u001b[0mweighted_metrics\u001b[0m\u001b[0;34m,\u001b[0m\u001b[0;34m\u001b[0m\u001b[0;34m\u001b[0m\u001b[0m\n\u001b[1;32m    334\u001b[0m                       \u001b[0mloss_weights\u001b[0m\u001b[0;34m=\u001b[0m\u001b[0mloss_weights\u001b[0m\u001b[0;34m,\u001b[0m\u001b[0;34m\u001b[0m\u001b[0;34m\u001b[0m\u001b[0m\n\u001b[0;32m--> 335\u001b[0;31m                       sample_weight_mode=sample_weight_mode)\n\u001b[0m\u001b[1;32m    336\u001b[0m \u001b[0;34m\u001b[0m\u001b[0m\n\u001b[1;32m    337\u001b[0m         \u001b[0;31m# Set optimizer weights.\u001b[0m\u001b[0;34m\u001b[0m\u001b[0;34m\u001b[0m\u001b[0;34m\u001b[0m\u001b[0m\n",
      "\u001b[0;32m~/anaconda3/envs/metis/lib/python3.7/site-packages/keras/engine/training.py\u001b[0m in \u001b[0;36mcompile\u001b[0;34m(self, optimizer, loss, metrics, loss_weights, sample_weight_mode, weighted_metrics, target_tensors, **kwargs)\u001b[0m\n\u001b[1;32m    452\u001b[0m                 \u001b[0moutput_metrics\u001b[0m \u001b[0;34m=\u001b[0m \u001b[0mnested_metrics\u001b[0m\u001b[0;34m[\u001b[0m\u001b[0mi\u001b[0m\u001b[0;34m]\u001b[0m\u001b[0;34m\u001b[0m\u001b[0;34m\u001b[0m\u001b[0m\n\u001b[1;32m    453\u001b[0m                 \u001b[0moutput_weighted_metrics\u001b[0m \u001b[0;34m=\u001b[0m \u001b[0mnested_weighted_metrics\u001b[0m\u001b[0;34m[\u001b[0m\u001b[0mi\u001b[0m\u001b[0;34m]\u001b[0m\u001b[0;34m\u001b[0m\u001b[0;34m\u001b[0m\u001b[0m\n\u001b[0;32m--> 454\u001b[0;31m                 \u001b[0mhandle_metrics\u001b[0m\u001b[0;34m(\u001b[0m\u001b[0moutput_metrics\u001b[0m\u001b[0;34m)\u001b[0m\u001b[0;34m\u001b[0m\u001b[0;34m\u001b[0m\u001b[0m\n\u001b[0m\u001b[1;32m    455\u001b[0m                 \u001b[0mhandle_metrics\u001b[0m\u001b[0;34m(\u001b[0m\u001b[0moutput_weighted_metrics\u001b[0m\u001b[0;34m,\u001b[0m \u001b[0mweights\u001b[0m\u001b[0;34m=\u001b[0m\u001b[0mweights\u001b[0m\u001b[0;34m)\u001b[0m\u001b[0;34m\u001b[0m\u001b[0;34m\u001b[0m\u001b[0m\n\u001b[1;32m    456\u001b[0m \u001b[0;34m\u001b[0m\u001b[0m\n",
      "\u001b[0;32m~/anaconda3/envs/metis/lib/python3.7/site-packages/keras/engine/training.py\u001b[0m in \u001b[0;36mhandle_metrics\u001b[0;34m(metrics, weights)\u001b[0m\n\u001b[1;32m    409\u001b[0m                     \u001b[0mmetric_name\u001b[0m \u001b[0;34m=\u001b[0m \u001b[0mmetric_name_prefix\u001b[0m \u001b[0;34m+\u001b[0m \u001b[0msuffix\u001b[0m\u001b[0;34m\u001b[0m\u001b[0;34m\u001b[0m\u001b[0m\n\u001b[1;32m    410\u001b[0m                 \u001b[0;32melse\u001b[0m\u001b[0;34m:\u001b[0m\u001b[0;34m\u001b[0m\u001b[0;34m\u001b[0m\u001b[0m\n\u001b[0;32m--> 411\u001b[0;31m                     \u001b[0mmetric_fn\u001b[0m \u001b[0;34m=\u001b[0m \u001b[0mmetrics_module\u001b[0m\u001b[0;34m.\u001b[0m\u001b[0mget\u001b[0m\u001b[0;34m(\u001b[0m\u001b[0mmetric\u001b[0m\u001b[0;34m)\u001b[0m\u001b[0;34m\u001b[0m\u001b[0;34m\u001b[0m\u001b[0m\n\u001b[0m\u001b[1;32m    412\u001b[0m                     \u001b[0mweighted_metric_fn\u001b[0m \u001b[0;34m=\u001b[0m \u001b[0mweighted_masked_objective\u001b[0m\u001b[0;34m(\u001b[0m\u001b[0mmetric_fn\u001b[0m\u001b[0;34m)\u001b[0m\u001b[0;34m\u001b[0m\u001b[0;34m\u001b[0m\u001b[0m\n\u001b[1;32m    413\u001b[0m                     \u001b[0;31m# Get metric name as string\u001b[0m\u001b[0;34m\u001b[0m\u001b[0;34m\u001b[0m\u001b[0;34m\u001b[0m\u001b[0m\n",
      "\u001b[0;32m~/anaconda3/envs/metis/lib/python3.7/site-packages/keras/metrics.py\u001b[0m in \u001b[0;36mget\u001b[0;34m(identifier)\u001b[0m\n\u001b[1;32m     79\u001b[0m         \u001b[0;32mreturn\u001b[0m \u001b[0mdeserialize\u001b[0m\u001b[0;34m(\u001b[0m\u001b[0mconfig\u001b[0m\u001b[0;34m)\u001b[0m\u001b[0;34m\u001b[0m\u001b[0;34m\u001b[0m\u001b[0m\n\u001b[1;32m     80\u001b[0m     \u001b[0;32melif\u001b[0m \u001b[0misinstance\u001b[0m\u001b[0;34m(\u001b[0m\u001b[0midentifier\u001b[0m\u001b[0;34m,\u001b[0m \u001b[0msix\u001b[0m\u001b[0;34m.\u001b[0m\u001b[0mstring_types\u001b[0m\u001b[0;34m)\u001b[0m\u001b[0;34m:\u001b[0m\u001b[0;34m\u001b[0m\u001b[0;34m\u001b[0m\u001b[0m\n\u001b[0;32m---> 81\u001b[0;31m         \u001b[0;32mreturn\u001b[0m \u001b[0mdeserialize\u001b[0m\u001b[0;34m(\u001b[0m\u001b[0mstr\u001b[0m\u001b[0;34m(\u001b[0m\u001b[0midentifier\u001b[0m\u001b[0;34m)\u001b[0m\u001b[0;34m)\u001b[0m\u001b[0;34m\u001b[0m\u001b[0;34m\u001b[0m\u001b[0m\n\u001b[0m\u001b[1;32m     82\u001b[0m     \u001b[0;32melif\u001b[0m \u001b[0mcallable\u001b[0m\u001b[0;34m(\u001b[0m\u001b[0midentifier\u001b[0m\u001b[0;34m)\u001b[0m\u001b[0;34m:\u001b[0m\u001b[0;34m\u001b[0m\u001b[0;34m\u001b[0m\u001b[0m\n\u001b[1;32m     83\u001b[0m         \u001b[0;32mreturn\u001b[0m \u001b[0midentifier\u001b[0m\u001b[0;34m\u001b[0m\u001b[0;34m\u001b[0m\u001b[0m\n",
      "\u001b[0;32m~/anaconda3/envs/metis/lib/python3.7/site-packages/keras/metrics.py\u001b[0m in \u001b[0;36mdeserialize\u001b[0;34m(config, custom_objects)\u001b[0m\n\u001b[1;32m     71\u001b[0m                                     \u001b[0mmodule_objects\u001b[0m\u001b[0;34m=\u001b[0m\u001b[0mglobals\u001b[0m\u001b[0;34m(\u001b[0m\u001b[0;34m)\u001b[0m\u001b[0;34m,\u001b[0m\u001b[0;34m\u001b[0m\u001b[0;34m\u001b[0m\u001b[0m\n\u001b[1;32m     72\u001b[0m                                     \u001b[0mcustom_objects\u001b[0m\u001b[0;34m=\u001b[0m\u001b[0mcustom_objects\u001b[0m\u001b[0;34m,\u001b[0m\u001b[0;34m\u001b[0m\u001b[0;34m\u001b[0m\u001b[0m\n\u001b[0;32m---> 73\u001b[0;31m                                     printable_module_name='metric function')\n\u001b[0m\u001b[1;32m     74\u001b[0m \u001b[0;34m\u001b[0m\u001b[0m\n\u001b[1;32m     75\u001b[0m \u001b[0;34m\u001b[0m\u001b[0m\n",
      "\u001b[0;32m~/anaconda3/envs/metis/lib/python3.7/site-packages/keras/utils/generic_utils.py\u001b[0m in \u001b[0;36mdeserialize_keras_object\u001b[0;34m(identifier, module_objects, custom_objects, printable_module_name)\u001b[0m\n\u001b[1;32m    165\u001b[0m             \u001b[0;32mif\u001b[0m \u001b[0mfn\u001b[0m \u001b[0;32mis\u001b[0m \u001b[0;32mNone\u001b[0m\u001b[0;34m:\u001b[0m\u001b[0;34m\u001b[0m\u001b[0;34m\u001b[0m\u001b[0m\n\u001b[1;32m    166\u001b[0m                 raise ValueError('Unknown ' + printable_module_name +\n\u001b[0;32m--> 167\u001b[0;31m                                  ':' + function_name)\n\u001b[0m\u001b[1;32m    168\u001b[0m         \u001b[0;32mreturn\u001b[0m \u001b[0mfn\u001b[0m\u001b[0;34m\u001b[0m\u001b[0;34m\u001b[0m\u001b[0m\n\u001b[1;32m    169\u001b[0m     \u001b[0;32melse\u001b[0m\u001b[0;34m:\u001b[0m\u001b[0;34m\u001b[0m\u001b[0;34m\u001b[0m\u001b[0m\n",
      "\u001b[0;31mValueError\u001b[0m: Unknown metric function:recall_m"
     ]
    }
   ],
   "source": [
    "DNN1 = read_model(target,filename)"
   ]
  },
  {
   "cell_type": "code",
   "execution_count": 20,
   "metadata": {
    "ExecuteTime": {
     "end_time": "2019-12-02T23:51:09.812916Z",
     "start_time": "2019-12-02T23:51:09.603089Z"
    }
   },
   "outputs": [
    {
     "name": "stdout",
     "output_type": "stream",
     "text": [
      "Model: \"sequential_3\"\n",
      "_________________________________________________________________\n",
      "Layer (type)                 Output Shape              Param #   \n",
      "=================================================================\n",
      "h0_sigmoid_activation (Dense (None, 1024)              1684480   \n",
      "_________________________________________________________________\n",
      "Dropout0 (Dropout)           (None, 1024)              0         \n",
      "_________________________________________________________________\n",
      "h1_sigmoid_activation (Dense (None, 1024)              1049600   \n",
      "_________________________________________________________________\n",
      "Dropout1 (Dropout)           (None, 1024)              0         \n",
      "_________________________________________________________________\n",
      "h2_sigmoid_activation (Dense (None, 1024)              1049600   \n",
      "_________________________________________________________________\n",
      "Dropout2 (Dropout)           (None, 1024)              0         \n",
      "_________________________________________________________________\n",
      "dense_3 (Dense)              (None, 1)                 1025      \n",
      "=================================================================\n",
      "Total params: 3,784,705\n",
      "Trainable params: 3,784,705\n",
      "Non-trainable params: 0\n",
      "_________________________________________________________________\n"
     ]
    }
   ],
   "source": [
    "DNN = keras.Sequential()\n",
    "DNN.add(Dense(neurons, activation=act,input_shape=x_tr.shape[1:],name='h0_'+act+'_activation'))\n",
    "DNN.add(Dropout(rate=drop_out,name='Dropout0'))\n",
    "for i in range(1,layers):\n",
    "    DNN.add(Dense(units=neurons, activation=act,\\\n",
    "                  name='h'+str(i)+'_'+act+'_activation',\\\n",
    "                  kernel_regularizer=keras.regularizers.l2(L2_reg)))\n",
    "    DNN.add(Dropout(rate=drop_out,name='Dropout'+str(i)))\n",
    "DNN.add(Dense(units=1, activation='sigmoid'))\n",
    "keras.optimizers.Adam(lr=learn_rate, beta_1=0.9,\\\n",
    "                      beta_2=0.999, decay=decay, amsgrad=False)\n",
    "DNN.compile(optimizer='adam', loss='binary_crossentropy',\\\n",
    "            metrics=['accuracy'])\n",
    "DNN.summary()"
   ]
  },
  {
   "cell_type": "code",
   "execution_count": 21,
   "metadata": {
    "ExecuteTime": {
     "end_time": "2019-12-02T23:52:57.048858Z",
     "start_time": "2019-12-02T23:51:16.282698Z"
    }
   },
   "outputs": [
    {
     "name": "stdout",
     "output_type": "stream",
     "text": [
      "Train on 11934 samples, validate on 1689 samples\n",
      "Epoch 1/100\n",
      "11934/11934 [==============================] - 3s 252us/step - loss: 1.1021 - acc: 0.5243 - val_loss: 0.7184 - val_acc: 0.8437\n",
      "Epoch 2/100\n",
      "11934/11934 [==============================] - 2s 181us/step - loss: 0.8539 - acc: 0.5968 - val_loss: 0.7820 - val_acc: 0.5287\n",
      "Epoch 3/100\n",
      "11934/11934 [==============================] - 2s 183us/step - loss: 0.7715 - acc: 0.6656 - val_loss: 0.7733 - val_acc: 0.5554\n",
      "Epoch 4/100\n",
      "11934/11934 [==============================] - 2s 196us/step - loss: 0.7372 - acc: 0.6868 - val_loss: 0.7639 - val_acc: 0.5530\n",
      "\n",
      "Epoch 00004: ReduceLROnPlateau reducing learning rate to 0.0005000000237487257.\n",
      "Epoch 5/100\n",
      "11934/11934 [==============================] - 2s 206us/step - loss: 0.7055 - acc: 0.7024 - val_loss: 0.6307 - val_acc: 0.7673\n",
      "Epoch 6/100\n",
      "11934/11934 [==============================] - 3s 213us/step - loss: 0.6786 - acc: 0.7206 - val_loss: 0.6475 - val_acc: 0.7519\n",
      "Epoch 7/100\n",
      "11934/11934 [==============================] - 2s 209us/step - loss: 0.6646 - acc: 0.7261 - val_loss: 0.5727 - val_acc: 0.8058\n",
      "Epoch 8/100\n",
      "11934/11934 [==============================] - 2s 209us/step - loss: 0.6554 - acc: 0.7317 - val_loss: 0.6675 - val_acc: 0.6400\n",
      "Epoch 9/100\n",
      "11934/11934 [==============================] - 2s 203us/step - loss: 0.6428 - acc: 0.7332 - val_loss: 0.5955 - val_acc: 0.7176\n",
      "Epoch 10/100\n",
      "11934/11934 [==============================] - 3s 223us/step - loss: 0.6341 - acc: 0.7338 - val_loss: 0.6141 - val_acc: 0.7780\n",
      "\n",
      "Epoch 00010: ReduceLROnPlateau reducing learning rate to 0.0002500000118743628.\n",
      "Epoch 11/100\n",
      "11934/11934 [==============================] - 2s 208us/step - loss: 0.6143 - acc: 0.7453 - val_loss: 0.6116 - val_acc: 0.6862\n",
      "Epoch 12/100\n",
      "11934/11934 [==============================] - 2s 203us/step - loss: 0.6038 - acc: 0.7521 - val_loss: 0.5267 - val_acc: 0.8218\n",
      "Epoch 13/100\n",
      "11934/11934 [==============================] - 3s 210us/step - loss: 0.5995 - acc: 0.7547 - val_loss: 0.5317 - val_acc: 0.8242\n",
      "Epoch 14/100\n",
      "11934/11934 [==============================] - 3s 212us/step - loss: 0.5946 - acc: 0.7526 - val_loss: 0.5306 - val_acc: 0.8194\n",
      "Epoch 15/100\n",
      "11934/11934 [==============================] - 2s 205us/step - loss: 0.5806 - acc: 0.7660 - val_loss: 0.5472 - val_acc: 0.7697\n",
      "\n",
      "Epoch 00015: ReduceLROnPlateau reducing learning rate to 0.0001250000059371814.\n",
      "Epoch 16/100\n",
      "11934/11934 [==============================] - 2s 209us/step - loss: 0.5780 - acc: 0.7648 - val_loss: 0.5650 - val_acc: 0.7590\n",
      "Epoch 17/100\n",
      "11934/11934 [==============================] - 3s 213us/step - loss: 0.5732 - acc: 0.7643 - val_loss: 0.5575 - val_acc: 0.7679\n",
      "Epoch 18/100\n",
      "11934/11934 [==============================] - 3s 210us/step - loss: 0.5643 - acc: 0.7747 - val_loss: 0.5533 - val_acc: 0.7667\n",
      "\n",
      "Epoch 00018: ReduceLROnPlateau reducing learning rate to 6.25000029685907e-05.\n",
      "Epoch 19/100\n",
      "11934/11934 [==============================] - 3s 215us/step - loss: 0.5562 - acc: 0.7757 - val_loss: 0.5530 - val_acc: 0.7786\n",
      "Epoch 20/100\n",
      "11934/11934 [==============================] - 3s 212us/step - loss: 0.5515 - acc: 0.7801 - val_loss: 0.5544 - val_acc: 0.7679\n",
      "Epoch 21/100\n",
      "11934/11934 [==============================] - 2s 209us/step - loss: 0.5493 - acc: 0.7810 - val_loss: 0.5320 - val_acc: 0.7946\n",
      "\n",
      "Epoch 00021: ReduceLROnPlateau reducing learning rate to 3.125000148429535e-05.\n",
      "Epoch 22/100\n",
      "11934/11934 [==============================] - 3s 212us/step - loss: 0.5482 - acc: 0.7800 - val_loss: 0.5480 - val_acc: 0.7721\n",
      "Epoch 23/100\n",
      "11934/11934 [==============================] - 3s 212us/step - loss: 0.5468 - acc: 0.7771 - val_loss: 0.5515 - val_acc: 0.7709\n",
      "Epoch 24/100\n",
      "11934/11934 [==============================] - 2s 209us/step - loss: 0.5442 - acc: 0.7791 - val_loss: 0.5196 - val_acc: 0.8117\n",
      "Epoch 25/100\n",
      "11934/11934 [==============================] - 3s 213us/step - loss: 0.5439 - acc: 0.7831 - val_loss: 0.5373 - val_acc: 0.7792\n",
      "Epoch 26/100\n",
      "11934/11934 [==============================] - 3s 211us/step - loss: 0.5437 - acc: 0.7821 - val_loss: 0.5369 - val_acc: 0.7738\n",
      "Epoch 27/100\n",
      "11934/11934 [==============================] - 2s 209us/step - loss: 0.5371 - acc: 0.7846 - val_loss: 0.5324 - val_acc: 0.7774\n",
      "\n",
      "Epoch 00027: ReduceLROnPlateau reducing learning rate to 1.5625000742147677e-05.\n",
      "Epoch 28/100\n",
      "11934/11934 [==============================] - 3s 212us/step - loss: 0.5406 - acc: 0.7810 - val_loss: 0.5339 - val_acc: 0.7786\n",
      "Epoch 29/100\n",
      "11934/11934 [==============================] - 2s 208us/step - loss: 0.5371 - acc: 0.7854 - val_loss: 0.5338 - val_acc: 0.7780\n",
      "Epoch 30/100\n",
      "11934/11934 [==============================] - 3s 214us/step - loss: 0.5412 - acc: 0.7831 - val_loss: 0.5425 - val_acc: 0.7709\n",
      "\n",
      "Epoch 00030: ReduceLROnPlateau reducing learning rate to 7.812500371073838e-06.\n",
      "Epoch 31/100\n",
      "11934/11934 [==============================] - 2s 209us/step - loss: 0.5384 - acc: 0.7833 - val_loss: 0.5348 - val_acc: 0.7744\n",
      "Epoch 32/100\n",
      "11934/11934 [==============================] - 3s 235us/step - loss: 0.5371 - acc: 0.7859 - val_loss: 0.5362 - val_acc: 0.7738\n",
      "Epoch 33/100\n",
      "11934/11934 [==============================] - 2s 207us/step - loss: 0.5364 - acc: 0.7851 - val_loss: 0.5295 - val_acc: 0.7786\n",
      "\n",
      "Epoch 00033: ReduceLROnPlateau reducing learning rate to 3.906250185536919e-06.\n",
      "Epoch 34/100\n",
      "11934/11934 [==============================] - 2s 208us/step - loss: 0.5378 - acc: 0.7838 - val_loss: 0.5310 - val_acc: 0.7774\n",
      "Epoch 35/100\n",
      "11934/11934 [==============================] - 2s 209us/step - loss: 0.5347 - acc: 0.7844 - val_loss: 0.5358 - val_acc: 0.7744\n",
      "Epoch 36/100\n",
      "11934/11934 [==============================] - 2s 205us/step - loss: 0.5339 - acc: 0.7916 - val_loss: 0.5352 - val_acc: 0.7750\n",
      "\n",
      "Epoch 00036: ReduceLROnPlateau reducing learning rate to 1.9531250927684596e-06.\n",
      "Epoch 37/100\n",
      "11934/11934 [==============================] - 2s 206us/step - loss: 0.5340 - acc: 0.7852 - val_loss: 0.5338 - val_acc: 0.7750\n",
      "Epoch 38/100\n",
      "11934/11934 [==============================] - 2s 206us/step - loss: 0.5383 - acc: 0.7816 - val_loss: 0.5332 - val_acc: 0.7756\n",
      "Epoch 39/100\n",
      "11934/11934 [==============================] - 2s 205us/step - loss: 0.5316 - acc: 0.7905 - val_loss: 0.5313 - val_acc: 0.7798\n",
      "\n",
      "Epoch 00039: ReduceLROnPlateau reducing learning rate to 9.765625463842298e-07.\n",
      "Epoch 40/100\n",
      "11934/11934 [==============================] - 2s 205us/step - loss: 0.5403 - acc: 0.7835 - val_loss: 0.5328 - val_acc: 0.7756\n",
      "Restoring model weights from the end of the best epoch\n",
      "Epoch 00040: early stopping\n"
     ]
    }
   ],
   "source": [
    "for target in y_tr.columns[:1]:\n",
    "    # Train the DNN\n",
    "    DNN.fit(\n",
    "        x_resampled, y_resampled, batch_size=512, epochs=100,\\\n",
    "        validation_data=(x_val,y_val), verbose=1,\n",
    "        callbacks=[\n",
    "            keras.callbacks.EarlyStopping(patience=16,verbose=1,\\\n",
    "                                          restore_best_weights=True),\n",
    "            keras.callbacks.ReduceLROnPlateau(factor=0.5,patience=3,verbose=1)\n",
    "        ])"
   ]
  },
  {
   "cell_type": "code",
   "execution_count": 22,
   "metadata": {
    "ExecuteTime": {
     "end_time": "2019-12-02T23:53:04.082887Z",
     "start_time": "2019-12-02T23:53:03.671297Z"
    }
   },
   "outputs": [
    {
     "data": {
      "text/plain": [
       "'DNNtest1.h5'"
      ]
     },
     "execution_count": 22,
     "metadata": {},
     "output_type": "execute_result"
    }
   ],
   "source": [
    "filename = save_model(target,'DNNtest', DNN, True)\n",
    "filename"
   ]
  },
  {
   "cell_type": "code",
   "execution_count": 23,
   "metadata": {
    "ExecuteTime": {
     "end_time": "2019-12-02T23:53:07.348116Z",
     "start_time": "2019-12-02T23:53:05.805131Z"
    }
   },
   "outputs": [],
   "source": [
    "DNN1 = read_model(target,filename)"
   ]
  },
  {
   "cell_type": "markdown",
   "metadata": {},
   "source": [
    "# THAT WORKS!\n",
    "Now, verify that no input_layer and with custom metrics still fails!"
   ]
  },
  {
   "cell_type": "code",
   "execution_count": 24,
   "metadata": {
    "ExecuteTime": {
     "end_time": "2019-12-02T23:55:13.122959Z",
     "start_time": "2019-12-02T23:55:12.959424Z"
    }
   },
   "outputs": [
    {
     "name": "stdout",
     "output_type": "stream",
     "text": [
      "Model: \"sequential_4\"\n",
      "_________________________________________________________________\n",
      "Layer (type)                 Output Shape              Param #   \n",
      "=================================================================\n",
      "h0_sigmoid_activation (Dense (None, 1024)              1684480   \n",
      "_________________________________________________________________\n",
      "Dropout0 (Dropout)           (None, 1024)              0         \n",
      "_________________________________________________________________\n",
      "h1_sigmoid_activation (Dense (None, 1024)              1049600   \n",
      "_________________________________________________________________\n",
      "Dropout1 (Dropout)           (None, 1024)              0         \n",
      "_________________________________________________________________\n",
      "h2_sigmoid_activation (Dense (None, 1024)              1049600   \n",
      "_________________________________________________________________\n",
      "Dropout2 (Dropout)           (None, 1024)              0         \n",
      "_________________________________________________________________\n",
      "dense_4 (Dense)              (None, 1)                 1025      \n",
      "=================================================================\n",
      "Total params: 3,784,705\n",
      "Trainable params: 3,784,705\n",
      "Non-trainable params: 0\n",
      "_________________________________________________________________\n"
     ]
    }
   ],
   "source": [
    "DNN = keras.Sequential()\n",
    "DNN.add(Dense(neurons, activation=act,input_shape=x_tr.shape[1:],name='h0_'+act+'_activation'))\n",
    "DNN.add(Dropout(rate=drop_out,name='Dropout0'))\n",
    "for i in range(1,layers):\n",
    "    DNN.add(Dense(units=neurons, activation=act,\\\n",
    "                  name='h'+str(i)+'_'+act+'_activation',\\\n",
    "                  kernel_regularizer=keras.regularizers.l2(L2_reg)))\n",
    "    DNN.add(Dropout(rate=drop_out,name='Dropout'+str(i)))\n",
    "DNN.add(Dense(units=1, activation='sigmoid'))\n",
    "keras.optimizers.Adam(lr=learn_rate, beta_1=0.9,\\\n",
    "                      beta_2=0.999, decay=decay, amsgrad=False)\n",
    "DNN.compile(optimizer='adam', loss='binary_crossentropy',\\\n",
    "            metrics=['accuracy',recall_m,f1])\n",
    "DNN.summary()"
   ]
  },
  {
   "cell_type": "code",
   "execution_count": 25,
   "metadata": {
    "ExecuteTime": {
     "end_time": "2019-12-02T23:56:56.233254Z",
     "start_time": "2019-12-02T23:55:15.571138Z"
    }
   },
   "outputs": [
    {
     "name": "stdout",
     "output_type": "stream",
     "text": [
      "Train on 11934 samples, validate on 1689 samples\n",
      "Epoch 1/100\n",
      "11934/11934 [==============================] - 3s 259us/step - loss: 0.9880 - acc: 0.5466 - recall_m: 0.5765 - f1: 0.5074 - val_loss: 0.7037 - val_acc: 0.7602 - val_recall_m: 0.5331 - val_f1: 0.3339\n",
      "Epoch 2/100\n",
      "11934/11934 [==============================] - 2s 179us/step - loss: 0.8081 - acc: 0.6449 - recall_m: 0.6655 - f1: 0.6474 - val_loss: 0.7440 - val_acc: 0.7010 - val_recall_m: 0.7410 - val_f1: 0.3625\n",
      "Epoch 3/100\n",
      "11934/11934 [==============================] - 2s 179us/step - loss: 0.7499 - acc: 0.6832 - recall_m: 0.7272 - f1: 0.6946 - val_loss: 0.6202 - val_acc: 0.7916 - val_recall_m: 0.6557 - val_f1: 0.4168\n",
      "Epoch 4/100\n",
      "11934/11934 [==============================] - 3s 210us/step - loss: 0.7179 - acc: 0.6988 - recall_m: 0.7311 - f1: 0.7070 - val_loss: 0.7024 - val_acc: 0.6240 - val_recall_m: 0.8482 - val_f1: 0.3425\n",
      "Epoch 5/100\n",
      "11934/11934 [==============================] - 2s 200us/step - loss: 0.6956 - acc: 0.7049 - recall_m: 0.7344 - f1: 0.7114 - val_loss: 0.8069 - val_acc: 0.5459 - val_recall_m: 0.9445 - val_f1: 0.3247\n",
      "Epoch 6/100\n",
      "11934/11934 [==============================] - 2s 206us/step - loss: 0.6839 - acc: 0.7117 - recall_m: 0.7475 - f1: 0.7187 - val_loss: 0.7377 - val_acc: 0.5796 - val_recall_m: 0.9124 - val_f1: 0.3325\n",
      "\n",
      "Epoch 00006: ReduceLROnPlateau reducing learning rate to 0.0005000000237487257.\n",
      "Epoch 7/100\n",
      "11934/11934 [==============================] - 3s 212us/step - loss: 0.6542 - acc: 0.7295 - recall_m: 0.7595 - f1: 0.7363 - val_loss: 0.6725 - val_acc: 0.7395 - val_recall_m: 0.7636 - val_f1: 0.3997\n",
      "Epoch 8/100\n",
      "11934/11934 [==============================] - 3s 210us/step - loss: 0.6380 - acc: 0.7373 - recall_m: 0.7760 - f1: 0.7456 - val_loss: 0.5884 - val_acc: 0.7863 - val_recall_m: 0.7061 - val_f1: 0.4286\n",
      "Epoch 9/100\n",
      "11934/11934 [==============================] - 3s 211us/step - loss: 0.6238 - acc: 0.7438 - recall_m: 0.7599 - f1: 0.7473 - val_loss: 0.6387 - val_acc: 0.6465 - val_recall_m: 0.8594 - val_f1: 0.3572\n",
      "Epoch 10/100\n",
      "11934/11934 [==============================] - 3s 214us/step - loss: 0.6149 - acc: 0.7466 - recall_m: 0.7746 - f1: 0.7532 - val_loss: 0.5812 - val_acc: 0.7803 - val_recall_m: 0.7486 - val_f1: 0.4363\n",
      "Epoch 11/100\n",
      "11934/11934 [==============================] - 3s 222us/step - loss: 0.6111 - acc: 0.7441 - recall_m: 0.7719 - f1: 0.7504 - val_loss: 0.6004 - val_acc: 0.7721 - val_recall_m: 0.7602 - val_f1: 0.4312\n",
      "Epoch 12/100\n",
      "11934/11934 [==============================] - 3s 213us/step - loss: 0.5965 - acc: 0.7566 - recall_m: 0.7794 - f1: 0.7615 - val_loss: 0.5585 - val_acc: 0.8123 - val_recall_m: 0.7035 - val_f1: 0.4585\n",
      "Epoch 13/100\n",
      "11934/11934 [==============================] - 3s 216us/step - loss: 0.5919 - acc: 0.7538 - recall_m: 0.7725 - f1: 0.7575 - val_loss: 0.6476 - val_acc: 0.6365 - val_recall_m: 0.8733 - val_f1: 0.3539\n",
      "Epoch 14/100\n",
      "11934/11934 [==============================] - 3s 223us/step - loss: 0.5927 - acc: 0.7480 - recall_m: 0.7718 - f1: 0.7532 - val_loss: 0.5704 - val_acc: 0.7910 - val_recall_m: 0.7320 - val_f1: 0.4424\n",
      "Epoch 15/100\n",
      "11934/11934 [==============================] - 3s 219us/step - loss: 0.5890 - acc: 0.7530 - recall_m: 0.7807 - f1: 0.7590 - val_loss: 0.5633 - val_acc: 0.7910 - val_recall_m: 0.7326 - val_f1: 0.4426\n",
      "\n",
      "Epoch 00015: ReduceLROnPlateau reducing learning rate to 0.0002500000118743628.\n",
      "Epoch 16/100\n",
      "11934/11934 [==============================] - 3s 228us/step - loss: 0.5768 - acc: 0.7587 - recall_m: 0.7878 - f1: 0.7647 - val_loss: 0.5316 - val_acc: 0.8182 - val_recall_m: 0.7095 - val_f1: 0.4691\n",
      "Epoch 17/100\n",
      "11934/11934 [==============================] - 3s 215us/step - loss: 0.5632 - acc: 0.7645 - recall_m: 0.7871 - f1: 0.7691 - val_loss: 0.5259 - val_acc: 0.8212 - val_recall_m: 0.7440 - val_f1: 0.4852\n",
      "Epoch 18/100\n",
      "11934/11934 [==============================] - 3s 222us/step - loss: 0.5513 - acc: 0.7742 - recall_m: 0.7884 - f1: 0.7770 - val_loss: 0.5418 - val_acc: 0.8123 - val_recall_m: 0.7286 - val_f1: 0.4676\n",
      "Epoch 19/100\n",
      "11934/11934 [==============================] - 3s 224us/step - loss: 0.5513 - acc: 0.7713 - recall_m: 0.7915 - f1: 0.7756 - val_loss: 0.5554 - val_acc: 0.7715 - val_recall_m: 0.7783 - val_f1: 0.4360\n",
      "Epoch 20/100\n",
      "11934/11934 [==============================] - 3s 214us/step - loss: 0.5508 - acc: 0.7661 - recall_m: 0.7862 - f1: 0.7701 - val_loss: 0.5502 - val_acc: 0.7857 - val_recall_m: 0.7696 - val_f1: 0.4490\n",
      "\n",
      "Epoch 00020: ReduceLROnPlateau reducing learning rate to 0.0001250000059371814.\n",
      "Epoch 21/100\n",
      "11934/11934 [==============================] - 3s 215us/step - loss: 0.5367 - acc: 0.7761 - recall_m: 0.7988 - f1: 0.7805 - val_loss: 0.5608 - val_acc: 0.7549 - val_recall_m: 0.8252 - val_f1: 0.4346\n",
      "Epoch 22/100\n",
      "11934/11934 [==============================] - 3s 216us/step - loss: 0.5346 - acc: 0.7805 - recall_m: 0.7999 - f1: 0.7842 - val_loss: 0.5087 - val_acc: 0.8182 - val_recall_m: 0.7267 - val_f1: 0.4748\n",
      "Epoch 23/100\n",
      "11934/11934 [==============================] - 3s 232us/step - loss: 0.5286 - acc: 0.7805 - recall_m: 0.8055 - f1: 0.7855 - val_loss: 0.4830 - val_acc: 0.8342 - val_recall_m: 0.6814 - val_f1: 0.4822\n",
      "Epoch 24/100\n",
      "11934/11934 [==============================] - 3s 219us/step - loss: 0.5320 - acc: 0.7757 - recall_m: 0.7873 - f1: 0.7778 - val_loss: 0.5145 - val_acc: 0.8017 - val_recall_m: 0.7619 - val_f1: 0.4649\n",
      "Epoch 25/100\n",
      "11934/11934 [==============================] - 3s 223us/step - loss: 0.5186 - acc: 0.7887 - recall_m: 0.8051 - f1: 0.7918 - val_loss: 0.5109 - val_acc: 0.7940 - val_recall_m: 0.7381 - val_f1: 0.4473\n",
      "Epoch 26/100\n",
      "11934/11934 [==============================] - 3s 220us/step - loss: 0.5191 - acc: 0.7907 - recall_m: 0.8057 - f1: 0.7934 - val_loss: 0.5060 - val_acc: 0.8182 - val_recall_m: 0.7259 - val_f1: 0.4746\n",
      "\n",
      "Epoch 00026: ReduceLROnPlateau reducing learning rate to 6.25000029685907e-05.\n",
      "Epoch 27/100\n",
      "11934/11934 [==============================] - 3s 216us/step - loss: 0.5160 - acc: 0.7869 - recall_m: 0.7988 - f1: 0.7892 - val_loss: 0.4965 - val_acc: 0.8188 - val_recall_m: 0.7308 - val_f1: 0.4771\n",
      "Epoch 28/100\n",
      "11934/11934 [==============================] - 3s 217us/step - loss: 0.5107 - acc: 0.7889 - recall_m: 0.8119 - f1: 0.7932 - val_loss: 0.4923 - val_acc: 0.8301 - val_recall_m: 0.7097 - val_f1: 0.4853\n",
      "Epoch 29/100\n",
      "11934/11934 [==============================] - 3s 218us/step - loss: 0.5078 - acc: 0.7914 - recall_m: 0.8011 - f1: 0.7931 - val_loss: 0.5085 - val_acc: 0.8099 - val_recall_m: 0.7500 - val_f1: 0.4717\n",
      "\n",
      "Epoch 00029: ReduceLROnPlateau reducing learning rate to 3.125000148429535e-05.\n",
      "Epoch 30/100\n",
      "11934/11934 [==============================] - 3s 217us/step - loss: 0.5059 - acc: 0.7915 - recall_m: 0.8062 - f1: 0.7942 - val_loss: 0.5084 - val_acc: 0.8022 - val_recall_m: 0.7547 - val_f1: 0.4633\n",
      "Epoch 31/100\n",
      "11934/11934 [==============================] - 3s 215us/step - loss: 0.5048 - acc: 0.7902 - recall_m: 0.8044 - f1: 0.7929 - val_loss: 0.4986 - val_acc: 0.8182 - val_recall_m: 0.7377 - val_f1: 0.4784\n",
      "Epoch 32/100\n",
      "11934/11934 [==============================] - 3s 214us/step - loss: 0.5022 - acc: 0.7967 - recall_m: 0.8135 - f1: 0.7998 - val_loss: 0.4865 - val_acc: 0.8324 - val_recall_m: 0.7210 - val_f1: 0.4931\n",
      "\n",
      "Epoch 00032: ReduceLROnPlateau reducing learning rate to 1.5625000742147677e-05.\n",
      "Epoch 33/100\n",
      "11934/11934 [==============================] - 3s 213us/step - loss: 0.4998 - acc: 0.7935 - recall_m: 0.8183 - f1: 0.7984 - val_loss: 0.4943 - val_acc: 0.8218 - val_recall_m: 0.7206 - val_f1: 0.4775\n",
      "Epoch 34/100\n",
      "11934/11934 [==============================] - 3s 210us/step - loss: 0.5029 - acc: 0.7918 - recall_m: 0.7931 - f1: 0.7918 - val_loss: 0.5005 - val_acc: 0.8141 - val_recall_m: 0.7422 - val_f1: 0.4744\n",
      "Epoch 35/100\n",
      "11934/11934 [==============================] - 2s 207us/step - loss: 0.4995 - acc: 0.7945 - recall_m: 0.8109 - f1: 0.7974 - val_loss: 0.4914 - val_acc: 0.8230 - val_recall_m: 0.7255 - val_f1: 0.4809\n",
      "\n",
      "Epoch 00035: ReduceLROnPlateau reducing learning rate to 7.812500371073838e-06.\n",
      "Epoch 36/100\n",
      "11934/11934 [==============================] - 3s 211us/step - loss: 0.4984 - acc: 0.7936 - recall_m: 0.8082 - f1: 0.7962 - val_loss: 0.4944 - val_acc: 0.8206 - val_recall_m: 0.7377 - val_f1: 0.4818\n"
     ]
    },
    {
     "name": "stdout",
     "output_type": "stream",
     "text": [
      "Epoch 37/100\n",
      "11934/11934 [==============================] - 2s 203us/step - loss: 0.5003 - acc: 0.7941 - recall_m: 0.8102 - f1: 0.7971 - val_loss: 0.4933 - val_acc: 0.8200 - val_recall_m: 0.7303 - val_f1: 0.4786\n",
      "Epoch 38/100\n",
      "11934/11934 [==============================] - 2s 205us/step - loss: 0.4983 - acc: 0.7953 - recall_m: 0.8129 - f1: 0.7987 - val_loss: 0.4933 - val_acc: 0.8218 - val_recall_m: 0.7303 - val_f1: 0.4809\n",
      "\n",
      "Epoch 00038: ReduceLROnPlateau reducing learning rate to 3.906250185536919e-06.\n",
      "Epoch 39/100\n",
      "11934/11934 [==============================] - 2s 205us/step - loss: 0.4990 - acc: 0.7959 - recall_m: 0.8098 - f1: 0.7981 - val_loss: 0.4920 - val_acc: 0.8206 - val_recall_m: 0.7303 - val_f1: 0.4792\n",
      "Restoring model weights from the end of the best epoch\n",
      "Epoch 00039: early stopping\n"
     ]
    }
   ],
   "source": [
    "for target in y_tr.columns[:1]:\n",
    "    # Train the DNN\n",
    "    DNN.fit(\n",
    "        x_resampled, y_resampled, batch_size=512, epochs=100,\\\n",
    "        validation_data=(x_val,y_val), verbose=1,\n",
    "        callbacks=[\n",
    "            keras.callbacks.EarlyStopping(patience=16,verbose=1,\\\n",
    "                                          restore_best_weights=True),\n",
    "            keras.callbacks.ReduceLROnPlateau(factor=0.5,patience=3,verbose=1)\n",
    "        ])"
   ]
  },
  {
   "cell_type": "code",
   "execution_count": 26,
   "metadata": {
    "ExecuteTime": {
     "end_time": "2019-12-02T23:57:00.978057Z",
     "start_time": "2019-12-02T23:57:00.375377Z"
    }
   },
   "outputs": [
    {
     "data": {
      "text/plain": [
       "'DNNtest2.h5'"
      ]
     },
     "execution_count": 26,
     "metadata": {},
     "output_type": "execute_result"
    }
   ],
   "source": [
    "filename = save_model(target,'DNNtest', DNN, True)\n",
    "filename"
   ]
  },
  {
   "cell_type": "code",
   "execution_count": 27,
   "metadata": {
    "ExecuteTime": {
     "end_time": "2019-12-02T23:57:03.947175Z",
     "start_time": "2019-12-02T23:57:03.375057Z"
    }
   },
   "outputs": [
    {
     "ename": "ValueError",
     "evalue": "Unknown metric function:recall_m",
     "output_type": "error",
     "traceback": [
      "\u001b[0;31m---------------------------------------------------------------------------\u001b[0m",
      "\u001b[0;31mValueError\u001b[0m                                Traceback (most recent call last)",
      "\u001b[0;32m<ipython-input-27-0140d48114b0>\u001b[0m in \u001b[0;36m<module>\u001b[0;34m\u001b[0m\n\u001b[0;32m----> 1\u001b[0;31m \u001b[0mDNN1\u001b[0m \u001b[0;34m=\u001b[0m \u001b[0mread_model\u001b[0m\u001b[0;34m(\u001b[0m\u001b[0mtarget\u001b[0m\u001b[0;34m,\u001b[0m\u001b[0mfilename\u001b[0m\u001b[0;34m)\u001b[0m\u001b[0;34m\u001b[0m\u001b[0;34m\u001b[0m\u001b[0m\n\u001b[0m",
      "\u001b[0;32m~/CloudStation/Metis/projects/project5/src/helper_functions.py\u001b[0m in \u001b[0;36mread_model\u001b[0;34m(target, filename)\u001b[0m\n\u001b[1;32m    128\u001b[0m         \u001b[0;32mif\u001b[0m \u001b[0mos\u001b[0m\u001b[0;34m.\u001b[0m\u001b[0mpath\u001b[0m\u001b[0;34m.\u001b[0m\u001b[0mexists\u001b[0m\u001b[0;34m(\u001b[0m\u001b[0mpathname\u001b[0m\u001b[0;34m)\u001b[0m\u001b[0;34m:\u001b[0m\u001b[0;34m\u001b[0m\u001b[0;34m\u001b[0m\u001b[0m\n\u001b[1;32m    129\u001b[0m             \u001b[0;32mif\u001b[0m \u001b[0mfilename\u001b[0m\u001b[0;34m[\u001b[0m\u001b[0;34m-\u001b[0m\u001b[0;36m2\u001b[0m\u001b[0;34m:\u001b[0m\u001b[0;34m]\u001b[0m\u001b[0;34m.\u001b[0m\u001b[0mlower\u001b[0m\u001b[0;34m(\u001b[0m\u001b[0;34m)\u001b[0m\u001b[0;34m==\u001b[0m\u001b[0;34m'h5'\u001b[0m\u001b[0;34m:\u001b[0m\u001b[0;34m\u001b[0m\u001b[0;34m\u001b[0m\u001b[0m\n\u001b[0;32m--> 130\u001b[0;31m                 \u001b[0mmodel\u001b[0m \u001b[0;34m=\u001b[0m \u001b[0mload_model\u001b[0m\u001b[0;34m(\u001b[0m\u001b[0mpathname\u001b[0m\u001b[0;34m)\u001b[0m\u001b[0;34m\u001b[0m\u001b[0;34m\u001b[0m\u001b[0m\n\u001b[0m\u001b[1;32m    131\u001b[0m             \u001b[0;32melse\u001b[0m\u001b[0;34m:\u001b[0m\u001b[0;34m\u001b[0m\u001b[0;34m\u001b[0m\u001b[0m\n\u001b[1;32m    132\u001b[0m                 \u001b[0mmodel\u001b[0m \u001b[0;34m=\u001b[0m \u001b[0mload\u001b[0m\u001b[0;34m(\u001b[0m\u001b[0mpathname\u001b[0m\u001b[0;34m)\u001b[0m\u001b[0;34m\u001b[0m\u001b[0;34m\u001b[0m\u001b[0m\n",
      "\u001b[0;32m~/anaconda3/envs/metis/lib/python3.7/site-packages/keras/engine/saving.py\u001b[0m in \u001b[0;36mload_wrapper\u001b[0;34m(*args, **kwargs)\u001b[0m\n\u001b[1;32m    456\u001b[0m                 \u001b[0mos\u001b[0m\u001b[0;34m.\u001b[0m\u001b[0mremove\u001b[0m\u001b[0;34m(\u001b[0m\u001b[0mtmp_filepath\u001b[0m\u001b[0;34m)\u001b[0m\u001b[0;34m\u001b[0m\u001b[0;34m\u001b[0m\u001b[0m\n\u001b[1;32m    457\u001b[0m             \u001b[0;32mreturn\u001b[0m \u001b[0mres\u001b[0m\u001b[0;34m\u001b[0m\u001b[0;34m\u001b[0m\u001b[0m\n\u001b[0;32m--> 458\u001b[0;31m         \u001b[0;32mreturn\u001b[0m \u001b[0mload_function\u001b[0m\u001b[0;34m(\u001b[0m\u001b[0;34m*\u001b[0m\u001b[0margs\u001b[0m\u001b[0;34m,\u001b[0m \u001b[0;34m**\u001b[0m\u001b[0mkwargs\u001b[0m\u001b[0;34m)\u001b[0m\u001b[0;34m\u001b[0m\u001b[0;34m\u001b[0m\u001b[0m\n\u001b[0m\u001b[1;32m    459\u001b[0m \u001b[0;34m\u001b[0m\u001b[0m\n\u001b[1;32m    460\u001b[0m     \u001b[0;32mreturn\u001b[0m \u001b[0mload_wrapper\u001b[0m\u001b[0;34m\u001b[0m\u001b[0;34m\u001b[0m\u001b[0m\n",
      "\u001b[0;32m~/anaconda3/envs/metis/lib/python3.7/site-packages/keras/engine/saving.py\u001b[0m in \u001b[0;36mload_model\u001b[0;34m(filepath, custom_objects, compile)\u001b[0m\n\u001b[1;32m    548\u001b[0m     \u001b[0;32mif\u001b[0m \u001b[0mH5Dict\u001b[0m\u001b[0;34m.\u001b[0m\u001b[0mis_supported_type\u001b[0m\u001b[0;34m(\u001b[0m\u001b[0mfilepath\u001b[0m\u001b[0;34m)\u001b[0m\u001b[0;34m:\u001b[0m\u001b[0;34m\u001b[0m\u001b[0;34m\u001b[0m\u001b[0m\n\u001b[1;32m    549\u001b[0m         \u001b[0;32mwith\u001b[0m \u001b[0mH5Dict\u001b[0m\u001b[0;34m(\u001b[0m\u001b[0mfilepath\u001b[0m\u001b[0;34m,\u001b[0m \u001b[0mmode\u001b[0m\u001b[0;34m=\u001b[0m\u001b[0;34m'r'\u001b[0m\u001b[0;34m)\u001b[0m \u001b[0;32mas\u001b[0m \u001b[0mh5dict\u001b[0m\u001b[0;34m:\u001b[0m\u001b[0;34m\u001b[0m\u001b[0;34m\u001b[0m\u001b[0m\n\u001b[0;32m--> 550\u001b[0;31m             \u001b[0mmodel\u001b[0m \u001b[0;34m=\u001b[0m \u001b[0m_deserialize_model\u001b[0m\u001b[0;34m(\u001b[0m\u001b[0mh5dict\u001b[0m\u001b[0;34m,\u001b[0m \u001b[0mcustom_objects\u001b[0m\u001b[0;34m,\u001b[0m \u001b[0mcompile\u001b[0m\u001b[0;34m)\u001b[0m\u001b[0;34m\u001b[0m\u001b[0;34m\u001b[0m\u001b[0m\n\u001b[0m\u001b[1;32m    551\u001b[0m     \u001b[0;32melif\u001b[0m \u001b[0mhasattr\u001b[0m\u001b[0;34m(\u001b[0m\u001b[0mfilepath\u001b[0m\u001b[0;34m,\u001b[0m \u001b[0;34m'write'\u001b[0m\u001b[0;34m)\u001b[0m \u001b[0;32mand\u001b[0m \u001b[0mcallable\u001b[0m\u001b[0;34m(\u001b[0m\u001b[0mfilepath\u001b[0m\u001b[0;34m.\u001b[0m\u001b[0mwrite\u001b[0m\u001b[0;34m)\u001b[0m\u001b[0;34m:\u001b[0m\u001b[0;34m\u001b[0m\u001b[0;34m\u001b[0m\u001b[0m\n\u001b[1;32m    552\u001b[0m         \u001b[0;32mdef\u001b[0m \u001b[0mload_function\u001b[0m\u001b[0;34m(\u001b[0m\u001b[0mh5file\u001b[0m\u001b[0;34m)\u001b[0m\u001b[0;34m:\u001b[0m\u001b[0;34m\u001b[0m\u001b[0;34m\u001b[0m\u001b[0m\n",
      "\u001b[0;32m~/anaconda3/envs/metis/lib/python3.7/site-packages/keras/engine/saving.py\u001b[0m in \u001b[0;36m_deserialize_model\u001b[0;34m(h5dict, custom_objects, compile)\u001b[0m\n\u001b[1;32m    333\u001b[0m                       \u001b[0mweighted_metrics\u001b[0m\u001b[0;34m=\u001b[0m\u001b[0mweighted_metrics\u001b[0m\u001b[0;34m,\u001b[0m\u001b[0;34m\u001b[0m\u001b[0;34m\u001b[0m\u001b[0m\n\u001b[1;32m    334\u001b[0m                       \u001b[0mloss_weights\u001b[0m\u001b[0;34m=\u001b[0m\u001b[0mloss_weights\u001b[0m\u001b[0;34m,\u001b[0m\u001b[0;34m\u001b[0m\u001b[0;34m\u001b[0m\u001b[0m\n\u001b[0;32m--> 335\u001b[0;31m                       sample_weight_mode=sample_weight_mode)\n\u001b[0m\u001b[1;32m    336\u001b[0m \u001b[0;34m\u001b[0m\u001b[0m\n\u001b[1;32m    337\u001b[0m         \u001b[0;31m# Set optimizer weights.\u001b[0m\u001b[0;34m\u001b[0m\u001b[0;34m\u001b[0m\u001b[0;34m\u001b[0m\u001b[0m\n",
      "\u001b[0;32m~/anaconda3/envs/metis/lib/python3.7/site-packages/keras/engine/training.py\u001b[0m in \u001b[0;36mcompile\u001b[0;34m(self, optimizer, loss, metrics, loss_weights, sample_weight_mode, weighted_metrics, target_tensors, **kwargs)\u001b[0m\n\u001b[1;32m    452\u001b[0m                 \u001b[0moutput_metrics\u001b[0m \u001b[0;34m=\u001b[0m \u001b[0mnested_metrics\u001b[0m\u001b[0;34m[\u001b[0m\u001b[0mi\u001b[0m\u001b[0;34m]\u001b[0m\u001b[0;34m\u001b[0m\u001b[0;34m\u001b[0m\u001b[0m\n\u001b[1;32m    453\u001b[0m                 \u001b[0moutput_weighted_metrics\u001b[0m \u001b[0;34m=\u001b[0m \u001b[0mnested_weighted_metrics\u001b[0m\u001b[0;34m[\u001b[0m\u001b[0mi\u001b[0m\u001b[0;34m]\u001b[0m\u001b[0;34m\u001b[0m\u001b[0;34m\u001b[0m\u001b[0m\n\u001b[0;32m--> 454\u001b[0;31m                 \u001b[0mhandle_metrics\u001b[0m\u001b[0;34m(\u001b[0m\u001b[0moutput_metrics\u001b[0m\u001b[0;34m)\u001b[0m\u001b[0;34m\u001b[0m\u001b[0;34m\u001b[0m\u001b[0m\n\u001b[0m\u001b[1;32m    455\u001b[0m                 \u001b[0mhandle_metrics\u001b[0m\u001b[0;34m(\u001b[0m\u001b[0moutput_weighted_metrics\u001b[0m\u001b[0;34m,\u001b[0m \u001b[0mweights\u001b[0m\u001b[0;34m=\u001b[0m\u001b[0mweights\u001b[0m\u001b[0;34m)\u001b[0m\u001b[0;34m\u001b[0m\u001b[0;34m\u001b[0m\u001b[0m\n\u001b[1;32m    456\u001b[0m \u001b[0;34m\u001b[0m\u001b[0m\n",
      "\u001b[0;32m~/anaconda3/envs/metis/lib/python3.7/site-packages/keras/engine/training.py\u001b[0m in \u001b[0;36mhandle_metrics\u001b[0;34m(metrics, weights)\u001b[0m\n\u001b[1;32m    409\u001b[0m                     \u001b[0mmetric_name\u001b[0m \u001b[0;34m=\u001b[0m \u001b[0mmetric_name_prefix\u001b[0m \u001b[0;34m+\u001b[0m \u001b[0msuffix\u001b[0m\u001b[0;34m\u001b[0m\u001b[0;34m\u001b[0m\u001b[0m\n\u001b[1;32m    410\u001b[0m                 \u001b[0;32melse\u001b[0m\u001b[0;34m:\u001b[0m\u001b[0;34m\u001b[0m\u001b[0;34m\u001b[0m\u001b[0m\n\u001b[0;32m--> 411\u001b[0;31m                     \u001b[0mmetric_fn\u001b[0m \u001b[0;34m=\u001b[0m \u001b[0mmetrics_module\u001b[0m\u001b[0;34m.\u001b[0m\u001b[0mget\u001b[0m\u001b[0;34m(\u001b[0m\u001b[0mmetric\u001b[0m\u001b[0;34m)\u001b[0m\u001b[0;34m\u001b[0m\u001b[0;34m\u001b[0m\u001b[0m\n\u001b[0m\u001b[1;32m    412\u001b[0m                     \u001b[0mweighted_metric_fn\u001b[0m \u001b[0;34m=\u001b[0m \u001b[0mweighted_masked_objective\u001b[0m\u001b[0;34m(\u001b[0m\u001b[0mmetric_fn\u001b[0m\u001b[0;34m)\u001b[0m\u001b[0;34m\u001b[0m\u001b[0;34m\u001b[0m\u001b[0m\n\u001b[1;32m    413\u001b[0m                     \u001b[0;31m# Get metric name as string\u001b[0m\u001b[0;34m\u001b[0m\u001b[0;34m\u001b[0m\u001b[0;34m\u001b[0m\u001b[0m\n",
      "\u001b[0;32m~/anaconda3/envs/metis/lib/python3.7/site-packages/keras/metrics.py\u001b[0m in \u001b[0;36mget\u001b[0;34m(identifier)\u001b[0m\n\u001b[1;32m     79\u001b[0m         \u001b[0;32mreturn\u001b[0m \u001b[0mdeserialize\u001b[0m\u001b[0;34m(\u001b[0m\u001b[0mconfig\u001b[0m\u001b[0;34m)\u001b[0m\u001b[0;34m\u001b[0m\u001b[0;34m\u001b[0m\u001b[0m\n\u001b[1;32m     80\u001b[0m     \u001b[0;32melif\u001b[0m \u001b[0misinstance\u001b[0m\u001b[0;34m(\u001b[0m\u001b[0midentifier\u001b[0m\u001b[0;34m,\u001b[0m \u001b[0msix\u001b[0m\u001b[0;34m.\u001b[0m\u001b[0mstring_types\u001b[0m\u001b[0;34m)\u001b[0m\u001b[0;34m:\u001b[0m\u001b[0;34m\u001b[0m\u001b[0;34m\u001b[0m\u001b[0m\n\u001b[0;32m---> 81\u001b[0;31m         \u001b[0;32mreturn\u001b[0m \u001b[0mdeserialize\u001b[0m\u001b[0;34m(\u001b[0m\u001b[0mstr\u001b[0m\u001b[0;34m(\u001b[0m\u001b[0midentifier\u001b[0m\u001b[0;34m)\u001b[0m\u001b[0;34m)\u001b[0m\u001b[0;34m\u001b[0m\u001b[0;34m\u001b[0m\u001b[0m\n\u001b[0m\u001b[1;32m     82\u001b[0m     \u001b[0;32melif\u001b[0m \u001b[0mcallable\u001b[0m\u001b[0;34m(\u001b[0m\u001b[0midentifier\u001b[0m\u001b[0;34m)\u001b[0m\u001b[0;34m:\u001b[0m\u001b[0;34m\u001b[0m\u001b[0;34m\u001b[0m\u001b[0m\n\u001b[1;32m     83\u001b[0m         \u001b[0;32mreturn\u001b[0m \u001b[0midentifier\u001b[0m\u001b[0;34m\u001b[0m\u001b[0;34m\u001b[0m\u001b[0m\n",
      "\u001b[0;32m~/anaconda3/envs/metis/lib/python3.7/site-packages/keras/metrics.py\u001b[0m in \u001b[0;36mdeserialize\u001b[0;34m(config, custom_objects)\u001b[0m\n\u001b[1;32m     71\u001b[0m                                     \u001b[0mmodule_objects\u001b[0m\u001b[0;34m=\u001b[0m\u001b[0mglobals\u001b[0m\u001b[0;34m(\u001b[0m\u001b[0;34m)\u001b[0m\u001b[0;34m,\u001b[0m\u001b[0;34m\u001b[0m\u001b[0;34m\u001b[0m\u001b[0m\n\u001b[1;32m     72\u001b[0m                                     \u001b[0mcustom_objects\u001b[0m\u001b[0;34m=\u001b[0m\u001b[0mcustom_objects\u001b[0m\u001b[0;34m,\u001b[0m\u001b[0;34m\u001b[0m\u001b[0;34m\u001b[0m\u001b[0m\n\u001b[0;32m---> 73\u001b[0;31m                                     printable_module_name='metric function')\n\u001b[0m\u001b[1;32m     74\u001b[0m \u001b[0;34m\u001b[0m\u001b[0m\n\u001b[1;32m     75\u001b[0m \u001b[0;34m\u001b[0m\u001b[0m\n",
      "\u001b[0;32m~/anaconda3/envs/metis/lib/python3.7/site-packages/keras/utils/generic_utils.py\u001b[0m in \u001b[0;36mdeserialize_keras_object\u001b[0;34m(identifier, module_objects, custom_objects, printable_module_name)\u001b[0m\n\u001b[1;32m    165\u001b[0m             \u001b[0;32mif\u001b[0m \u001b[0mfn\u001b[0m \u001b[0;32mis\u001b[0m \u001b[0;32mNone\u001b[0m\u001b[0;34m:\u001b[0m\u001b[0;34m\u001b[0m\u001b[0;34m\u001b[0m\u001b[0m\n\u001b[1;32m    166\u001b[0m                 raise ValueError('Unknown ' + printable_module_name +\n\u001b[0;32m--> 167\u001b[0;31m                                  ':' + function_name)\n\u001b[0m\u001b[1;32m    168\u001b[0m         \u001b[0;32mreturn\u001b[0m \u001b[0mfn\u001b[0m\u001b[0;34m\u001b[0m\u001b[0;34m\u001b[0m\u001b[0m\n\u001b[1;32m    169\u001b[0m     \u001b[0;32melse\u001b[0m\u001b[0;34m:\u001b[0m\u001b[0;34m\u001b[0m\u001b[0;34m\u001b[0m\u001b[0m\n",
      "\u001b[0;31mValueError\u001b[0m: Unknown metric function:recall_m"
     ]
    }
   ],
   "source": [
    "DNN1 = read_model(target,filename)"
   ]
  },
  {
   "cell_type": "code",
   "execution_count": null,
   "metadata": {},
   "outputs": [],
   "source": []
  }
 ],
 "metadata": {
  "kernelspec": {
   "display_name": "Python [conda env:metis] *",
   "language": "python",
   "name": "conda-env-metis-py"
  },
  "language_info": {
   "codemirror_mode": {
    "name": "ipython",
    "version": 3
   },
   "file_extension": ".py",
   "mimetype": "text/x-python",
   "name": "python",
   "nbconvert_exporter": "python",
   "pygments_lexer": "ipython3",
   "version": "3.7.3"
  },
  "toc": {
   "base_numbering": 1,
   "nav_menu": {},
   "number_sections": true,
   "sideBar": true,
   "skip_h1_title": false,
   "title_cell": "Table of Contents",
   "title_sidebar": "Contents",
   "toc_cell": false,
   "toc_position": {},
   "toc_section_display": true,
   "toc_window_display": false
  }
 },
 "nbformat": 4,
 "nbformat_minor": 2
}
