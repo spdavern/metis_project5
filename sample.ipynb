{
 "cells": [
  {
   "cell_type": "markdown",
   "metadata": {},
   "source": [
    "# Sample Solution: Random Forest"
   ]
  },
  {
   "cell_type": "code",
   "execution_count": 1,
   "metadata": {
    "ExecuteTime": {
     "end_time": "2019-12-01T03:38:12.155468Z",
     "start_time": "2019-12-01T03:38:11.201851Z"
    }
   },
   "outputs": [],
   "source": [
    "# make sure  numpy, scipy, pandas, sklearn are installed, otherwise run\n",
    "# pip install numpy scipy pandas scikit-learn\n",
    "import numpy as np\n",
    "import pandas as pd\n",
    "from scipy import io\n",
    "from sklearn.metrics import roc_auc_score\n",
    "from sklearn.ensemble import RandomForestClassifier"
   ]
  },
  {
   "cell_type": "code",
   "execution_count": 2,
   "metadata": {
    "ExecuteTime": {
     "end_time": "2019-12-01T03:38:24.224559Z",
     "start_time": "2019-12-01T03:38:13.583405Z"
    }
   },
   "outputs": [],
   "source": [
    "# load data\n",
    "raw_data = './data/raw/tox21/'\n",
    "y_tr = pd.read_csv(raw_data+'tox21_labels_train.csv.gz', index_col=0, compression=\"gzip\")\n",
    "y_te = pd.read_csv(raw_data+'tox21_labels_test.csv.gz', index_col=0, compression=\"gzip\")\n",
    "x_tr_dense = pd.read_csv(raw_data+'tox21_dense_train.csv.gz', index_col=0, compression=\"gzip\").values\n",
    "x_te_dense = pd.read_csv(raw_data+'tox21_dense_test.csv.gz', index_col=0, compression=\"gzip\").values\n",
    "x_tr_sparse = io.mmread(raw_data+'tox21_sparse_train.mtx.gz').tocsc()\n",
    "x_te_sparse = io.mmread(raw_data+'tox21_sparse_test.mtx.gz').tocsc()"
   ]
  },
  {
   "cell_type": "code",
   "execution_count": 3,
   "metadata": {
    "ExecuteTime": {
     "end_time": "2019-12-01T03:38:25.239461Z",
     "start_time": "2019-12-01T03:38:25.036867Z"
    }
   },
   "outputs": [],
   "source": [
    "# filter out very sparse features\n",
    "sparse_col_idx = ((x_tr_sparse > 0).mean(0) > 0.05).A.ravel()\n",
    "x_tr = np.hstack([x_tr_dense, x_tr_sparse[:, sparse_col_idx].A])\n",
    "x_te = np.hstack([x_te_dense, x_te_sparse[:, sparse_col_idx].A])"
   ]
  },
  {
   "cell_type": "code",
   "execution_count": 4,
   "metadata": {
    "ExecuteTime": {
     "end_time": "2019-12-01T03:39:19.073038Z",
     "start_time": "2019-12-01T03:38:26.139518Z"
    }
   },
   "outputs": [
    {
     "name": "stdout",
     "output_type": "stream",
     "text": [
      "         NR.AhR: 0.90156\n",
      "          NR.AR: 0.73193\n",
      "      NR.AR.LBD: 0.66420\n",
      "   NR.Aromatase: 0.77599\n",
      "          NR.ER: 0.78895\n",
      "      NR.ER.LBD: 0.73332\n",
      "  NR.PPAR.gamma: 0.71327\n",
      "         SR.ARE: 0.77014\n",
      "       SR.ATAD5: 0.81653\n",
      "         SR.HSE: 0.79723\n",
      "         SR.MMP: 0.92850\n",
      "         SR.p53: 0.79932\n"
     ]
    }
   ],
   "source": [
    "# Build a random forest model for all twelve assays\n",
    "for target in y_tr.columns:\n",
    "    rows_tr = np.isfinite(y_tr[target]).values\n",
    "    rows_te = np.isfinite(y_te[target]).values\n",
    "    rf = RandomForestClassifier(n_estimators=100,  n_jobs=4)\n",
    "    rf.fit(x_tr[rows_tr], y_tr[target][rows_tr])\n",
    "    p_te = rf.predict_proba(x_te[rows_te])\n",
    "    auc_te = roc_auc_score(y_te[target][rows_te], p_te[:, 1])\n",
    "    print(\"%15s: %3.5f\" % (target, auc_te))"
   ]
  },
  {
   "cell_type": "code",
   "execution_count": 5,
   "metadata": {
    "ExecuteTime": {
     "end_time": "2019-12-01T03:39:20.726610Z",
     "start_time": "2019-12-01T03:39:20.723837Z"
    }
   },
   "outputs": [],
   "source": [
    "from sklearn.metrics import confusion_matrix, f1_score, precision_score, recall_score"
   ]
  },
  {
   "cell_type": "code",
   "execution_count": 6,
   "metadata": {
    "ExecuteTime": {
     "end_time": "2019-12-01T03:39:21.936609Z",
     "start_time": "2019-12-01T03:39:21.804236Z"
    }
   },
   "outputs": [
    {
     "name": "stdout",
     "output_type": "stream",
     "text": [
      "[['TN' 'FP']\n",
      " ['FN' 'TP']]\n",
      "[[574   1]\n",
      " [ 39   2]]\n",
      "f1:0.09091\n",
      "recall:0.04878\n",
      "precision:0.66667\n"
     ]
    }
   ],
   "source": [
    "y_testing=y_te[target][~np.isnan(y_te[target])]\n",
    "y_hat_testing=rf.predict(x_te[rows_te])\n",
    "print(np.array([['TN','FP'],['FN','TP']]))\n",
    "print(confusion_matrix(y_testing,y_hat_testing))\n",
    "print('f1:{0:0.5f}'.format(f1_score(y_testing,y_hat_testing)))\n",
    "print('recall:{0:0.5f}'.format(recall_score(y_testing,y_hat_testing)))\n",
    "print('precision:{0:0.5f}'.format(precision_score(y_testing,y_hat_testing)))"
   ]
  },
  {
   "cell_type": "markdown",
   "metadata": {},
   "source": [
    "# Exploring Source Data"
   ]
  },
  {
   "cell_type": "code",
   "execution_count": 7,
   "metadata": {
    "ExecuteTime": {
     "end_time": "2019-12-01T03:39:28.156161Z",
     "start_time": "2019-12-01T03:39:28.148412Z"
    }
   },
   "outputs": [
    {
     "data": {
      "text/plain": [
       "(12060, 801)"
      ]
     },
     "execution_count": 7,
     "metadata": {},
     "output_type": "execute_result"
    }
   ],
   "source": [
    "x_tr_dense.shape"
   ]
  },
  {
   "cell_type": "code",
   "execution_count": 8,
   "metadata": {
    "ExecuteTime": {
     "end_time": "2019-12-01T03:39:30.697562Z",
     "start_time": "2019-12-01T03:39:29.161875Z"
    }
   },
   "outputs": [
    {
     "data": {
      "text/html": [
       "<div>\n",
       "<style scoped>\n",
       "    .dataframe tbody tr th:only-of-type {\n",
       "        vertical-align: middle;\n",
       "    }\n",
       "\n",
       "    .dataframe tbody tr th {\n",
       "        vertical-align: top;\n",
       "    }\n",
       "\n",
       "    .dataframe thead th {\n",
       "        text-align: right;\n",
       "    }\n",
       "</style>\n",
       "<table border=\"1\" class=\"dataframe\">\n",
       "  <thead>\n",
       "    <tr style=\"text-align: right;\">\n",
       "      <th></th>\n",
       "      <th>AW</th>\n",
       "      <th>AWeight</th>\n",
       "      <th>Arto</th>\n",
       "      <th>BertzCT</th>\n",
       "      <th>Chi0</th>\n",
       "      <th>Chi1</th>\n",
       "      <th>Chi10</th>\n",
       "      <th>Chi2</th>\n",
       "      <th>Chi3</th>\n",
       "      <th>Chi3c</th>\n",
       "      <th>...</th>\n",
       "      <th>W3D</th>\n",
       "      <th>W3DH</th>\n",
       "      <th>WNSA1</th>\n",
       "      <th>WNSA2</th>\n",
       "      <th>WNSA3</th>\n",
       "      <th>WPSA1</th>\n",
       "      <th>WPSA2</th>\n",
       "      <th>WPSA3</th>\n",
       "      <th>grav</th>\n",
       "      <th>rygr</th>\n",
       "    </tr>\n",
       "  </thead>\n",
       "  <tbody>\n",
       "    <tr>\n",
       "      <td>NCGC00178831-03</td>\n",
       "      <td>5.436720e+07</td>\n",
       "      <td>13.053</td>\n",
       "      <td>2.176</td>\n",
       "      <td>3.194</td>\n",
       "      <td>23.112</td>\n",
       "      <td>15.868</td>\n",
       "      <td>1.496</td>\n",
       "      <td>15.127</td>\n",
       "      <td>12.592</td>\n",
       "      <td>2.619</td>\n",
       "      <td>...</td>\n",
       "      <td>2687.469</td>\n",
       "      <td>9241.018</td>\n",
       "      <td>115.371</td>\n",
       "      <td>-915.496</td>\n",
       "      <td>-39.983</td>\n",
       "      <td>290.078</td>\n",
       "      <td>2301.941</td>\n",
       "      <td>59.492</td>\n",
       "      <td>88.147</td>\n",
       "      <td>3.708</td>\n",
       "    </tr>\n",
       "    <tr>\n",
       "      <td>NCGC00166114-03</td>\n",
       "      <td>1.268818e+07</td>\n",
       "      <td>22.123</td>\n",
       "      <td>2.065</td>\n",
       "      <td>3.137</td>\n",
       "      <td>21.033</td>\n",
       "      <td>13.718</td>\n",
       "      <td>1.937</td>\n",
       "      <td>13.187</td>\n",
       "      <td>11.951</td>\n",
       "      <td>2.502</td>\n",
       "      <td>...</td>\n",
       "      <td>2184.384</td>\n",
       "      <td>3234.199</td>\n",
       "      <td>194.740</td>\n",
       "      <td>-1029.609</td>\n",
       "      <td>-34.205</td>\n",
       "      <td>235.360</td>\n",
       "      <td>1244.323</td>\n",
       "      <td>82.906</td>\n",
       "      <td>134.852</td>\n",
       "      <td>4.131</td>\n",
       "    </tr>\n",
       "    <tr>\n",
       "      <td>NCGC00263563-01</td>\n",
       "      <td>3.076932e+06</td>\n",
       "      <td>13.085</td>\n",
       "      <td>2.154</td>\n",
       "      <td>3.207</td>\n",
       "      <td>46.896</td>\n",
       "      <td>29.958</td>\n",
       "      <td>3.806</td>\n",
       "      <td>30.105</td>\n",
       "      <td>25.569</td>\n",
       "      <td>7.819</td>\n",
       "      <td>...</td>\n",
       "      <td>13803.524</td>\n",
       "      <td>76582.899</td>\n",
       "      <td>238.004</td>\n",
       "      <td>-4358.946</td>\n",
       "      <td>-106.537</td>\n",
       "      <td>868.685</td>\n",
       "      <td>15909.444</td>\n",
       "      <td>135.335</td>\n",
       "      <td>216.852</td>\n",
       "      <td>5.075</td>\n",
       "    </tr>\n",
       "    <tr>\n",
       "      <td>NCGC00013058-02</td>\n",
       "      <td>7.168569e+07</td>\n",
       "      <td>12.832</td>\n",
       "      <td>2.029</td>\n",
       "      <td>3.380</td>\n",
       "      <td>51.086</td>\n",
       "      <td>32.045</td>\n",
       "      <td>1.806</td>\n",
       "      <td>29.090</td>\n",
       "      <td>21.603</td>\n",
       "      <td>5.222</td>\n",
       "      <td>...</td>\n",
       "      <td>13807.345</td>\n",
       "      <td>50498.175</td>\n",
       "      <td>226.312</td>\n",
       "      <td>-2785.555</td>\n",
       "      <td>-61.923</td>\n",
       "      <td>763.288</td>\n",
       "      <td>9394.859</td>\n",
       "      <td>125.509</td>\n",
       "      <td>238.265</td>\n",
       "      <td>4.640</td>\n",
       "    </tr>\n",
       "    <tr>\n",
       "      <td>NCGC00167516-01</td>\n",
       "      <td>7.989702e+06</td>\n",
       "      <td>12.936</td>\n",
       "      <td>2.124</td>\n",
       "      <td>3.573</td>\n",
       "      <td>70.295</td>\n",
       "      <td>46.402</td>\n",
       "      <td>3.604</td>\n",
       "      <td>42.132</td>\n",
       "      <td>32.570</td>\n",
       "      <td>7.002</td>\n",
       "      <td>...</td>\n",
       "      <td>43231.286</td>\n",
       "      <td>163659.229</td>\n",
       "      <td>850.869</td>\n",
       "      <td>-21136.699</td>\n",
       "      <td>-367.122</td>\n",
       "      <td>1798.703</td>\n",
       "      <td>44681.209</td>\n",
       "      <td>362.168</td>\n",
       "      <td>317.901</td>\n",
       "      <td>7.845</td>\n",
       "    </tr>\n",
       "  </tbody>\n",
       "</table>\n",
       "<p>5 rows × 801 columns</p>\n",
       "</div>"
      ],
      "text/plain": [
       "                           AW  AWeight   Arto  BertzCT    Chi0    Chi1  Chi10  \\\n",
       "NCGC00178831-03  5.436720e+07   13.053  2.176    3.194  23.112  15.868  1.496   \n",
       "NCGC00166114-03  1.268818e+07   22.123  2.065    3.137  21.033  13.718  1.937   \n",
       "NCGC00263563-01  3.076932e+06   13.085  2.154    3.207  46.896  29.958  3.806   \n",
       "NCGC00013058-02  7.168569e+07   12.832  2.029    3.380  51.086  32.045  1.806   \n",
       "NCGC00167516-01  7.989702e+06   12.936  2.124    3.573  70.295  46.402  3.604   \n",
       "\n",
       "                   Chi2    Chi3  Chi3c  ...        W3D        W3DH    WNSA1  \\\n",
       "NCGC00178831-03  15.127  12.592  2.619  ...   2687.469    9241.018  115.371   \n",
       "NCGC00166114-03  13.187  11.951  2.502  ...   2184.384    3234.199  194.740   \n",
       "NCGC00263563-01  30.105  25.569  7.819  ...  13803.524   76582.899  238.004   \n",
       "NCGC00013058-02  29.090  21.603  5.222  ...  13807.345   50498.175  226.312   \n",
       "NCGC00167516-01  42.132  32.570  7.002  ...  43231.286  163659.229  850.869   \n",
       "\n",
       "                     WNSA2    WNSA3     WPSA1      WPSA2    WPSA3     grav  \\\n",
       "NCGC00178831-03   -915.496  -39.983   290.078   2301.941   59.492   88.147   \n",
       "NCGC00166114-03  -1029.609  -34.205   235.360   1244.323   82.906  134.852   \n",
       "NCGC00263563-01  -4358.946 -106.537   868.685  15909.444  135.335  216.852   \n",
       "NCGC00013058-02  -2785.555  -61.923   763.288   9394.859  125.509  238.265   \n",
       "NCGC00167516-01 -21136.699 -367.122  1798.703  44681.209  362.168  317.901   \n",
       "\n",
       "                  rygr  \n",
       "NCGC00178831-03  3.708  \n",
       "NCGC00166114-03  4.131  \n",
       "NCGC00263563-01  5.075  \n",
       "NCGC00013058-02  4.640  \n",
       "NCGC00167516-01  7.845  \n",
       "\n",
       "[5 rows x 801 columns]"
      ]
     },
     "execution_count": 8,
     "metadata": {},
     "output_type": "execute_result"
    }
   ],
   "source": [
    "raw_data = './data/raw/tox21/'\n",
    "df=pd.read_csv(raw_data+'tox21_dense_train.csv.gz', index_col=0, compression=\"gzip\")\n",
    "df.head()"
   ]
  },
  {
   "cell_type": "code",
   "execution_count": 9,
   "metadata": {
    "ExecuteTime": {
     "end_time": "2019-12-01T03:39:31.485313Z",
     "start_time": "2019-12-01T03:39:31.481585Z"
    }
   },
   "outputs": [
    {
     "data": {
      "text/plain": [
       "Index(['AW', 'AWeight', 'Arto', 'BertzCT', 'Chi0', 'Chi1', 'Chi10', 'Chi2',\n",
       "       'Chi3', 'Chi3c', 'Chi3ch', 'Chi4', 'Chi4c', 'Chi4ch', 'Chi4pc', 'Chi5',\n",
       "       'Chi5ch', 'Chi6', 'Chi6ch', 'Chi7'],\n",
       "      dtype='object')"
      ]
     },
     "execution_count": 9,
     "metadata": {},
     "output_type": "execute_result"
    }
   ],
   "source": [
    "df.columns[:20]"
   ]
  },
  {
   "cell_type": "code",
   "execution_count": 10,
   "metadata": {
    "ExecuteTime": {
     "end_time": "2019-12-01T03:39:32.648985Z",
     "start_time": "2019-12-01T03:39:32.446898Z"
    }
   },
   "outputs": [
    {
     "data": {
      "text/html": [
       "<div>\n",
       "<style scoped>\n",
       "    .dataframe tbody tr th:only-of-type {\n",
       "        vertical-align: middle;\n",
       "    }\n",
       "\n",
       "    .dataframe tbody tr th {\n",
       "        vertical-align: top;\n",
       "    }\n",
       "\n",
       "    .dataframe thead th {\n",
       "        text-align: right;\n",
       "    }\n",
       "</style>\n",
       "<table border=\"1\" class=\"dataframe\">\n",
       "  <thead>\n",
       "    <tr style=\"text-align: right;\">\n",
       "      <th></th>\n",
       "    </tr>\n",
       "    <tr>\n",
       "      <th>ecfp2:-1578247565</th>\n",
       "    </tr>\n",
       "  </thead>\n",
       "  <tbody>\n",
       "    <tr>\n",
       "      <td>ecfp2:-1473889692</td>\n",
       "    </tr>\n",
       "    <tr>\n",
       "      <td>ecfp2:-1473889681</td>\n",
       "    </tr>\n",
       "    <tr>\n",
       "      <td>ecfp2:-415800397</td>\n",
       "    </tr>\n",
       "    <tr>\n",
       "      <td>ecfp2:1028</td>\n",
       "    </tr>\n",
       "    <tr>\n",
       "      <td>ecfp2:1039</td>\n",
       "    </tr>\n",
       "  </tbody>\n",
       "</table>\n",
       "</div>"
      ],
      "text/plain": [
       "Empty DataFrame\n",
       "Columns: []\n",
       "Index: [ecfp2:-1473889692, ecfp2:-1473889681, ecfp2:-415800397, ecfp2:1028, ecfp2:1039]"
      ]
     },
     "execution_count": 10,
     "metadata": {},
     "output_type": "execute_result"
    }
   ],
   "source": [
    "df=pd.read_csv(raw_data+'tox21_sparse_colnames.txt.gz', index_col=0, compression=\"gzip\")\n",
    "df.head()"
   ]
  },
  {
   "cell_type": "code",
   "execution_count": null,
   "metadata": {},
   "outputs": [],
   "source": []
  }
 ],
 "metadata": {
  "kernelspec": {
   "display_name": "Python [conda env:metis] *",
   "language": "python",
   "name": "conda-env-metis-py"
  },
  "language_info": {
   "codemirror_mode": {
    "name": "ipython",
    "version": 3
   },
   "file_extension": ".py",
   "mimetype": "text/x-python",
   "name": "python",
   "nbconvert_exporter": "python",
   "pygments_lexer": "ipython3",
   "version": "3.7.3"
  },
  "toc": {
   "base_numbering": 1,
   "nav_menu": {},
   "number_sections": true,
   "sideBar": true,
   "skip_h1_title": false,
   "title_cell": "Table of Contents",
   "title_sidebar": "Contents",
   "toc_cell": false,
   "toc_position": {},
   "toc_section_display": true,
   "toc_window_display": false
  }
 },
 "nbformat": 4,
 "nbformat_minor": 2
}
