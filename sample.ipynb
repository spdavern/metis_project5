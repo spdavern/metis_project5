{
 "cells": [
  {
   "cell_type": "markdown",
   "metadata": {},
   "source": [
    "# Sample Solution: Random Forest"
   ]
  },
  {
   "cell_type": "code",
   "execution_count": 1,
   "metadata": {
    "ExecuteTime": {
     "end_time": "2019-12-03T19:25:29.373800Z",
     "start_time": "2019-12-03T19:25:28.244152Z"
    }
   },
   "outputs": [],
   "source": [
    "# make sure  numpy, scipy, pandas, sklearn are installed, otherwise run\n",
    "# pip install numpy scipy pandas scikit-learn\n",
    "import numpy as np\n",
    "import pandas as pd\n",
    "from scipy import io\n",
    "from sklearn.metrics import roc_auc_score\n",
    "from sklearn.ensemble import RandomForestClassifier"
   ]
  },
  {
   "cell_type": "code",
   "execution_count": 2,
   "metadata": {
    "ExecuteTime": {
     "end_time": "2019-12-03T19:25:40.681143Z",
     "start_time": "2019-12-03T19:25:30.041057Z"
    }
   },
   "outputs": [],
   "source": [
    "# load data\n",
    "raw_data = './data/raw/tox21/'\n",
    "y_tr = pd.read_csv(raw_data+'tox21_labels_train.csv.gz', index_col=0, compression=\"gzip\")\n",
    "y_te = pd.read_csv(raw_data+'tox21_labels_test.csv.gz', index_col=0, compression=\"gzip\")\n",
    "x_tr_dense = pd.read_csv(raw_data+'tox21_dense_train.csv.gz', index_col=0, compression=\"gzip\").values\n",
    "x_te_dense = pd.read_csv(raw_data+'tox21_dense_test.csv.gz', index_col=0, compression=\"gzip\").values\n",
    "x_tr_sparse = io.mmread(raw_data+'tox21_sparse_train.mtx.gz').tocsc()\n",
    "x_te_sparse = io.mmread(raw_data+'tox21_sparse_test.mtx.gz').tocsc()"
   ]
  },
  {
   "cell_type": "code",
   "execution_count": 3,
   "metadata": {
    "ExecuteTime": {
     "end_time": "2019-12-01T03:38:25.239461Z",
     "start_time": "2019-12-01T03:38:25.036867Z"
    }
   },
   "outputs": [],
   "source": [
    "# filter out very sparse features\n",
    "sparse_col_idx = ((x_tr_sparse > 0).mean(0) > 0.05).A.ravel()\n",
    "x_tr = np.hstack([x_tr_dense, x_tr_sparse[:, sparse_col_idx].A])\n",
    "x_te = np.hstack([x_te_dense, x_te_sparse[:, sparse_col_idx].A])"
   ]
  },
  {
   "cell_type": "code",
   "execution_count": 4,
   "metadata": {
    "ExecuteTime": {
     "end_time": "2019-12-01T03:39:19.073038Z",
     "start_time": "2019-12-01T03:38:26.139518Z"
    }
   },
   "outputs": [
    {
     "name": "stdout",
     "output_type": "stream",
     "text": [
      "         NR.AhR: 0.90156\n",
      "          NR.AR: 0.73193\n",
      "      NR.AR.LBD: 0.66420\n",
      "   NR.Aromatase: 0.77599\n",
      "          NR.ER: 0.78895\n",
      "      NR.ER.LBD: 0.73332\n",
      "  NR.PPAR.gamma: 0.71327\n",
      "         SR.ARE: 0.77014\n",
      "       SR.ATAD5: 0.81653\n",
      "         SR.HSE: 0.79723\n",
      "         SR.MMP: 0.92850\n",
      "         SR.p53: 0.79932\n"
     ]
    }
   ],
   "source": [
    "# Build a random forest model for all twelve assays\n",
    "for target in y_tr.columns:\n",
    "    rows_tr = np.isfinite(y_tr[target]).values\n",
    "    rows_te = np.isfinite(y_te[target]).values\n",
    "    rf = RandomForestClassifier(n_estimators=100,  n_jobs=4)\n",
    "    rf.fit(x_tr[rows_tr], y_tr[target][rows_tr])\n",
    "    p_te = rf.predict_proba(x_te[rows_te])\n",
    "    auc_te = roc_auc_score(y_te[target][rows_te], p_te[:, 1])\n",
    "    print(\"%15s: %3.5f\" % (target, auc_te))"
   ]
  },
  {
   "cell_type": "code",
   "execution_count": 5,
   "metadata": {
    "ExecuteTime": {
     "end_time": "2019-12-01T03:39:20.726610Z",
     "start_time": "2019-12-01T03:39:20.723837Z"
    }
   },
   "outputs": [],
   "source": [
    "from sklearn.metrics import confusion_matrix, f1_score, precision_score, recall_score"
   ]
  },
  {
   "cell_type": "code",
   "execution_count": 6,
   "metadata": {
    "ExecuteTime": {
     "end_time": "2019-12-01T03:39:21.936609Z",
     "start_time": "2019-12-01T03:39:21.804236Z"
    }
   },
   "outputs": [
    {
     "name": "stdout",
     "output_type": "stream",
     "text": [
      "[['TN' 'FP']\n",
      " ['FN' 'TP']]\n",
      "[[574   1]\n",
      " [ 39   2]]\n",
      "f1:0.09091\n",
      "recall:0.04878\n",
      "precision:0.66667\n"
     ]
    }
   ],
   "source": [
    "y_testing=y_te[target][~np.isnan(y_te[target])]\n",
    "y_hat_testing=rf.predict(x_te[rows_te])\n",
    "print(np.array([['TN','FP'],['FN','TP']]))\n",
    "print(confusion_matrix(y_testing,y_hat_testing))\n",
    "print('f1:{0:0.5f}'.format(f1_score(y_testing,y_hat_testing)))\n",
    "print('recall:{0:0.5f}'.format(recall_score(y_testing,y_hat_testing)))\n",
    "print('precision:{0:0.5f}'.format(precision_score(y_testing,y_hat_testing)))"
   ]
  },
  {
   "cell_type": "code",
   "execution_count": null,
   "metadata": {},
   "outputs": [],
   "source": []
  }
 ],
 "metadata": {
  "kernelspec": {
   "display_name": "Python [conda env:metis] *",
   "language": "python",
   "name": "conda-env-metis-py"
  },
  "language_info": {
   "codemirror_mode": {
    "name": "ipython",
    "version": 3
   },
   "file_extension": ".py",
   "mimetype": "text/x-python",
   "name": "python",
   "nbconvert_exporter": "python",
   "pygments_lexer": "ipython3",
   "version": "3.7.3"
  },
  "toc": {
   "base_numbering": 1,
   "nav_menu": {},
   "number_sections": true,
   "sideBar": true,
   "skip_h1_title": false,
   "title_cell": "Table of Contents",
   "title_sidebar": "Contents",
   "toc_cell": false,
   "toc_position": {},
   "toc_section_display": true,
   "toc_window_display": false
  }
 },
 "nbformat": 4,
 "nbformat_minor": 2
}
