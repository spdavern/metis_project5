{
 "cells": [
  {
   "cell_type": "markdown",
   "metadata": {},
   "source": [
    "# Load Libraries"
   ]
  },
  {
   "cell_type": "code",
   "execution_count": 2,
   "metadata": {
    "ExecuteTime": {
     "end_time": "2019-12-08T22:51:04.891755Z",
     "start_time": "2019-12-08T22:51:04.884360Z"
    }
   },
   "outputs": [
    {
     "data": {
      "text/plain": [
       "'2.2.5'"
      ]
     },
     "execution_count": 2,
     "metadata": {},
     "output_type": "execute_result"
    }
   ],
   "source": [
    "import numpy as np\n",
    "import pandas as pd\n",
    "from sklearn.model_selection import train_test_split\n",
    "from sklearn.metrics import roc_auc_score\n",
    "from sklearn.metrics import roc_auc_score, confusion_matrix, f1_score,\\\n",
    "                            precision_score, recall_score, accuracy_score,\\\n",
    "                            average_precision_score, precision_recall_curve\n",
    "from imblearn.over_sampling import RandomOverSampler\n",
    "from src.helper_functions import load_data, get_model_perfs, init_model_perfs,\\\n",
    "                                 save_model, save_model_perfs, check_is_best,\\\n",
    "                                 read_model, evaluate_model_predictions,\\\n",
    "                                 update_model_perfs, check_and_save,\\\n",
    "                                 adjusted_classes\n",
    "import pickle\n",
    "import os\n",
    "import csv\n",
    "from hyperopt import hp, fmin, tpe, STATUS_OK, Trials\n",
    "from timeit import default_timer as timer\n",
    "import keras\n",
    "from keras.callbacks import Callback\n",
    "from keras.layers import Dense, Activation, Dropout\n",
    "keras.__version__"
   ]
  },
  {
   "cell_type": "markdown",
   "metadata": {
    "heading_collapsed": true
   },
   "source": [
    "## References:\n",
    "* https://hyperopt.github.io/hyperopt/\n",
    "* https://towardsdatascience.com/an-introductory-example-of-bayesian-optimization-in-python-with-hyperopt-aae40fff4ff0\n",
    "* https://towardsdatascience.com/automated-machine-learning-hyperparameter-tuning-in-python-dfda59b72f8a\n",
    "* https://towardsdatascience.com/a-conceptual-explanation-of-bayesian-model-based-hyperparameter-optimization-for-machine-learning-b8172278050f"
   ]
  },
  {
   "cell_type": "markdown",
   "metadata": {
    "ExecuteTime": {
     "end_time": "2019-12-08T10:23:20.742553Z",
     "start_time": "2019-12-08T10:23:20.738917Z"
    },
    "hidden": true
   },
   "source": [
    "### Callback Class\n",
    "See https://www.kaggle.com/inspector/keras-hyperopt-example-sketch/log\n",
    "if I need this again."
   ]
  },
  {
   "cell_type": "markdown",
   "metadata": {},
   "source": [
    "## Continue Search? (If trials data exists)\n",
    "Helpful reference: https://github.com/hyperopt/hyperopt/issues/267"
   ]
  },
  {
   "cell_type": "code",
   "execution_count": 3,
   "metadata": {
    "ExecuteTime": {
     "end_time": "2019-12-08T22:51:09.274439Z",
     "start_time": "2019-12-08T22:51:09.271757Z"
    }
   },
   "outputs": [],
   "source": [
    "Continue_Existing_Trials = True"
   ]
  },
  {
   "cell_type": "markdown",
   "metadata": {},
   "source": [
    "# Load Data & Balance"
   ]
  },
  {
   "cell_type": "code",
   "execution_count": 4,
   "metadata": {
    "ExecuteTime": {
     "end_time": "2019-12-08T22:51:22.060117Z",
     "start_time": "2019-12-08T22:51:10.757754Z"
    }
   },
   "outputs": [],
   "source": [
    "x_tr, y_tr, x_te, y_te = load_data()\n",
    "target = y_tr.columns[0]\n",
    "\n",
    "# Get previous trial data if it exists and initialize trials object\n",
    "# to be able to see our results after algorithm is complete\n",
    "target_path = './models/'+target.replace('.','_')+'/'\n",
    "if os.path.exists(os.path.join(target_path,'trials.pkl')) and Continue_Existing_Trials:\n",
    "    trials = pickle.load(open(os.path.join(target_path,'trials.pkl'), \"rb\"))\n",
    "    ITERATION = trials.results[-1]['iteration']\n",
    "else:\n",
    "    trials = Trials()\n",
    "    ITERATION = 0\n",
    "\n",
    "# Determine rows with available data\n",
    "rows_tr = np.isfinite(y_tr[target]).values\n",
    "rows_te = np.isfinite(y_te[target]).values\n",
    "x,y = x_tr[rows_tr], y_tr[target][rows_tr]\n",
    "\n",
    "# Address Class Imbalance\n",
    "x_train, x_val, y_train, y_val = train_test_split(x, y, stratify=y, \\\n",
    "                                                  test_size=0.2, random_state=42)\n",
    "ros = RandomOverSampler(random_state=0)\n",
    "x_resampled, y_resampled = ros.fit_sample(x_train,y_train)"
   ]
  },
  {
   "cell_type": "markdown",
   "metadata": {},
   "source": [
    "# Set up Tracking File\n",
    "This allows for monitoring progress even while optimization is running.  It is not the same as the trials object which keeps track of optimization progress details."
   ]
  },
  {
   "cell_type": "code",
   "execution_count": 5,
   "metadata": {
    "ExecuteTime": {
     "end_time": "2019-12-08T22:51:24.105294Z",
     "start_time": "2019-12-08T22:51:24.100706Z"
    }
   },
   "outputs": [
    {
     "name": "stdout",
     "output_type": "stream",
     "text": [
      "./models/NR_AhR/tracking.csv  ready for continued tracking.\n"
     ]
    }
   ],
   "source": [
    "def set_up_tracking_file(out_file):\n",
    "    # File to save first results\n",
    "    of_connection = open(out_file, 'w')\n",
    "    writer = csv.writer(of_connection)\n",
    "\n",
    "    # Write the headers to the file\n",
    "    writer.writerow(['loss', 'params', 'iteration', 'train_time'])\n",
    "    of_connection.close()\n",
    "\n",
    "out_file = os.path.join(target_path,'tracking.csv')\n",
    "if os.path.exists(out_file) and Continue_Existing_Trials:\n",
    "    print(out_file,' ready for continued tracking.')\n",
    "    # All ready to continue.\n",
    "else:\n",
    "    set_up_tracking_file(out_file)"
   ]
  },
  {
   "cell_type": "markdown",
   "metadata": {},
   "source": [
    "# Define Optimization Space"
   ]
  },
  {
   "cell_type": "code",
   "execution_count": 6,
   "metadata": {
    "ExecuteTime": {
     "end_time": "2019-12-08T22:51:27.052650Z",
     "start_time": "2019-12-08T22:51:27.046895Z"
    }
   },
   "outputs": [],
   "source": [
    "space = {'layers': hp.choice('layers', range(1,5)),\n",
    "         'drop_out': hp.uniform('drop_out', 0, 0.5),\n",
    "         'L2_reg': hp.choice('L2_reg', [0.01, 0.001, 0.0001, 0.0001]),\n",
    "         'act': hp.choice('act', ['sigmoid', 'tanh']),\n",
    "         'neurons': hp.choice('neurons', [512, 1024, 2048, 4096, 8192]),\n",
    "         'decay': hp.choice('decay', [0, 10**-6, 10**-5, 10**-4]),\n",
    "         'learn_rate': hp.choice('learn_rate', [0.001, 0.01, 0.1, 1 ]),\n",
    "         'batch_size': hp.choice('batch_size', [256, 512, 1024])\n",
    "        }"
   ]
  },
  {
   "cell_type": "markdown",
   "metadata": {},
   "source": [
    "# Define Objective Function"
   ]
  },
  {
   "cell_type": "code",
   "execution_count": 7,
   "metadata": {
    "ExecuteTime": {
     "end_time": "2019-12-08T22:51:29.045187Z",
     "start_time": "2019-12-08T22:51:29.026915Z"
    }
   },
   "outputs": [],
   "source": [
    "def objective(params):\n",
    "    # Save current state of trials object so we can recover from issues\n",
    "    pickle.dump(trials, open(os.path.join(target_path,'trials.pkl'), \"wb\"))\n",
    "                             \n",
    "    # Keep track of evals\n",
    "    global ITERATION\n",
    "    ITERATION += 1\n",
    "    \n",
    "    # Build Dense Neural Network\n",
    "    DNN = keras.Sequential()\n",
    "    DNN.add(Dense(params['neurons'], activation=params['act'],input_shape=x_tr.shape[1:],name='h0_'+params['act']+'_activation'))\n",
    "    DNN.add(Dropout(rate=params['drop_out'],name='Dropout0'))\n",
    "    for i in range(1,params['layers']):\n",
    "        DNN.add(Dense(units=params['neurons'], activation=params['act'],\\\n",
    "                      name='h'+str(i)+'_'+params['act']+'_activation',\\\n",
    "                      kernel_regularizer=keras.regularizers.l2(params['L2_reg'])))\n",
    "        DNN.add(Dropout(rate=params['drop_out'],name='Dropout'+str(i)))\n",
    "    DNN.add(Dense(units=1, activation='sigmoid'))\n",
    "    keras.optimizers.Adam(lr=params['learn_rate'], beta_1=0.9,\\\n",
    "                          beta_2=0.999, decay=params['decay'], amsgrad=False)\n",
    "    DNN.compile(optimizer='adam', loss='binary_crossentropy',\\\n",
    "                metrics=['accuracy'])\n",
    "    \n",
    "    # Train the DNN\n",
    "    start = timer()\n",
    "    DNN.fit(\n",
    "        x_resampled, y_resampled, batch_size=params['batch_size'], epochs=200,\\\n",
    "        validation_data=(x_val,y_val), verbose=0,\n",
    "        callbacks=[\n",
    "            keras.callbacks.EarlyStopping(patience=8,verbose=0,\\\n",
    "                                          restore_best_weights=True),\n",
    "            keras.callbacks.ReduceLROnPlateau(factor=0.5,patience=3,verbose=0)\n",
    "        ])\n",
    "    train_time = timer() - start\n",
    "    \n",
    "    # Get predictions, calculate model performance and save info\n",
    "    p_te = DNN.predict(x_te[rows_te])[:,0]\n",
    "    y_testing=y_te[target][rows_te]\n",
    "    auc_te = roc_auc_score(y_testing, p_te)\n",
    "    print(\"%15s: %3.5f\" % (target, auc_te))\n",
    "\n",
    "    y_hat_testing=DNN.predict_classes(x_te[rows_te])\n",
    "    average_precision=average_precision_score(y_testing,p_te)\n",
    "    mv=evaluate_model_predictions(target,'DNN',0.5,y_testing,y_hat_testing,\\\n",
    "                                  auc_te,average_precision)\n",
    "    filename = check_and_save(target,mv,DNN,True)\n",
    "    \n",
    "    # Find max F1 varying probability threshold, calculate modified performance, save\n",
    "    precision, recall, thresholds = precision_recall_curve(y_testing,p_te)\n",
    "    # f1 = 2*precision*recall/(precision+recall)  # Sometimes precision=recall=0!\n",
    "    p,r,t = zip(*[i for i in zip(precision,recall,np.append(thresholds,1)) if i[0:2]!=(0,0)])\n",
    "    p,r,t = np.array(p),np.array(r),np.array(t)\n",
    "    f1 = 2*p*r/(p+r)\n",
    "    m_idx = np.argmax(f1)\n",
    "    m_thresh = thresholds[m_idx]\n",
    "    y_hat_testing_adj=adjusted_classes(p_te,m_thresh)\n",
    "    mv=evaluate_model_predictions(target,'DNN_modT',m_thresh,y_testing,y_hat_testing_adj,\\\n",
    "                                  auc_te,average_precision)\n",
    "    if filename is None:\n",
    "        check_and_save(target,mv,DNN,True)\n",
    "    else:\n",
    "        check_and_save(target,mv,filename,True)\n",
    "    display(get_model_perfs(target))\n",
    "    \n",
    "    # Score to be used in evaluation\n",
    "    \n",
    "    score = mv['f1']\n",
    "    \n",
    "    # Loss must be minimized\n",
    "    \n",
    "    loss = 1 - score\n",
    "    \n",
    "    # Write to the csv file ('a' means append)\n",
    "    of_connection = open(out_file, 'a')\n",
    "    writer = csv.writer(of_connection)\n",
    "    writer.writerow([loss, params, ITERATION, train_time])\n",
    "    \n",
    "    return {'loss': loss, 'params': params, 'iteration': ITERATION,\n",
    "            'train_time': train_time, 'status': STATUS_OK}"
   ]
  },
  {
   "cell_type": "markdown",
   "metadata": {
    "ExecuteTime": {
     "end_time": "2019-12-08T09:23:48.729028Z",
     "start_time": "2019-12-08T09:23:48.726956Z"
    }
   },
   "source": [
    "# Execution [possibly continuation] of the Optimization"
   ]
  },
  {
   "cell_type": "code",
   "execution_count": null,
   "metadata": {
    "ExecuteTime": {
     "start_time": "2019-12-08T22:51:39.262Z"
    }
   },
   "outputs": [
    {
     "name": "stdout",
     "output_type": "stream",
     "text": [
      "  0%|          | 0/197 [00:00<?, ?it/s, best loss: ?]WARNING:tensorflow:From /Users/sean/anaconda3/envs/metis/lib/python3.7/site-packages/tensorflow/python/framework/op_def_library.py:263: colocate_with (from tensorflow.python.framework.ops) is deprecated and will be removed in a future version.\n",
      "Instructions for updating:\n",
      "Colocations handled automatically by placer.\n",
      "WARNING:tensorflow:From /Users/sean/anaconda3/envs/metis/lib/python3.7/site-packages/keras/backend/tensorflow_backend.py:3733: calling dropout (from tensorflow.python.ops.nn_ops) with keep_prob is deprecated and will be removed in a future version.\n",
      "Instructions for updating:\n",
      "Please use `rate` instead of `keep_prob`. Rate should be set to `rate = 1 - keep_prob`.\n",
      "WARNING:tensorflow:From /Users/sean/anaconda3/envs/metis/lib/python3.7/site-packages/tensorflow/python/ops/math_ops.py:3066: to_int32 (from tensorflow.python.ops.math_ops) is deprecated and will be removed in a future version.\n",
      "Instructions for updating:\n",
      "Use tf.cast instead.\n",
      "         NR.AhR: 0.85391                             \n",
      "Model performance not better than that previously recorded.\n",
      "Model performance not better than that previously recorded.\n",
      "  0%|          | 0/197 [00:53<?, ?it/s, best loss: ?]"
     ]
    },
    {
     "data": {
      "text/html": [
       "<div>\n",
       "<style scoped>\n",
       "    .dataframe tbody tr th:only-of-type {\n",
       "        vertical-align: middle;\n",
       "    }\n",
       "\n",
       "    .dataframe tbody tr th {\n",
       "        vertical-align: top;\n",
       "    }\n",
       "\n",
       "    .dataframe thead th {\n",
       "        text-align: right;\n",
       "    }\n",
       "</style>\n",
       "<table border=\"1\" class=\"dataframe\">\n",
       "  <thead>\n",
       "    <tr style=\"text-align: right;\">\n",
       "      <th></th>\n",
       "      <th>model</th>\n",
       "      <th>threshold</th>\n",
       "      <th>accuracy</th>\n",
       "      <th>precision</th>\n",
       "      <th>recall</th>\n",
       "      <th>f1</th>\n",
       "      <th>auc_roc</th>\n",
       "      <th>avg_precision</th>\n",
       "      <th>confusion_matrix</th>\n",
       "      <th>model_filename</th>\n",
       "    </tr>\n",
       "  </thead>\n",
       "  <tbody>\n",
       "    <tr>\n",
       "      <td>0</td>\n",
       "      <td>RF</td>\n",
       "      <td>0.500000</td>\n",
       "      <td>0.911475</td>\n",
       "      <td>0.756757</td>\n",
       "      <td>0.383562</td>\n",
       "      <td>0.509091</td>\n",
       "      <td>0.905028</td>\n",
       "      <td>0.602102</td>\n",
       "      <td>[[528, 9], [45, 28]]</td>\n",
       "      <td>RF0.joblib</td>\n",
       "    </tr>\n",
       "    <tr>\n",
       "      <td>1</td>\n",
       "      <td>RF_modT</td>\n",
       "      <td>0.235000</td>\n",
       "      <td>0.842623</td>\n",
       "      <td>0.424837</td>\n",
       "      <td>0.890411</td>\n",
       "      <td>0.575221</td>\n",
       "      <td>0.905028</td>\n",
       "      <td>0.602102</td>\n",
       "      <td>[[449, 88], [8, 65]]</td>\n",
       "      <td>RF0.joblib</td>\n",
       "    </tr>\n",
       "    <tr>\n",
       "      <td>2</td>\n",
       "      <td>DNN</td>\n",
       "      <td>0.500000</td>\n",
       "      <td>0.814754</td>\n",
       "      <td>0.364865</td>\n",
       "      <td>0.739726</td>\n",
       "      <td>0.488688</td>\n",
       "      <td>0.864723</td>\n",
       "      <td>0.524576</td>\n",
       "      <td>[[443, 94], [19, 54]]</td>\n",
       "      <td>DNN0.h5</td>\n",
       "    </tr>\n",
       "    <tr>\n",
       "      <td>3</td>\n",
       "      <td>DNN_modT</td>\n",
       "      <td>0.773516</td>\n",
       "      <td>0.901639</td>\n",
       "      <td>0.603175</td>\n",
       "      <td>0.520548</td>\n",
       "      <td>0.558824</td>\n",
       "      <td>0.864723</td>\n",
       "      <td>0.524576</td>\n",
       "      <td>[[512, 25], [35, 38]]</td>\n",
       "      <td>DNN0.h5</td>\n",
       "    </tr>\n",
       "    <tr>\n",
       "      <td>4</td>\n",
       "      <td>DNN</td>\n",
       "      <td>0.500000</td>\n",
       "      <td>0.895082</td>\n",
       "      <td>0.561644</td>\n",
       "      <td>0.561644</td>\n",
       "      <td>0.561644</td>\n",
       "      <td>0.860935</td>\n",
       "      <td>0.495738</td>\n",
       "      <td>[[505, 32], [32, 41]]</td>\n",
       "      <td>DNN2.h5</td>\n",
       "    </tr>\n",
       "    <tr>\n",
       "      <td>5</td>\n",
       "      <td>DNN_modT</td>\n",
       "      <td>0.488593</td>\n",
       "      <td>0.893443</td>\n",
       "      <td>0.551282</td>\n",
       "      <td>0.589041</td>\n",
       "      <td>0.569536</td>\n",
       "      <td>0.860935</td>\n",
       "      <td>0.495738</td>\n",
       "      <td>[[502, 35], [30, 43]]</td>\n",
       "      <td>DNN2.h5</td>\n",
       "    </tr>\n",
       "    <tr>\n",
       "      <td>6</td>\n",
       "      <td>DNN</td>\n",
       "      <td>0.500000</td>\n",
       "      <td>0.780328</td>\n",
       "      <td>0.323699</td>\n",
       "      <td>0.767123</td>\n",
       "      <td>0.455285</td>\n",
       "      <td>0.867950</td>\n",
       "      <td>0.573394</td>\n",
       "      <td>[[420, 117], [17, 56]]</td>\n",
       "      <td>DNN3.h5</td>\n",
       "    </tr>\n",
       "    <tr>\n",
       "      <td>7</td>\n",
       "      <td>DNN_modT</td>\n",
       "      <td>0.600385</td>\n",
       "      <td>0.885246</td>\n",
       "      <td>0.516854</td>\n",
       "      <td>0.630137</td>\n",
       "      <td>0.567901</td>\n",
       "      <td>0.867950</td>\n",
       "      <td>0.573394</td>\n",
       "      <td>[[494, 43], [27, 46]]</td>\n",
       "      <td>DNN3.h5</td>\n",
       "    </tr>\n",
       "    <tr>\n",
       "      <td>8</td>\n",
       "      <td>DNN</td>\n",
       "      <td>0.500000</td>\n",
       "      <td>0.872131</td>\n",
       "      <td>0.474747</td>\n",
       "      <td>0.643836</td>\n",
       "      <td>0.546512</td>\n",
       "      <td>0.871126</td>\n",
       "      <td>0.553833</td>\n",
       "      <td>[[485, 52], [26, 47]]</td>\n",
       "      <td>DNN4.h5</td>\n",
       "    </tr>\n",
       "    <tr>\n",
       "      <td>9</td>\n",
       "      <td>DNN_modT</td>\n",
       "      <td>0.496647</td>\n",
       "      <td>0.875410</td>\n",
       "      <td>0.485714</td>\n",
       "      <td>0.698630</td>\n",
       "      <td>0.573034</td>\n",
       "      <td>0.871126</td>\n",
       "      <td>0.553833</td>\n",
       "      <td>[[483, 54], [22, 51]]</td>\n",
       "      <td>DNN4.h5</td>\n",
       "    </tr>\n",
       "    <tr>\n",
       "      <td>10</td>\n",
       "      <td>DNN</td>\n",
       "      <td>0.500000</td>\n",
       "      <td>0.896721</td>\n",
       "      <td>0.596154</td>\n",
       "      <td>0.424658</td>\n",
       "      <td>0.496000</td>\n",
       "      <td>0.872376</td>\n",
       "      <td>0.559638</td>\n",
       "      <td>[[516, 21], [42, 31]]</td>\n",
       "      <td>DNN5.h5</td>\n",
       "    </tr>\n",
       "    <tr>\n",
       "      <td>11</td>\n",
       "      <td>DNN_modT</td>\n",
       "      <td>0.435945</td>\n",
       "      <td>0.896721</td>\n",
       "      <td>0.562500</td>\n",
       "      <td>0.616438</td>\n",
       "      <td>0.588235</td>\n",
       "      <td>0.872376</td>\n",
       "      <td>0.559638</td>\n",
       "      <td>[[502, 35], [28, 45]]</td>\n",
       "      <td>DNN5.h5</td>\n",
       "    </tr>\n",
       "    <tr>\n",
       "      <td>12</td>\n",
       "      <td>DNN</td>\n",
       "      <td>0.500000</td>\n",
       "      <td>0.847541</td>\n",
       "      <td>0.419355</td>\n",
       "      <td>0.712329</td>\n",
       "      <td>0.527919</td>\n",
       "      <td>0.878651</td>\n",
       "      <td>0.551993</td>\n",
       "      <td>[[465, 72], [21, 52]]</td>\n",
       "      <td>DNN6.h5</td>\n",
       "    </tr>\n",
       "    <tr>\n",
       "      <td>13</td>\n",
       "      <td>DNN_modT</td>\n",
       "      <td>0.592893</td>\n",
       "      <td>0.881967</td>\n",
       "      <td>0.505155</td>\n",
       "      <td>0.671233</td>\n",
       "      <td>0.576471</td>\n",
       "      <td>0.878651</td>\n",
       "      <td>0.551993</td>\n",
       "      <td>[[489, 48], [24, 49]]</td>\n",
       "      <td>DNN6.h5</td>\n",
       "    </tr>\n",
       "    <tr>\n",
       "      <td>14</td>\n",
       "      <td>DNN</td>\n",
       "      <td>0.500000</td>\n",
       "      <td>0.885246</td>\n",
       "      <td>0.516854</td>\n",
       "      <td>0.630137</td>\n",
       "      <td>0.567901</td>\n",
       "      <td>0.868855</td>\n",
       "      <td>0.545916</td>\n",
       "      <td>[[494, 43], [27, 46]]</td>\n",
       "      <td>DNN7.h5</td>\n",
       "    </tr>\n",
       "  </tbody>\n",
       "</table>\n",
       "</div>"
      ],
      "text/plain": [
       "       model  threshold  accuracy  precision    recall        f1   auc_roc  \\\n",
       "0         RF   0.500000  0.911475   0.756757  0.383562  0.509091  0.905028   \n",
       "1    RF_modT   0.235000  0.842623   0.424837  0.890411  0.575221  0.905028   \n",
       "2        DNN   0.500000  0.814754   0.364865  0.739726  0.488688  0.864723   \n",
       "3   DNN_modT   0.773516  0.901639   0.603175  0.520548  0.558824  0.864723   \n",
       "4        DNN   0.500000  0.895082   0.561644  0.561644  0.561644  0.860935   \n",
       "5   DNN_modT   0.488593  0.893443   0.551282  0.589041  0.569536  0.860935   \n",
       "6        DNN   0.500000  0.780328   0.323699  0.767123  0.455285  0.867950   \n",
       "7   DNN_modT   0.600385  0.885246   0.516854  0.630137  0.567901  0.867950   \n",
       "8        DNN   0.500000  0.872131   0.474747  0.643836  0.546512  0.871126   \n",
       "9   DNN_modT   0.496647  0.875410   0.485714  0.698630  0.573034  0.871126   \n",
       "10       DNN   0.500000  0.896721   0.596154  0.424658  0.496000  0.872376   \n",
       "11  DNN_modT   0.435945  0.896721   0.562500  0.616438  0.588235  0.872376   \n",
       "12       DNN   0.500000  0.847541   0.419355  0.712329  0.527919  0.878651   \n",
       "13  DNN_modT   0.592893  0.881967   0.505155  0.671233  0.576471  0.878651   \n",
       "14       DNN   0.500000  0.885246   0.516854  0.630137  0.567901  0.868855   \n",
       "\n",
       "    avg_precision        confusion_matrix model_filename  \n",
       "0        0.602102    [[528, 9], [45, 28]]     RF0.joblib  \n",
       "1        0.602102    [[449, 88], [8, 65]]     RF0.joblib  \n",
       "2        0.524576   [[443, 94], [19, 54]]        DNN0.h5  \n",
       "3        0.524576   [[512, 25], [35, 38]]        DNN0.h5  \n",
       "4        0.495738   [[505, 32], [32, 41]]        DNN2.h5  \n",
       "5        0.495738   [[502, 35], [30, 43]]        DNN2.h5  \n",
       "6        0.573394  [[420, 117], [17, 56]]        DNN3.h5  \n",
       "7        0.573394   [[494, 43], [27, 46]]        DNN3.h5  \n",
       "8        0.553833   [[485, 52], [26, 47]]        DNN4.h5  \n",
       "9        0.553833   [[483, 54], [22, 51]]        DNN4.h5  \n",
       "10       0.559638   [[516, 21], [42, 31]]        DNN5.h5  \n",
       "11       0.559638   [[502, 35], [28, 45]]        DNN5.h5  \n",
       "12       0.551993   [[465, 72], [21, 52]]        DNN6.h5  \n",
       "13       0.551993   [[489, 48], [24, 49]]        DNN6.h5  \n",
       "14       0.545916   [[494, 43], [27, 46]]        DNN7.h5  "
      ]
     },
     "metadata": {},
     "output_type": "display_data"
    },
    {
     "name": "stdout",
     "output_type": "stream",
     "text": [
      "\r",
      "  1%|          | 1/197 [00:53<2:53:29, 53.11s/it, best loss: 0.4117647058823529]"
     ]
    }
   ],
   "source": [
    "# Optimize\n",
    "best = fmin(fn= objective,\n",
    "            space= space,\n",
    "            algo= tpe.suggest,\n",
    "            max_evals = 250,\n",
    "            trials= trials)\n",
    "best"
   ]
  },
  {
   "cell_type": "markdown",
   "metadata": {},
   "source": [
    "# Save the final state of the trials object"
   ]
  },
  {
   "cell_type": "code",
   "execution_count": null,
   "metadata": {
    "ExecuteTime": {
     "end_time": "2019-12-08T21:45:07.294294Z",
     "start_time": "2019-12-08T21:45:07.243851Z"
    }
   },
   "outputs": [],
   "source": [
    "pickle.dump(trials, open(os.path.join(target_path,'trials.pkl')\", \"wb\"))"
   ]
  },
  {
   "cell_type": "code",
   "execution_count": null,
   "metadata": {},
   "outputs": [],
   "source": []
  }
 ],
 "metadata": {
  "kernelspec": {
   "display_name": "Python [conda env:metis] *",
   "language": "python",
   "name": "conda-env-metis-py"
  },
  "language_info": {
   "codemirror_mode": {
    "name": "ipython",
    "version": 3
   },
   "file_extension": ".py",
   "mimetype": "text/x-python",
   "name": "python",
   "nbconvert_exporter": "python",
   "pygments_lexer": "ipython3",
   "version": "3.7.3"
  },
  "toc": {
   "base_numbering": 1,
   "nav_menu": {},
   "number_sections": true,
   "sideBar": true,
   "skip_h1_title": false,
   "title_cell": "Table of Contents",
   "title_sidebar": "Contents",
   "toc_cell": false,
   "toc_position": {},
   "toc_section_display": true,
   "toc_window_display": false
  }
 },
 "nbformat": 4,
 "nbformat_minor": 2
}
