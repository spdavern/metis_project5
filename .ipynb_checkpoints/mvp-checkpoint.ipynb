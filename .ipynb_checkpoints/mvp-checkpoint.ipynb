{
 "cells": [
  {
   "cell_type": "markdown",
   "metadata": {},
   "source": [
    "# Library Imports"
   ]
  },
  {
   "cell_type": "code",
   "execution_count": 1,
   "metadata": {
    "ExecuteTime": {
     "end_time": "2019-11-27T19:47:23.357098Z",
     "start_time": "2019-11-27T19:47:21.876617Z"
    }
   },
   "outputs": [],
   "source": [
    "import os\n",
    "import numpy as np\n",
    "import pandas as pd\n",
    "from scipy import io\n",
    "# from sklearn import metrics\n",
    "from sklearn.model_selection import train_test_split\n",
    "from sklearn.metrics import roc_auc_score\n",
    "from sklearn.metrics import confusion_matrix, f1_score, precision_score, recall_score"
   ]
  },
  {
   "cell_type": "code",
   "execution_count": 2,
   "metadata": {
    "ExecuteTime": {
     "end_time": "2019-11-27T19:47:27.266207Z",
     "start_time": "2019-11-27T19:47:25.900169Z"
    }
   },
   "outputs": [
    {
     "name": "stderr",
     "output_type": "stream",
     "text": [
      "Using TensorFlow backend.\n",
      "/Users/sean/anaconda3/envs/metis/lib/python3.7/site-packages/tensorflow/python/framework/dtypes.py:526: FutureWarning: Passing (type, 1) or '1type' as a synonym of type is deprecated; in a future version of numpy, it will be understood as (type, (1,)) / '(1,)type'.\n",
      "  _np_qint8 = np.dtype([(\"qint8\", np.int8, 1)])\n",
      "/Users/sean/anaconda3/envs/metis/lib/python3.7/site-packages/tensorflow/python/framework/dtypes.py:527: FutureWarning: Passing (type, 1) or '1type' as a synonym of type is deprecated; in a future version of numpy, it will be understood as (type, (1,)) / '(1,)type'.\n",
      "  _np_quint8 = np.dtype([(\"quint8\", np.uint8, 1)])\n",
      "/Users/sean/anaconda3/envs/metis/lib/python3.7/site-packages/tensorflow/python/framework/dtypes.py:528: FutureWarning: Passing (type, 1) or '1type' as a synonym of type is deprecated; in a future version of numpy, it will be understood as (type, (1,)) / '(1,)type'.\n",
      "  _np_qint16 = np.dtype([(\"qint16\", np.int16, 1)])\n",
      "/Users/sean/anaconda3/envs/metis/lib/python3.7/site-packages/tensorflow/python/framework/dtypes.py:529: FutureWarning: Passing (type, 1) or '1type' as a synonym of type is deprecated; in a future version of numpy, it will be understood as (type, (1,)) / '(1,)type'.\n",
      "  _np_quint16 = np.dtype([(\"quint16\", np.uint16, 1)])\n",
      "/Users/sean/anaconda3/envs/metis/lib/python3.7/site-packages/tensorflow/python/framework/dtypes.py:530: FutureWarning: Passing (type, 1) or '1type' as a synonym of type is deprecated; in a future version of numpy, it will be understood as (type, (1,)) / '(1,)type'.\n",
      "  _np_qint32 = np.dtype([(\"qint32\", np.int32, 1)])\n",
      "/Users/sean/anaconda3/envs/metis/lib/python3.7/site-packages/tensorflow/python/framework/dtypes.py:535: FutureWarning: Passing (type, 1) or '1type' as a synonym of type is deprecated; in a future version of numpy, it will be understood as (type, (1,)) / '(1,)type'.\n",
      "  np_resource = np.dtype([(\"resource\", np.ubyte, 1)])\n"
     ]
    },
    {
     "data": {
      "text/plain": [
       "'2.2.5'"
      ]
     },
     "execution_count": 2,
     "metadata": {},
     "output_type": "execute_result"
    }
   ],
   "source": [
    "import keras\n",
    "from keras.callbacks import Callback\n",
    "keras.__version__"
   ]
  },
  {
   "cell_type": "markdown",
   "metadata": {
    "ExecuteTime": {
     "end_time": "2019-11-27T19:47:28.721388Z",
     "start_time": "2019-11-27T19:47:28.596873Z"
    }
   },
   "source": [
    "os.chdir('/Users/sean/CloudStation/Metis/projects/project5')\n",
    "!pwd"
   ]
  },
  {
   "cell_type": "markdown",
   "metadata": {},
   "source": [
    "# Load Data"
   ]
  },
  {
   "cell_type": "code",
   "execution_count": 4,
   "metadata": {
    "ExecuteTime": {
     "end_time": "2019-11-27T19:47:41.504424Z",
     "start_time": "2019-11-27T19:47:30.692144Z"
    }
   },
   "outputs": [],
   "source": [
    "# load data\n",
    "raw_data = './data/raw/tox21/'\n",
    "y_tr = pd.read_csv(raw_data+'tox21_labels_train.csv.gz', index_col=0, compression=\"gzip\")\n",
    "y_te = pd.read_csv(raw_data+'tox21_labels_test.csv.gz', index_col=0, compression=\"gzip\")\n",
    "x_tr_dense = pd.read_csv(raw_data+'tox21_dense_train.csv.gz', index_col=0, compression=\"gzip\").values\n",
    "x_te_dense = pd.read_csv(raw_data+'tox21_dense_test.csv.gz', index_col=0, compression=\"gzip\").values\n",
    "x_tr_sparse = io.mmread(raw_data+'tox21_sparse_train.mtx.gz').tocsc()\n",
    "x_te_sparse = io.mmread(raw_data+'tox21_sparse_test.mtx.gz').tocsc()\n",
    "# filter out very sparse features\n",
    "sparse_col_idx = ((x_tr_sparse > 0).mean(0) > 0.05).A.ravel()\n",
    "x_tr = np.hstack([x_tr_dense, x_tr_sparse[:, sparse_col_idx].A])\n",
    "x_te = np.hstack([x_te_dense, x_te_sparse[:, sparse_col_idx].A])"
   ]
  },
  {
   "cell_type": "markdown",
   "metadata": {},
   "source": [
    "# Choose A Target"
   ]
  },
  {
   "cell_type": "code",
   "execution_count": 5,
   "metadata": {
    "ExecuteTime": {
     "end_time": "2019-11-27T19:47:42.930039Z",
     "start_time": "2019-11-27T19:47:42.925184Z"
    }
   },
   "outputs": [
    {
     "data": {
      "text/plain": [
       "Index(['NR.AhR', 'NR.AR', 'NR.AR.LBD', 'NR.Aromatase', 'NR.ER', 'NR.ER.LBD',\n",
       "       'NR.PPAR.gamma', 'SR.ARE', 'SR.ATAD5', 'SR.HSE', 'SR.MMP', 'SR.p53'],\n",
       "      dtype='object')"
      ]
     },
     "execution_count": 5,
     "metadata": {},
     "output_type": "execute_result"
    }
   ],
   "source": [
    "y_tr.columns"
   ]
  },
  {
   "cell_type": "markdown",
   "metadata": {},
   "source": [
    "The Random Forest example loops through all the targets.  I'll pick only the first one for the DNN MVP:"
   ]
  },
  {
   "cell_type": "code",
   "execution_count": 6,
   "metadata": {
    "ExecuteTime": {
     "end_time": "2019-11-27T19:47:48.738835Z",
     "start_time": "2019-11-27T19:47:48.517181Z"
    }
   },
   "outputs": [
    {
     "data": {
      "text/plain": [
       "(8441, 1644)"
      ]
     },
     "execution_count": 6,
     "metadata": {},
     "output_type": "execute_result"
    }
   ],
   "source": [
    "# for target in y_tr.columns:\n",
    "target = 'NR.AhR'\n",
    "rows_tr = np.isfinite(y_tr[target]).values\n",
    "rows_te = np.isfinite(y_te[target]).values\n",
    "x,y = x_tr[rows_tr], y_tr[target][rows_tr]\n",
    "x.shape"
   ]
  },
  {
   "cell_type": "markdown",
   "metadata": {},
   "source": [
    "# Address Class Imbalance\n",
    "Oversampling Documentation:\n",
    "https://imbalanced-learn.readthedocs.io/en/stable/over_sampling.html\n",
    "\n",
    "\"While the `RandomOverSampler` is over-sampling by duplicating some of the original samples of the minority class, `SMOTE` and `ADASYN` generate new samples in by interpolation. However, the samples used to interpolate/generate new synthetic samples differ. In fact, `ADASYN` focuses on generating samples next to the original samples which are wrongly classified using a k-Nearest Neighbors classifier while the basic implementation of `SMOTE` will not make any distinction between easy and hard samples to be classified using the nearest neighbors rule. Therefore, the decision function found during training will be different among the algorithms.\""
   ]
  },
  {
   "cell_type": "code",
   "execution_count": 7,
   "metadata": {
    "ExecuteTime": {
     "end_time": "2019-11-27T19:47:55.981433Z",
     "start_time": "2019-11-27T19:47:55.709711Z"
    }
   },
   "outputs": [],
   "source": [
    "from imblearn.over_sampling import RandomOverSampler, SMOTE, ADASYN"
   ]
  },
  {
   "cell_type": "code",
   "execution_count": 8,
   "metadata": {
    "ExecuteTime": {
     "end_time": "2019-11-27T19:47:56.869451Z",
     "start_time": "2019-11-27T19:47:56.862602Z"
    },
    "scrolled": false
   },
   "outputs": [
    {
     "data": {
      "text/plain": [
       "0.0    7460\n",
       "1.0     981\n",
       "Name: NR.AhR, dtype: int64"
      ]
     },
     "execution_count": 8,
     "metadata": {},
     "output_type": "execute_result"
    }
   ],
   "source": [
    "y.value_counts()"
   ]
  },
  {
   "cell_type": "markdown",
   "metadata": {},
   "source": [
    "To keep the class proportions the same use the stratify parameter: [source](https://stats.stackexchange.com/questions/394056/splitting-into-train-and-test-sets-keeping-class-proportions)"
   ]
  },
  {
   "cell_type": "code",
   "execution_count": 9,
   "metadata": {
    "ExecuteTime": {
     "end_time": "2019-11-27T19:47:59.395616Z",
     "start_time": "2019-11-27T19:47:59.332678Z"
    }
   },
   "outputs": [],
   "source": [
    "x_train, x_val, y_train, y_val = train_test_split(x, y, stratify=y, test_size=0.2, random_state=42)"
   ]
  },
  {
   "cell_type": "code",
   "execution_count": 10,
   "metadata": {
    "ExecuteTime": {
     "end_time": "2019-11-27T19:48:00.202454Z",
     "start_time": "2019-11-27T19:48:00.197135Z"
    },
    "scrolled": true
   },
   "outputs": [
    {
     "data": {
      "text/plain": [
       "0.0    1493\n",
       "1.0     196\n",
       "Name: NR.AhR, dtype: int64"
      ]
     },
     "execution_count": 10,
     "metadata": {},
     "output_type": "execute_result"
    }
   ],
   "source": [
    "y_val.value_counts()"
   ]
  },
  {
   "cell_type": "code",
   "execution_count": 11,
   "metadata": {
    "ExecuteTime": {
     "end_time": "2019-11-27T19:48:01.928567Z",
     "start_time": "2019-11-27T19:48:01.836455Z"
    }
   },
   "outputs": [],
   "source": [
    "ros = RandomOverSampler(random_state=0)\n",
    "x_resampled, y_resampled = ros.fit_sample(x_train,y_train)"
   ]
  },
  {
   "cell_type": "code",
   "execution_count": 12,
   "metadata": {
    "ExecuteTime": {
     "end_time": "2019-11-27T19:48:03.091621Z",
     "start_time": "2019-11-27T19:48:03.082696Z"
    }
   },
   "outputs": [
    {
     "data": {
      "text/plain": [
       "1.0    5967\n",
       "0.0    5967\n",
       "dtype: int64"
      ]
     },
     "execution_count": 12,
     "metadata": {},
     "output_type": "execute_result"
    }
   ],
   "source": [
    "pd.Series(y_resampled).value_counts()"
   ]
  },
  {
   "cell_type": "code",
   "execution_count": 13,
   "metadata": {
    "ExecuteTime": {
     "end_time": "2019-11-27T19:48:03.944007Z",
     "start_time": "2019-11-27T19:48:03.940323Z"
    }
   },
   "outputs": [
    {
     "data": {
      "text/plain": [
       "(11934, 1644)"
      ]
     },
     "execution_count": 13,
     "metadata": {},
     "output_type": "execute_result"
    }
   ],
   "source": [
    "x_resampled.shape"
   ]
  },
  {
   "cell_type": "markdown",
   "metadata": {},
   "source": [
    "# Build Neural Network\n",
    "\n",
    "Following the desciption in section 2.2.4 of the [DeepTox article](https://www.frontiersin.org/articles/10.3389/fenvs.2015.00080/full), I tried to use intermediate values in [Table 2](https://www.frontiersin.org/articles/10.3389/fenvs.2015.00080/full#T2) to build the neural network:"
   ]
  },
  {
   "cell_type": "code",
   "execution_count": 14,
   "metadata": {
    "ExecuteTime": {
     "end_time": "2019-11-27T19:48:07.694056Z",
     "start_time": "2019-11-27T19:48:07.533151Z"
    }
   },
   "outputs": [
    {
     "name": "stdout",
     "output_type": "stream",
     "text": [
      "WARNING:tensorflow:From /Users/sean/anaconda3/envs/metis/lib/python3.7/site-packages/tensorflow/python/framework/op_def_library.py:263: colocate_with (from tensorflow.python.framework.ops) is deprecated and will be removed in a future version.\n",
      "Instructions for updating:\n",
      "Colocations handled automatically by placer.\n",
      "WARNING:tensorflow:From /Users/sean/anaconda3/envs/metis/lib/python3.7/site-packages/keras/backend/tensorflow_backend.py:3733: calling dropout (from tensorflow.python.ops.nn_ops) with keep_prob is deprecated and will be removed in a future version.\n",
      "Instructions for updating:\n",
      "Please use `rate` instead of `keep_prob`. Rate should be set to `rate = 1 - keep_prob`.\n",
      "Model: \"sequential_1\"\n",
      "_________________________________________________________________\n",
      "Layer (type)                 Output Shape              Param #   \n",
      "=================================================================\n",
      "h1_sigmoid_activation (Dense (None, 1024)              1684480   \n",
      "_________________________________________________________________\n",
      "Dropout1 (Dropout)           (None, 1024)              0         \n",
      "_________________________________________________________________\n",
      "h2_sigmoid_activation (Dense (None, 1024)              1049600   \n",
      "_________________________________________________________________\n",
      "Dropout2 (Dropout)           (None, 1024)              0         \n",
      "_________________________________________________________________\n",
      "h3_sigmoid_activation (Dense (None, 1024)              1049600   \n",
      "_________________________________________________________________\n",
      "Dropout3 (Dropout)           (None, 1024)              0         \n",
      "_________________________________________________________________\n",
      "dense_1 (Dense)              (None, 1)                 1025      \n",
      "=================================================================\n",
      "Total params: 3,784,705\n",
      "Trainable params: 3,784,705\n",
      "Non-trainable params: 0\n",
      "_________________________________________________________________\n"
     ]
    }
   ],
   "source": [
    "drop_out=0.5\n",
    "L2_reg = 0.0001\n",
    "model = keras.Sequential([\n",
    "    keras.layers.InputLayer(input_shape=x.shape[1:],name='Input_Layer'),\n",
    "    keras.layers.Dense(units=1024, activation=\"sigmoid\",name='h1_sigmoid_activation',\\\n",
    "                       kernel_regularizer=keras.regularizers.l2(L2_reg)),\n",
    "    keras.layers.Dropout(rate=drop_out,name='Dropout1'),\n",
    "    keras.layers.Dense(units=1024, activation=\"sigmoid\",name='h2_sigmoid_activation',\\\n",
    "                       kernel_regularizer=keras.regularizers.l2(L2_reg)),\n",
    "    keras.layers.Dropout(rate=drop_out,name='Dropout2'),\n",
    "    keras.layers.Dense(units=1024, activation=\"sigmoid\",name='h3_sigmoid_activation',\\\n",
    "                       kernel_regularizer=keras.regularizers.l2(L2_reg)),\n",
    "    keras.layers.Dropout(rate=drop_out,name='Dropout3'),\n",
    "    keras.layers.Dense(units=1, activation='sigmoid')\n",
    "])\n",
    "keras.optimizers.Adam(lr=0.1, beta_1=0.9, beta_2=0.999, amsgrad=False)\n",
    "model.compile(optimizer='adam', loss='binary_crossentropy', metrics=['accuracy'])\n",
    "model.summary()"
   ]
  },
  {
   "cell_type": "code",
   "execution_count": 15,
   "metadata": {
    "ExecuteTime": {
     "end_time": "2019-11-27T19:49:56.932858Z",
     "start_time": "2019-11-27T19:48:09.332419Z"
    },
    "scrolled": true
   },
   "outputs": [
    {
     "name": "stdout",
     "output_type": "stream",
     "text": [
      "WARNING:tensorflow:From /Users/sean/anaconda3/envs/metis/lib/python3.7/site-packages/tensorflow/python/ops/math_ops.py:3066: to_int32 (from tensorflow.python.ops.math_ops) is deprecated and will be removed in a future version.\n",
      "Instructions for updating:\n",
      "Use tf.cast instead.\n",
      "Train on 11934 samples, validate on 1689 samples\n",
      "Epoch 1/100\n",
      "11934/11934 [==============================] - 3s 244us/step - loss: 1.1704 - acc: 0.5277 - val_loss: 1.0746 - val_acc: 0.2439\n",
      "Epoch 2/100\n",
      "11934/11934 [==============================] - 2s 193us/step - loss: 0.8771 - acc: 0.5891 - val_loss: 0.7468 - val_acc: 0.7010\n",
      "Epoch 3/100\n",
      "11934/11934 [==============================] - 2s 203us/step - loss: 0.7863 - acc: 0.6641 - val_loss: 0.7422 - val_acc: 0.6720\n",
      "Epoch 4/100\n",
      "11934/11934 [==============================] - 3s 217us/step - loss: 0.7497 - acc: 0.6831 - val_loss: 0.6978 - val_acc: 0.6832\n",
      "Epoch 5/100\n",
      "11934/11934 [==============================] - 3s 221us/step - loss: 0.7361 - acc: 0.6931 - val_loss: 0.7328 - val_acc: 0.6732\n",
      "Epoch 6/100\n",
      "11934/11934 [==============================] - 3s 227us/step - loss: 0.7263 - acc: 0.6905 - val_loss: 0.7550 - val_acc: 0.6844\n",
      "Epoch 7/100\n",
      "11934/11934 [==============================] - 3s 222us/step - loss: 0.7036 - acc: 0.7019 - val_loss: 0.6872 - val_acc: 0.6980\n",
      "Epoch 8/100\n",
      "11934/11934 [==============================] - 3s 228us/step - loss: 0.6868 - acc: 0.7107 - val_loss: 0.7628 - val_acc: 0.5684\n",
      "Epoch 9/100\n",
      "11934/11934 [==============================] - 3s 227us/step - loss: 0.6930 - acc: 0.7010 - val_loss: 0.6657 - val_acc: 0.7140\n",
      "Epoch 10/100\n",
      "11934/11934 [==============================] - 3s 222us/step - loss: 0.6737 - acc: 0.7112 - val_loss: 0.5963 - val_acc: 0.8058\n",
      "Epoch 11/100\n",
      "11934/11934 [==============================] - 3s 224us/step - loss: 0.6635 - acc: 0.7124 - val_loss: 0.5918 - val_acc: 0.7691\n",
      "Epoch 12/100\n",
      "11934/11934 [==============================] - 3s 226us/step - loss: 0.6549 - acc: 0.7159 - val_loss: 0.6487 - val_acc: 0.6513\n",
      "Epoch 13/100\n",
      "11934/11934 [==============================] - 3s 253us/step - loss: 0.6483 - acc: 0.7194 - val_loss: 0.7319 - val_acc: 0.5998\n",
      "Epoch 14/100\n",
      "11934/11934 [==============================] - 3s 229us/step - loss: 0.6391 - acc: 0.7260 - val_loss: 0.6198 - val_acc: 0.7792\n",
      "\n",
      "Epoch 00014: ReduceLROnPlateau reducing learning rate to 0.0005000000237487257.\n",
      "Epoch 15/100\n",
      "11934/11934 [==============================] - 3s 232us/step - loss: 0.6283 - acc: 0.7288 - val_loss: 0.5996 - val_acc: 0.7596\n",
      "Epoch 16/100\n",
      "11934/11934 [==============================] - 3s 225us/step - loss: 0.6139 - acc: 0.7398 - val_loss: 0.5648 - val_acc: 0.7999\n",
      "Epoch 17/100\n",
      "11934/11934 [==============================] - 3s 233us/step - loss: 0.5967 - acc: 0.7506 - val_loss: 0.5376 - val_acc: 0.8159\n",
      "Epoch 18/100\n",
      "11934/11934 [==============================] - 3s 223us/step - loss: 0.5985 - acc: 0.7479 - val_loss: 0.5713 - val_acc: 0.7886\n",
      "Epoch 19/100\n",
      "11934/11934 [==============================] - 3s 235us/step - loss: 0.5957 - acc: 0.7517 - val_loss: 0.5315 - val_acc: 0.8117\n",
      "Epoch 20/100\n",
      "11934/11934 [==============================] - 3s 236us/step - loss: 0.5946 - acc: 0.7464 - val_loss: 0.5282 - val_acc: 0.8123\n",
      "Epoch 21/100\n",
      "11934/11934 [==============================] - 3s 236us/step - loss: 0.5928 - acc: 0.7456 - val_loss: 0.5112 - val_acc: 0.8200\n",
      "Epoch 22/100\n",
      "11934/11934 [==============================] - 3s 225us/step - loss: 0.5823 - acc: 0.7542 - val_loss: 0.5575 - val_acc: 0.7454\n",
      "Epoch 23/100\n",
      "11934/11934 [==============================] - 3s 230us/step - loss: 0.5805 - acc: 0.7552 - val_loss: 0.5724 - val_acc: 0.7253\n",
      "Epoch 24/100\n",
      "11934/11934 [==============================] - 3s 230us/step - loss: 0.5795 - acc: 0.7533 - val_loss: 0.4831 - val_acc: 0.8348\n",
      "Epoch 25/100\n",
      "11934/11934 [==============================] - 3s 228us/step - loss: 0.5772 - acc: 0.7506 - val_loss: 0.5274 - val_acc: 0.7590\n",
      "Epoch 26/100\n",
      "11934/11934 [==============================] - 3s 234us/step - loss: 0.5748 - acc: 0.7522 - val_loss: 0.5207 - val_acc: 0.8171\n",
      "Epoch 27/100\n",
      "11934/11934 [==============================] - 3s 229us/step - loss: 0.5730 - acc: 0.7552 - val_loss: 0.5311 - val_acc: 0.7969\n",
      "\n",
      "Epoch 00027: ReduceLROnPlateau reducing learning rate to 0.0002500000118743628.\n",
      "Epoch 28/100\n",
      "11934/11934 [==============================] - 3s 229us/step - loss: 0.5643 - acc: 0.7583 - val_loss: 0.5762 - val_acc: 0.7501\n",
      "Epoch 29/100\n",
      "11934/11934 [==============================] - 3s 228us/step - loss: 0.5589 - acc: 0.7643 - val_loss: 0.5679 - val_acc: 0.7353\n",
      "Epoch 30/100\n",
      "11934/11934 [==============================] - 3s 221us/step - loss: 0.5498 - acc: 0.7648 - val_loss: 0.5398 - val_acc: 0.8058\n",
      "\n",
      "Epoch 00030: ReduceLROnPlateau reducing learning rate to 0.0001250000059371814.\n",
      "Epoch 31/100\n",
      "11934/11934 [==============================] - 3s 224us/step - loss: 0.5401 - acc: 0.7731 - val_loss: 0.5175 - val_acc: 0.8135\n",
      "Epoch 32/100\n",
      "11934/11934 [==============================] - 3s 219us/step - loss: 0.5378 - acc: 0.7714 - val_loss: 0.5196 - val_acc: 0.8153\n",
      "Epoch 33/100\n",
      "11934/11934 [==============================] - 3s 224us/step - loss: 0.5346 - acc: 0.7727 - val_loss: 0.5252 - val_acc: 0.7928\n",
      "\n",
      "Epoch 00033: ReduceLROnPlateau reducing learning rate to 6.25000029685907e-05.\n",
      "Epoch 34/100\n",
      "11934/11934 [==============================] - 3s 213us/step - loss: 0.5301 - acc: 0.7722 - val_loss: 0.5227 - val_acc: 0.8111\n",
      "Epoch 35/100\n",
      "11934/11934 [==============================] - 3s 213us/step - loss: 0.5278 - acc: 0.7765 - val_loss: 0.5150 - val_acc: 0.8094\n",
      "Epoch 36/100\n",
      "11934/11934 [==============================] - 3s 214us/step - loss: 0.5298 - acc: 0.7759 - val_loss: 0.4921 - val_acc: 0.8307\n",
      "\n",
      "Epoch 00036: ReduceLROnPlateau reducing learning rate to 3.125000148429535e-05.\n",
      "Epoch 37/100\n",
      "11934/11934 [==============================] - 2s 209us/step - loss: 0.5246 - acc: 0.7805 - val_loss: 0.5098 - val_acc: 0.8295\n",
      "Epoch 38/100\n",
      "11934/11934 [==============================] - 3s 214us/step - loss: 0.5191 - acc: 0.7816 - val_loss: 0.5041 - val_acc: 0.8253\n",
      "Epoch 39/100\n",
      "11934/11934 [==============================] - 3s 210us/step - loss: 0.5242 - acc: 0.7774 - val_loss: 0.5225 - val_acc: 0.8082\n",
      "\n",
      "Epoch 00039: ReduceLROnPlateau reducing learning rate to 1.5625000742147677e-05.\n",
      "Epoch 40/100\n",
      "11934/11934 [==============================] - 3s 213us/step - loss: 0.5167 - acc: 0.7818 - val_loss: 0.5095 - val_acc: 0.8230\n",
      "Restoring model weights from the end of the best epoch\n",
      "Epoch 00040: early stopping\n"
     ]
    },
    {
     "data": {
      "text/plain": [
       "<keras.callbacks.History at 0x12c8c6fd0>"
      ]
     },
     "execution_count": 15,
     "metadata": {},
     "output_type": "execute_result"
    }
   ],
   "source": [
    "model.fit(\n",
    "    x_resampled, y_resampled, batch_size=512, epochs=100,\\\n",
    "    validation_data=(x_val,y_val), verbose=1,\n",
    "    callbacks=[\n",
    "        keras.callbacks.EarlyStopping(patience=16,verbose=1, restore_best_weights=True),\n",
    "        keras.callbacks.ReduceLROnPlateau(factor=0.5,patience=3,verbose=1)\n",
    "    ])"
   ]
  },
  {
   "cell_type": "code",
   "execution_count": 16,
   "metadata": {
    "ExecuteTime": {
     "end_time": "2019-11-27T19:50:02.317889Z",
     "start_time": "2019-11-27T19:50:02.199660Z"
    }
   },
   "outputs": [
    {
     "name": "stdout",
     "output_type": "stream",
     "text": [
      "         NR.AhR: 0.85718\n"
     ]
    }
   ],
   "source": [
    "auc_te = roc_auc_score(y_te[target][rows_te], model.predict(x_te[rows_te]))\n",
    "print(\"%15s: %3.5f\" % (target, auc_te))"
   ]
  },
  {
   "cell_type": "code",
   "execution_count": 17,
   "metadata": {
    "ExecuteTime": {
     "end_time": "2019-11-27T19:50:03.949985Z",
     "start_time": "2019-11-27T19:50:03.879881Z"
    }
   },
   "outputs": [],
   "source": [
    "y_testing=y_te[target][~np.isnan(y_te[target])]\n",
    "y_hat_testing=model.predict_classes(x_te[rows_te])"
   ]
  },
  {
   "cell_type": "code",
   "execution_count": 18,
   "metadata": {
    "ExecuteTime": {
     "end_time": "2019-11-27T19:50:06.189989Z",
     "start_time": "2019-11-27T19:50:06.184305Z"
    },
    "scrolled": true
   },
   "outputs": [
    {
     "data": {
      "text/plain": [
       "array([[443,  94],\n",
       "       [ 21,  52]])"
      ]
     },
     "execution_count": 18,
     "metadata": {},
     "output_type": "execute_result"
    }
   ],
   "source": [
    "confusion_matrix(y_testing,y_hat_testing)"
   ]
  },
  {
   "cell_type": "code",
   "execution_count": 19,
   "metadata": {
    "ExecuteTime": {
     "end_time": "2019-11-27T19:50:07.535255Z",
     "start_time": "2019-11-27T19:50:07.528863Z"
    }
   },
   "outputs": [
    {
     "data": {
      "text/plain": [
       "0.3561643835616438"
      ]
     },
     "execution_count": 19,
     "metadata": {},
     "output_type": "execute_result"
    }
   ],
   "source": [
    "precision_score(y_testing,y_hat_testing)"
   ]
  },
  {
   "cell_type": "code",
   "execution_count": 20,
   "metadata": {
    "ExecuteTime": {
     "end_time": "2019-11-27T19:50:12.326654Z",
     "start_time": "2019-11-27T19:50:12.320424Z"
    }
   },
   "outputs": [
    {
     "data": {
      "text/plain": [
       "0.7123287671232876"
      ]
     },
     "execution_count": 20,
     "metadata": {},
     "output_type": "execute_result"
    }
   ],
   "source": [
    "recall_score(y_testing,y_hat_testing)"
   ]
  },
  {
   "cell_type": "code",
   "execution_count": 21,
   "metadata": {
    "ExecuteTime": {
     "end_time": "2019-11-27T19:50:13.845778Z",
     "start_time": "2019-11-27T19:50:13.840049Z"
    }
   },
   "outputs": [
    {
     "data": {
      "text/plain": [
       "0.47488584474885853"
      ]
     },
     "execution_count": 21,
     "metadata": {},
     "output_type": "execute_result"
    }
   ],
   "source": [
    "f1_score(y_testing,y_hat_testing)"
   ]
  },
  {
   "cell_type": "code",
   "execution_count": 22,
   "metadata": {
    "ExecuteTime": {
     "end_time": "2019-11-27T19:50:14.567252Z",
     "start_time": "2019-11-27T19:50:14.560065Z"
    }
   },
   "outputs": [
    {
     "data": {
      "text/plain": [
       "0.0    537\n",
       "1.0     73\n",
       "Name: NR.AhR, dtype: int64"
      ]
     },
     "execution_count": 22,
     "metadata": {},
     "output_type": "execute_result"
    }
   ],
   "source": [
    "y_te[target][rows_te].value_counts()"
   ]
  },
  {
   "cell_type": "code",
   "execution_count": 23,
   "metadata": {
    "ExecuteTime": {
     "end_time": "2019-11-27T19:50:59.082271Z",
     "start_time": "2019-11-27T19:50:59.078799Z"
    }
   },
   "outputs": [
    {
     "data": {
      "text/plain": [
       "0.8803278688524591"
      ]
     },
     "execution_count": 23,
     "metadata": {},
     "output_type": "execute_result"
    }
   ],
   "source": [
    "537/(537+73)"
   ]
  },
  {
   "cell_type": "markdown",
   "metadata": {},
   "source": [
    "Uncomment to save model.  Last ROC_UAC = 0.85897"
   ]
  },
  {
   "cell_type": "code",
   "execution_count": null,
   "metadata": {
    "ExecuteTime": {
     "end_time": "2019-11-26T01:13:52.345174Z",
     "start_time": "2019-11-26T01:13:52.140541Z"
    }
   },
   "outputs": [],
   "source": [
    "# model.save('./models/saves/first_model.h5')"
   ]
  },
  {
   "cell_type": "code",
   "execution_count": null,
   "metadata": {},
   "outputs": [],
   "source": []
  }
 ],
 "metadata": {
  "kernelspec": {
   "display_name": "Python [conda env:metis] *",
   "language": "python",
   "name": "conda-env-metis-py"
  },
  "language_info": {
   "codemirror_mode": {
    "name": "ipython",
    "version": 3
   },
   "file_extension": ".py",
   "mimetype": "text/x-python",
   "name": "python",
   "nbconvert_exporter": "python",
   "pygments_lexer": "ipython3",
   "version": "3.7.3"
  },
  "toc": {
   "base_numbering": 1,
   "nav_menu": {},
   "number_sections": true,
   "sideBar": true,
   "skip_h1_title": false,
   "title_cell": "Table of Contents",
   "title_sidebar": "Contents",
   "toc_cell": false,
   "toc_position": {},
   "toc_section_display": true,
   "toc_window_display": false
  }
 },
 "nbformat": 4,
 "nbformat_minor": 2
}
