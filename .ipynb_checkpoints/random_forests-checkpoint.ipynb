{
 "cells": [
  {
   "cell_type": "markdown",
   "metadata": {},
   "source": [
    "# Optimized Random Forest"
   ]
  },
  {
   "cell_type": "markdown",
   "metadata": {},
   "source": [
    "## Import libraries"
   ]
  },
  {
   "cell_type": "code",
   "execution_count": 1,
   "metadata": {
    "ExecuteTime": {
     "end_time": "2019-12-01T05:38:27.430241Z",
     "start_time": "2019-12-01T05:38:25.780754Z"
    }
   },
   "outputs": [],
   "source": [
    "# make sure  numpy, scipy, pandas, sklearn are installed, otherwise run\n",
    "# pip install numpy scipy pandas scikit-learn\n",
    "import numpy as np\n",
    "import pandas as pd\n",
    "from scipy import io\n",
    "from src.helper_functions import load_data\n",
    "from sklearn.ensemble import RandomForestClassifier\n",
    "from sklearn.metrics import roc_auc_score, confusion_matrix, f1_score,\\\n",
    "                            precision_score, recall_score, accuracy_score,\\\n",
    "                            average_precision_score, precision_recall_curve\n",
    "import matplotlib.pyplot as plt\n",
    "%matplotlib inline"
   ]
  },
  {
   "cell_type": "markdown",
   "metadata": {},
   "source": [
    "## Import Data"
   ]
  },
  {
   "cell_type": "code",
   "execution_count": 2,
   "metadata": {
    "ExecuteTime": {
     "end_time": "2019-12-01T06:12:34.152798Z",
     "start_time": "2019-12-01T06:12:22.739404Z"
    }
   },
   "outputs": [],
   "source": [
    "x_tr, y_tr, x_te, y_te = load_data()"
   ]
  },
  {
   "cell_type": "code",
   "execution_count": 15,
   "metadata": {
    "ExecuteTime": {
     "end_time": "2019-12-01T06:31:22.256920Z",
     "start_time": "2019-12-01T06:31:22.252822Z"
    }
   },
   "outputs": [
    {
     "data": {
      "text/plain": [
       "Index(['NR.AhR', 'NR.AR', 'NR.AR.LBD', 'NR.Aromatase', 'NR.ER', 'NR.ER.LBD',\n",
       "       'NR.PPAR.gamma', 'SR.ARE', 'SR.ATAD5', 'SR.HSE', 'SR.MMP', 'SR.p53'],\n",
       "      dtype='object')"
      ]
     },
     "execution_count": 15,
     "metadata": {},
     "output_type": "execute_result"
    }
   ],
   "source": [
    "y_tr.columns"
   ]
  },
  {
   "cell_type": "markdown",
   "metadata": {},
   "source": [
    "# Helper Functions"
   ]
  },
  {
   "cell_type": "code",
   "execution_count": 22,
   "metadata": {
    "ExecuteTime": {
     "end_time": "2019-12-01T06:44:27.786971Z",
     "start_time": "2019-12-01T06:44:27.784473Z"
    }
   },
   "outputs": [],
   "source": [
    "import os"
   ]
  },
  {
   "cell_type": "code",
   "execution_count": 158,
   "metadata": {
    "ExecuteTime": {
     "end_time": "2019-12-01T09:16:46.591240Z",
     "start_time": "2019-12-01T09:16:46.588537Z"
    }
   },
   "outputs": [],
   "source": [
    "def get_model_path(target):\n",
    "    return './models/'+target.replace('.','_')"
   ]
  },
  {
   "cell_type": "code",
   "execution_count": 62,
   "metadata": {
    "ExecuteTime": {
     "end_time": "2019-12-01T08:04:06.753549Z",
     "start_time": "2019-12-01T08:04:06.750084Z"
    }
   },
   "outputs": [],
   "source": [
    "def init_model_perfs():\n",
    "    cols=['model','threshold','accuracy','precision','recall','f1',\\\n",
    "          'auc_roc','avg_precision','confusion_matrix','model_filename']\n",
    "    df=pd.DataFrame(columns=cols)\n",
    "    return df"
   ]
  },
  {
   "cell_type": "code",
   "execution_count": 194,
   "metadata": {
    "ExecuteTime": {
     "end_time": "2019-12-01T09:45:49.216528Z",
     "start_time": "2019-12-01T09:45:49.212856Z"
    }
   },
   "outputs": [],
   "source": [
    "def get_model_perfs(target):\n",
    "    path=get_model_path(target)+'.pkl'\n",
    "    if os.path.exists(path):\n",
    "        df = pd.read_pickle(path)\n",
    "    else:\n",
    "        df = init_model_perfs()\n",
    "    return df"
   ]
  },
  {
   "cell_type": "code",
   "execution_count": 196,
   "metadata": {
    "ExecuteTime": {
     "end_time": "2019-12-01T09:46:13.313453Z",
     "start_time": "2019-12-01T09:46:13.309197Z"
    }
   },
   "outputs": [],
   "source": [
    "def save_model_perfs(target, df=None):\n",
    "    path=get_model_path(target)+'.pkl'\n",
    "    if os.path.exists(path):  # Rename existing file if one exists.\n",
    "        os.rename(path,path[:-3]+'old')  # Previous 'old' file gets overwriten!\n",
    "    if df is None:\n",
    "        df = init_model_perfs()\n",
    "    df.to_pickle(path)\n",
    "    return"
   ]
  },
  {
   "cell_type": "code",
   "execution_count": 197,
   "metadata": {
    "ExecuteTime": {
     "end_time": "2019-12-01T09:46:27.375516Z",
     "start_time": "2019-12-01T09:46:27.370604Z"
    }
   },
   "outputs": [],
   "source": [
    "def check_is_best(target, metric_vals):\n",
    "    if metric_vals is None:\n",
    "        return False\n",
    "    df = get_model_perfs(target)\n",
    "    if len(df)==0:\n",
    "        # No results for this target have been saved yet.\n",
    "        return True\n",
    "    # Get only the results for the model that metric_vals has results for. \n",
    "    model_df = df[df['model']==metric_vals['model']]\n",
    "    if len(model_df)==0:\n",
    "        # No results for this model have been saved yet.\n",
    "        return True\n",
    "    isBest = (metric_vals['f1'] > model_df['f1'].max()) or \\\n",
    "             (metric_vals['auc_roc'] > model_df['auc_roc'].max())\n",
    "    return isBest"
   ]
  },
  {
   "cell_type": "code",
   "execution_count": 175,
   "metadata": {
    "ExecuteTime": {
     "end_time": "2019-12-01T09:36:00.562855Z",
     "start_time": "2019-12-01T09:36:00.560182Z"
    }
   },
   "outputs": [],
   "source": [
    "from joblib import dump, load"
   ]
  },
  {
   "cell_type": "code",
   "execution_count": 213,
   "metadata": {
    "ExecuteTime": {
     "end_time": "2019-12-01T10:06:04.666099Z",
     "start_time": "2019-12-01T10:06:04.660974Z"
    }
   },
   "outputs": [],
   "source": [
    "def save_model(target, model_name, model):\n",
    "    \"\"\" Saves the fitted model object in a folder named target in the models folder.\n",
    "    -----\n",
    "    inputs:\n",
    "        target: string identifying the toxicity measure\n",
    "        model_name: string that describes the model\n",
    "        model: python model object\n",
    "    returns:\n",
    "        filename(s): string, if a single file, of the filename of the saved model object.\n",
    "                     list of filename strings if more than one file was saved.\n",
    "    \"\"\"\n",
    "    path = get_model_path(target)+'/'\n",
    "    # Verify the path of the folder of models exists, create it if not.\n",
    "    if not os.path.isdir(path):\n",
    "        os.mkdir(path)\n",
    "    # Figure out the next filename to use:\n",
    "    i = 0\n",
    "    while os.path.exists(path+model_name+'%s.joblib' % i):\n",
    "        i += 1\n",
    "    # use joblib to store the model object per sklearn documentation.\n",
    "    # https://scikit-learn.org/stable/modules/model_persistence.html\n",
    "    filename = dump(model, os.path.join(path,model_name+'%s.joblib' % i))\n",
    "    if len(filename)==1:\n",
    "        filename=filename[0]\n",
    "    return str(filename).replace(path,'')"
   ]
  },
  {
   "cell_type": "code",
   "execution_count": 75,
   "metadata": {
    "ExecuteTime": {
     "end_time": "2019-12-01T08:15:42.801570Z",
     "start_time": "2019-12-01T08:15:42.797132Z"
    }
   },
   "outputs": [],
   "source": [
    "def evaluate_model_predictions(target, model_name, threshold, y_test, y_hat_test, auc_roc, AP):\n",
    "    \"\"\"\n",
    "    \"\"\"\n",
    "    metric_vals = pd.Series({'model'           :model_name,\n",
    "                             'threshold'       :threshold,\n",
    "                             'accuracy'        :accuracy_score(y_testing,y_hat_test),\n",
    "                             'precision'       :precision_score(y_testing,y_hat_test),\n",
    "                             'recall'          :recall_score(y_testing,y_hat_test),\n",
    "                             'f1'              :f1_score(y_testing,y_hat_test),\n",
    "                             'auc_roc'         :auc_roc,\n",
    "                             'avg_precision'   :AP,\n",
    "                             'confusion_matrix':confusion_matrix(y_testing,y_hat_test)})\n",
    "    return metric_vals"
   ]
  },
  {
   "cell_type": "code",
   "execution_count": 238,
   "metadata": {
    "ExecuteTime": {
     "end_time": "2019-12-01T10:31:58.978154Z",
     "start_time": "2019-12-01T10:31:58.974478Z"
    }
   },
   "outputs": [],
   "source": [
    "def update_model_perfs(target, df, metric_vals, model):\n",
    "    filename=save_model(target,metric_vals['model'],model)\n",
    "    df=df.append(metric_vals,ignore_index=True)\n",
    "    df.loc[len(df)-1,'model_filename']=filename\n",
    "    return df"
   ]
  },
  {
   "cell_type": "markdown",
   "metadata": {},
   "source": [
    "## Pilot Use of Helper Functions"
   ]
  },
  {
   "cell_type": "code",
   "execution_count": 250,
   "metadata": {
    "ExecuteTime": {
     "end_time": "2019-12-01T10:44:04.756580Z",
     "start_time": "2019-12-01T10:44:04.745265Z"
    }
   },
   "outputs": [
    {
     "data": {
      "text/html": [
       "<div>\n",
       "<style scoped>\n",
       "    .dataframe tbody tr th:only-of-type {\n",
       "        vertical-align: middle;\n",
       "    }\n",
       "\n",
       "    .dataframe tbody tr th {\n",
       "        vertical-align: top;\n",
       "    }\n",
       "\n",
       "    .dataframe thead th {\n",
       "        text-align: right;\n",
       "    }\n",
       "</style>\n",
       "<table border=\"1\" class=\"dataframe\">\n",
       "  <thead>\n",
       "    <tr style=\"text-align: right;\">\n",
       "      <th></th>\n",
       "      <th>model</th>\n",
       "      <th>threshold</th>\n",
       "      <th>accuracy</th>\n",
       "      <th>precision</th>\n",
       "      <th>recall</th>\n",
       "      <th>f1</th>\n",
       "      <th>auc_roc</th>\n",
       "      <th>avg_precision</th>\n",
       "      <th>confusion_matrix</th>\n",
       "      <th>model_filename</th>\n",
       "    </tr>\n",
       "  </thead>\n",
       "  <tbody>\n",
       "    <tr>\n",
       "      <td>0</td>\n",
       "      <td>RF</td>\n",
       "      <td>0.5</td>\n",
       "      <td>0.911475</td>\n",
       "      <td>0.756757</td>\n",
       "      <td>0.383562</td>\n",
       "      <td>0.509091</td>\n",
       "      <td>0.905028</td>\n",
       "      <td>0.602102</td>\n",
       "      <td>[[528, 9], [45, 28]]</td>\n",
       "      <td>RF0.joblib</td>\n",
       "    </tr>\n",
       "  </tbody>\n",
       "</table>\n",
       "</div>"
      ],
      "text/plain": [
       "  model  threshold  accuracy  precision    recall        f1   auc_roc  \\\n",
       "0    RF        0.5  0.911475   0.756757  0.383562  0.509091  0.905028   \n",
       "\n",
       "   avg_precision      confusion_matrix model_filename  \n",
       "0       0.602102  [[528, 9], [45, 28]]     RF0.joblib  "
      ]
     },
     "execution_count": 250,
     "metadata": {},
     "output_type": "execute_result"
    }
   ],
   "source": [
    "get_model_perfs(y_tr.columns[0])"
   ]
  },
  {
   "cell_type": "markdown",
   "metadata": {},
   "source": [
    "The cell below requires results from cells further down.  To run the cell reinitialize must be set to True."
   ]
  },
  {
   "cell_type": "code",
   "execution_count": 253,
   "metadata": {
    "ExecuteTime": {
     "end_time": "2019-12-01T10:52:42.276256Z",
     "start_time": "2019-12-01T10:52:42.262397Z"
    }
   },
   "outputs": [
    {
     "name": "stdout",
     "output_type": "stream",
     "text": [
      "Data stored for target:  NR.AhR\n"
     ]
    },
    {
     "data": {
      "text/html": [
       "<div>\n",
       "<style scoped>\n",
       "    .dataframe tbody tr th:only-of-type {\n",
       "        vertical-align: middle;\n",
       "    }\n",
       "\n",
       "    .dataframe tbody tr th {\n",
       "        vertical-align: top;\n",
       "    }\n",
       "\n",
       "    .dataframe thead th {\n",
       "        text-align: right;\n",
       "    }\n",
       "</style>\n",
       "<table border=\"1\" class=\"dataframe\">\n",
       "  <thead>\n",
       "    <tr style=\"text-align: right;\">\n",
       "      <th></th>\n",
       "      <th>model</th>\n",
       "      <th>threshold</th>\n",
       "      <th>accuracy</th>\n",
       "      <th>precision</th>\n",
       "      <th>recall</th>\n",
       "      <th>f1</th>\n",
       "      <th>auc_roc</th>\n",
       "      <th>avg_precision</th>\n",
       "      <th>confusion_matrix</th>\n",
       "      <th>model_filename</th>\n",
       "    </tr>\n",
       "  </thead>\n",
       "  <tbody>\n",
       "    <tr>\n",
       "      <td>0</td>\n",
       "      <td>RF</td>\n",
       "      <td>0.5</td>\n",
       "      <td>0.911475</td>\n",
       "      <td>0.756757</td>\n",
       "      <td>0.383562</td>\n",
       "      <td>0.509091</td>\n",
       "      <td>0.905028</td>\n",
       "      <td>0.602102</td>\n",
       "      <td>[[528, 9], [45, 28]]</td>\n",
       "      <td>RF0.joblib</td>\n",
       "    </tr>\n",
       "  </tbody>\n",
       "</table>\n",
       "</div>"
      ],
      "text/plain": [
       "  model  threshold  accuracy  precision    recall        f1   auc_roc  \\\n",
       "0    RF        0.5  0.911475   0.756757  0.383562  0.509091  0.905028   \n",
       "\n",
       "   avg_precision      confusion_matrix model_filename  \n",
       "0       0.602102  [[528, 9], [45, 28]]     RF0.joblib  "
      ]
     },
     "execution_count": 253,
     "metadata": {},
     "output_type": "execute_result"
    }
   ],
   "source": [
    "reinitialize=False\n",
    "target=y_tr.columns[0]\n",
    "if reinitialize:\n",
    "    df=init_model_perfs()\n",
    "    mv=evaluate_model_predictions(target,'RF',0.5,y_testing,y_hat_testing,auc_te,average_precision)\n",
    "    if check_is_best(target,mv):\n",
    "        df=update_model_perfs(target,df,mv,rf)\n",
    "        save_model_perfs(target,df)\n",
    "print('Data stored for target: ',target)\n",
    "get_model_perfs(target)"
   ]
  },
  {
   "cell_type": "markdown",
   "metadata": {},
   "source": [
    "# Fit Models"
   ]
  },
  {
   "cell_type": "code",
   "execution_count": 3,
   "metadata": {
    "ExecuteTime": {
     "end_time": "2019-12-01T06:20:30.919218Z",
     "start_time": "2019-12-01T06:20:27.599515Z"
    }
   },
   "outputs": [
    {
     "name": "stdout",
     "output_type": "stream",
     "text": [
      "         NR.AhR: 0.90503\n"
     ]
    }
   ],
   "source": [
    "# Build a random forest model for all twelve assays\n",
    "for target in y_tr.columns[:1]:\n",
    "    rows_tr = np.isfinite(y_tr[target]).values\n",
    "    rows_te = np.isfinite(y_te[target]).values\n",
    "    rf = RandomForestClassifier(n_estimators=100,  n_jobs=4)\n",
    "    rf.fit(x_tr[rows_tr], y_tr[target][rows_tr])\n",
    "    p_te = rf.predict_proba(x_te[rows_te])\n",
    "    auc_te = roc_auc_score(y_te[target][rows_te], p_te[:, 1])\n",
    "    print(\"%15s: %3.5f\" % (target, auc_te))"
   ]
  },
  {
   "cell_type": "code",
   "execution_count": 4,
   "metadata": {
    "ExecuteTime": {
     "end_time": "2019-12-01T06:20:33.453110Z",
     "start_time": "2019-12-01T06:20:33.323581Z"
    },
    "scrolled": true
   },
   "outputs": [
    {
     "name": "stdout",
     "output_type": "stream",
     "text": [
      "[['TN' 'FP']\n",
      " ['FN' 'TP']]\n",
      "[[528   9]\n",
      " [ 45  28]]\n",
      "f1: 0.50909\n",
      "recall: 0.38356\n",
      "precision: 0.75676\n",
      "accuracy: 0.91148\n"
     ]
    }
   ],
   "source": [
    "y_testing=y_te[target][~np.isnan(y_te[target])]\n",
    "y_hat_testing=rf.predict(x_te[rows_te])\n",
    "print(np.array([['TN','FP'],['FN','TP']]))\n",
    "print(confusion_matrix(y_testing,y_hat_testing))\n",
    "print('f1: {0:0.5f}'.format(f1_score(y_testing,y_hat_testing)))\n",
    "print('recall: {0:0.5f}'.format(recall_score(y_testing,y_hat_testing)))\n",
    "print('precision: {0:0.5f}'.format(precision_score(y_testing,y_hat_testing)))\n",
    "print('accuracy: {0:0.5f}'.format(accuracy_score(y_testing,y_hat_testing)))"
   ]
  },
  {
   "cell_type": "markdown",
   "metadata": {},
   "source": [
    "# Precision-Recall Curve as an Alternative Metric\n",
    "Note: ROC curves can be misleading for strongly imbalanced data sets.<sup>[1](https://classeval.wordpress.com/simulation-analysis/roc-and-precision-recall-with-imbalanced-datasets/), [2](https://machinelearningmastery.com/roc-curves-and-precision-recall-curves-for-classification-in-python/), [3](https://scikit-learn.org/stable/modules/model_evaluation.html#precision-recall-f-measure-metrics), [4](https://stats.stackexchange.com/questions/90779/area-under-the-roc-curve-or-area-under-the-pr-curve-for-imbalanced-data)</sup>"
   ]
  },
  {
   "cell_type": "code",
   "execution_count": 5,
   "metadata": {
    "ExecuteTime": {
     "end_time": "2019-12-01T06:20:36.749520Z",
     "start_time": "2019-12-01T06:20:36.743190Z"
    }
   },
   "outputs": [
    {
     "name": "stdout",
     "output_type": "stream",
     "text": [
      "Precision-Recall Curve \"Average Precision\": 0.6021\n"
     ]
    }
   ],
   "source": [
    "average_precision=average_precision_score(y_te[target][rows_te],p_te[:, 1])\n",
    "print('Precision-Recall Curve \"Average Precision\": %0.4f' %average_precision)"
   ]
  },
  {
   "cell_type": "code",
   "execution_count": 6,
   "metadata": {
    "ExecuteTime": {
     "end_time": "2019-12-01T06:20:38.879744Z",
     "start_time": "2019-12-01T06:20:38.498721Z"
    },
    "scrolled": true
   },
   "outputs": [
    {
     "name": "stdout",
     "output_type": "stream",
     "text": [
      "Max F1: 0.57522, threshold prob: 0.23500\n",
      "Max F1 Precision: 0.42484, Recall: 0.89041\n"
     ]
    },
    {
     "data": {
      "image/png": "[encoded data removed]",
      "text/plain": [
       "<Figure size 432x288 with 1 Axes>"
      ]
     },
     "metadata": {
      "needs_background": "light"
     },
     "output_type": "display_data"
    }
   ],
   "source": [
    "testy=y_te[target][rows_te]\n",
    "precision, recall, thresholds = precision_recall_curve(testy,p_te[:, 1])\n",
    "no_skill = len(testy[testy==1]) / len(testy)\n",
    "f1 = 2*precision*recall/(precision+recall)\n",
    "m_idx = np.argmax(f1)\n",
    "m_thresh = thresholds[m_idx]\n",
    "print('Max F1: %0.5f, threshold prob: %0.5f' % (f1[m_idx], m_thresh))\n",
    "print('Max F1 Precision: %0.5f, Recall: %0.5f' % (precision[m_idx],recall[m_idx]))\n",
    "fig = plt.figure()\n",
    "plt.step(recall, precision, color='b', alpha=0.2, where='post')\n",
    "plt.fill_between(recall, precision, step='post', alpha=0.2, color='b',\\\n",
    "                 label='Random Forest')\n",
    "plt.plot([0, 1], [no_skill, no_skill], color='r', linestyle='--', label='No Skill')\n",
    "plt.plot([0, 1], [precision[m_idx],precision[m_idx]], color='k', alpha=0.4, linestyle=':')\n",
    "plt.plot([recall[m_idx],recall[m_idx]],[0, 1], color='k', alpha=0.4,linestyle=':',\\\n",
    "         label='Prec/Rec @ Max F1')\n",
    "plt.text(recall[m_idx], f1[m_idx]+0.01, 'Max F1={0:0.3f}'.format(f1[m_idx]))\n",
    "plt.plot(recall,f1,color='k',label='F1')\n",
    "plt.xlabel('Recall', fontsize=14)\n",
    "plt.ylabel('Precision or F1 Score', fontsize=14)\n",
    "plt.ylim([0.0, 1.0])\n",
    "plt.xlim([0.0, 1.0])\n",
    "plt.legend()\n",
    "title=target+' Random Forest\\n Precision-Recall curve: AP={0:0.2f}'.format(\n",
    "          average_precision)\n",
    "plt.title(title, fontsize=16);\n",
    "fig.savefig('./reports/figures/'+target+'_RandomForest_PrecisionRecallCurve.svg',\\\n",
    "            format='svg', dpi=1200, transparent=True, bbox_inches = \"tight\");"
   ]
  },
  {
   "cell_type": "markdown",
   "metadata": {},
   "source": [
    "Source for the following function:\n",
    ">Kevin Arvai, [Fine tuning a classifier in scikit-learn](https://towardsdatascience.com/fine-tuning-a-classifier-in-scikit-learn-66e048c21e65), Towards Data Science Jan 18, 2018.\n",
    "\n",
    "This was a helpful article that used a similar approach as I'm using here to optimize a classifier function."
   ]
  },
  {
   "cell_type": "code",
   "execution_count": 7,
   "metadata": {
    "ExecuteTime": {
     "end_time": "2019-12-01T06:20:50.858482Z",
     "start_time": "2019-12-01T06:20:50.852731Z"
    }
   },
   "outputs": [],
   "source": [
    "def adjusted_classes(y_scores, t):\n",
    "    \"\"\"\n",
    "    This function adjusts class predictions based on the prediction threshold (t).\n",
    "    Will only work for binary classification problems.\n",
    "    \"\"\"\n",
    "    return [1 if y >= t else 0 for y in y_scores]"
   ]
  },
  {
   "cell_type": "markdown",
   "metadata": {},
   "source": [
    "# Modified Random Forest Model Metrics"
   ]
  },
  {
   "cell_type": "code",
   "execution_count": 11,
   "metadata": {
    "ExecuteTime": {
     "end_time": "2019-12-01T06:26:41.174891Z",
     "start_time": "2019-12-01T06:26:41.155949Z"
    }
   },
   "outputs": [
    {
     "name": "stdout",
     "output_type": "stream",
     "text": [
      "ROC_AUC: 0.90503\n",
      "[['TN' 'FP']\n",
      " ['FN' 'TP']]\n",
      "[[449  88]\n",
      " [  8  65]]\n",
      "f1:0.57522\n",
      "recall:0.89041\n",
      "precision:0.42484\n",
      "accuracy: 0.84262\n"
     ]
    }
   ],
   "source": [
    "y_hat_testing_adj=adjusted_classes(p_te[:, 1],m_thresh)\n",
    "print('ROC_AUC: {0:0.5f}'.format(roc_auc_score(y_te[target][rows_te], p_te[:, 1]+(0.5-m_thresh))))\n",
    "print(np.array([['TN','FP'],['FN','TP']]))\n",
    "print(confusion_matrix(y_testing,y_hat_testing_adj))\n",
    "print('f1:{0:0.5f}'.format(f1_score(y_testing,y_hat_testing_adj)))\n",
    "print('recall:{0:0.5f}'.format(recall_score(y_testing,y_hat_testing_adj)))\n",
    "print('precision:{0:0.5f}'.format(precision_score(y_testing,y_hat_testing_adj)))\n",
    "print('accuracy: {0:0.5f}'.format(accuracy_score(y_testing,y_hat_testing_adj)))"
   ]
  },
  {
   "cell_type": "markdown",
   "metadata": {},
   "source": [
    "This result gives nearly twice the TP's and higher recall at the expense of more FP's!  Recall could be improved even further with minimally more FP's by further tuning the prediction threshold."
   ]
  },
  {
   "cell_type": "code",
   "execution_count": null,
   "metadata": {},
   "outputs": [],
   "source": []
  }
 ],
 "metadata": {
  "kernelspec": {
   "display_name": "Python [conda env:metis] *",
   "language": "python",
   "name": "conda-env-metis-py"
  },
  "language_info": {
   "codemirror_mode": {
    "name": "ipython",
    "version": 3
   },
   "file_extension": ".py",
   "mimetype": "text/x-python",
   "name": "python",
   "nbconvert_exporter": "python",
   "pygments_lexer": "ipython3",
   "version": "3.7.3"
  },
  "toc": {
   "base_numbering": 1,
   "nav_menu": {},
   "number_sections": true,
   "sideBar": true,
   "skip_h1_title": false,
   "title_cell": "Table of Contents",
   "title_sidebar": "Contents",
   "toc_cell": false,
   "toc_position": {},
   "toc_section_display": true,
   "toc_window_display": false
  }
 },
 "nbformat": 4,
 "nbformat_minor": 2
}
