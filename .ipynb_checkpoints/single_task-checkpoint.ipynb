{
 "cells": [
  {
   "cell_type": "markdown",
   "metadata": {},
   "source": [
    "# Library Imports"
   ]
  },
  {
   "cell_type": "code",
   "execution_count": 1,
   "metadata": {
    "ExecuteTime": {
     "end_time": "2019-11-30T04:28:39.428873Z",
     "start_time": "2019-11-30T04:28:37.732255Z"
    }
   },
   "outputs": [],
   "source": [
    "import os\n",
    "import numpy as np\n",
    "import pandas as pd\n",
    "from scipy import io\n",
    "# from sklearn import metrics\n",
    "from sklearn.model_selection import train_test_split\n",
    "from sklearn.metrics import roc_auc_score\n",
    "from sklearn.metrics import confusion_matrix, f1_score, precision_score, recall_score\n",
    "from imblearn.over_sampling import RandomOverSampler\n",
    "from src.helper_functions import load_data"
   ]
  },
  {
   "cell_type": "code",
   "execution_count": 2,
   "metadata": {
    "ExecuteTime": {
     "end_time": "2019-11-30T04:28:42.017349Z",
     "start_time": "2019-11-30T04:28:39.959216Z"
    }
   },
   "outputs": [
    {
     "name": "stderr",
     "output_type": "stream",
     "text": [
      "Using TensorFlow backend.\n",
      "/Users/sean/anaconda3/envs/metis/lib/python3.7/site-packages/tensorflow/python/framework/dtypes.py:526: FutureWarning: Passing (type, 1) or '1type' as a synonym of type is deprecated; in a future version of numpy, it will be understood as (type, (1,)) / '(1,)type'.\n",
      "  _np_qint8 = np.dtype([(\"qint8\", np.int8, 1)])\n",
      "/Users/sean/anaconda3/envs/metis/lib/python3.7/site-packages/tensorflow/python/framework/dtypes.py:527: FutureWarning: Passing (type, 1) or '1type' as a synonym of type is deprecated; in a future version of numpy, it will be understood as (type, (1,)) / '(1,)type'.\n",
      "  _np_quint8 = np.dtype([(\"quint8\", np.uint8, 1)])\n",
      "/Users/sean/anaconda3/envs/metis/lib/python3.7/site-packages/tensorflow/python/framework/dtypes.py:528: FutureWarning: Passing (type, 1) or '1type' as a synonym of type is deprecated; in a future version of numpy, it will be understood as (type, (1,)) / '(1,)type'.\n",
      "  _np_qint16 = np.dtype([(\"qint16\", np.int16, 1)])\n",
      "/Users/sean/anaconda3/envs/metis/lib/python3.7/site-packages/tensorflow/python/framework/dtypes.py:529: FutureWarning: Passing (type, 1) or '1type' as a synonym of type is deprecated; in a future version of numpy, it will be understood as (type, (1,)) / '(1,)type'.\n",
      "  _np_quint16 = np.dtype([(\"quint16\", np.uint16, 1)])\n",
      "/Users/sean/anaconda3/envs/metis/lib/python3.7/site-packages/tensorflow/python/framework/dtypes.py:530: FutureWarning: Passing (type, 1) or '1type' as a synonym of type is deprecated; in a future version of numpy, it will be understood as (type, (1,)) / '(1,)type'.\n",
      "  _np_qint32 = np.dtype([(\"qint32\", np.int32, 1)])\n",
      "/Users/sean/anaconda3/envs/metis/lib/python3.7/site-packages/tensorflow/python/framework/dtypes.py:535: FutureWarning: Passing (type, 1) or '1type' as a synonym of type is deprecated; in a future version of numpy, it will be understood as (type, (1,)) / '(1,)type'.\n",
      "  np_resource = np.dtype([(\"resource\", np.ubyte, 1)])\n"
     ]
    },
    {
     "data": {
      "text/plain": [
       "'2.2.5'"
      ]
     },
     "execution_count": 2,
     "metadata": {},
     "output_type": "execute_result"
    }
   ],
   "source": [
    "import keras\n",
    "from keras.callbacks import Callback\n",
    "from keras.layers import Dense, Activation, Dropout\n",
    "keras.__version__"
   ]
  },
  {
   "cell_type": "markdown",
   "metadata": {},
   "source": [
    "# Load Data"
   ]
  },
  {
   "cell_type": "code",
   "execution_count": 3,
   "metadata": {
    "ExecuteTime": {
     "end_time": "2019-11-30T04:28:55.228915Z",
     "start_time": "2019-11-30T04:28:43.988134Z"
    }
   },
   "outputs": [],
   "source": [
    "x_tr, y_tr, x_te, y_te = load_data()"
   ]
  },
  {
   "cell_type": "code",
   "execution_count": 16,
   "metadata": {
    "ExecuteTime": {
     "end_time": "2019-11-30T07:01:48.267106Z",
     "start_time": "2019-11-30T07:01:48.263149Z"
    }
   },
   "outputs": [
    {
     "data": {
      "text/plain": [
       "pandas.core.frame.DataFrame"
      ]
     },
     "execution_count": 16,
     "metadata": {},
     "output_type": "execute_result"
    }
   ],
   "source": [
    "type(y_tr)"
   ]
  },
  {
   "cell_type": "markdown",
   "metadata": {},
   "source": [
    "# Choose A Target"
   ]
  },
  {
   "cell_type": "code",
   "execution_count": 4,
   "metadata": {
    "ExecuteTime": {
     "end_time": "2019-11-30T04:28:58.369992Z",
     "start_time": "2019-11-30T04:28:58.364446Z"
    }
   },
   "outputs": [
    {
     "data": {
      "text/plain": [
       "Index(['NR.AhR', 'NR.AR', 'NR.AR.LBD', 'NR.Aromatase', 'NR.ER', 'NR.ER.LBD',\n",
       "       'NR.PPAR.gamma', 'SR.ARE', 'SR.ATAD5', 'SR.HSE', 'SR.MMP', 'SR.p53'],\n",
       "      dtype='object')"
      ]
     },
     "execution_count": 4,
     "metadata": {},
     "output_type": "execute_result"
    }
   ],
   "source": [
    "y_tr.columns"
   ]
  },
  {
   "cell_type": "code",
   "execution_count": 12,
   "metadata": {
    "ExecuteTime": {
     "end_time": "2019-11-30T04:33:56.505242Z",
     "start_time": "2019-11-30T04:33:56.315106Z"
    }
   },
   "outputs": [
    {
     "name": "stdout",
     "output_type": "stream",
     "text": [
      "Target: NR.AhR Training set shape: (8441, 1644)\n"
     ]
    }
   ],
   "source": [
    "# for target in y_tr.columns:\n",
    "target = 'NR.AhR'\n",
    "rows_tr = np.isfinite(y_tr[target]).values\n",
    "rows_te = np.isfinite(y_te[target]).values\n",
    "x,y = x_tr[rows_tr], y_tr[target][rows_tr]\n",
    "print('Target:',target, 'Training set shape:', x.shape)"
   ]
  },
  {
   "cell_type": "markdown",
   "metadata": {},
   "source": [
    "# Address Class Imbalance"
   ]
  },
  {
   "cell_type": "code",
   "execution_count": 20,
   "metadata": {
    "ExecuteTime": {
     "end_time": "2019-11-30T07:10:21.935345Z",
     "start_time": "2019-11-30T07:10:21.786417Z"
    }
   },
   "outputs": [],
   "source": [
    "x_train, x_val, y_train, y_val = train_test_split(x, y, stratify=y, test_size=0.2, random_state=42)\n",
    "ros = RandomOverSampler(random_state=0)\n",
    "x_resampled, y_resampled = ros.fit_sample(x_train,y_train)"
   ]
  },
  {
   "cell_type": "markdown",
   "metadata": {},
   "source": [
    "# Build Neural Network\n",
    "\n",
    "Following the desciption in section 2.2.4 of the [DeepTox article](https://www.frontiersin.org/articles/10.3389/fenvs.2015.00080/full), I tried to use intermediate values in [Table 2](https://www.frontiersin.org/articles/10.3389/fenvs.2015.00080/full#T2) to build the neural network:"
   ]
  },
  {
   "cell_type": "markdown",
   "metadata": {},
   "source": [
    "Following [this question/answer](https://datascience.stackexchange.com/questions/45165/how-to-get-accuracy-f1-precision-and-recall-for-a-keras-model) and [this question/answer](https://stackoverflow.com/questions/54065733/how-to-employ-the-scikit-learn-evaluation-metrics-functions-with-keras-in-python) to implement usage of recall in model training:"
   ]
  },
  {
   "cell_type": "code",
   "execution_count": 17,
   "metadata": {
    "ExecuteTime": {
     "end_time": "2019-11-30T07:09:52.292408Z",
     "start_time": "2019-11-30T07:09:52.289844Z"
    }
   },
   "outputs": [],
   "source": [
    "from src.metrics import recall_m, f1"
   ]
  },
  {
   "cell_type": "code",
   "execution_count": 18,
   "metadata": {
    "ExecuteTime": {
     "end_time": "2019-11-30T07:10:03.433452Z",
     "start_time": "2019-11-30T07:10:03.245689Z"
    }
   },
   "outputs": [
    {
     "name": "stdout",
     "output_type": "stream",
     "text": [
      "WARNING:tensorflow:From /Users/sean/anaconda3/envs/metis/lib/python3.7/site-packages/tensorflow/python/framework/op_def_library.py:263: colocate_with (from tensorflow.python.framework.ops) is deprecated and will be removed in a future version.\n",
      "Instructions for updating:\n",
      "Colocations handled automatically by placer.\n",
      "WARNING:tensorflow:From /Users/sean/anaconda3/envs/metis/lib/python3.7/site-packages/keras/backend/tensorflow_backend.py:3733: calling dropout (from tensorflow.python.ops.nn_ops) with keep_prob is deprecated and will be removed in a future version.\n",
      "Instructions for updating:\n",
      "Please use `rate` instead of `keep_prob`. Rate should be set to `rate = 1 - keep_prob`.\n",
      "Model: \"sequential_1\"\n",
      "_________________________________________________________________\n",
      "Layer (type)                 Output Shape              Param #   \n",
      "=================================================================\n",
      "h1_sigmoid_activation (Dense (None, 1024)              1684480   \n",
      "_________________________________________________________________\n",
      "Dropout1 (Dropout)           (None, 1024)              0         \n",
      "_________________________________________________________________\n",
      "h2_sigmoid_activation (Dense (None, 1024)              1049600   \n",
      "_________________________________________________________________\n",
      "Dropout2 (Dropout)           (None, 1024)              0         \n",
      "_________________________________________________________________\n",
      "h3_sigmoid_activation (Dense (None, 1024)              1049600   \n",
      "_________________________________________________________________\n",
      "Dropout3 (Dropout)           (None, 1024)              0         \n",
      "_________________________________________________________________\n",
      "dense_1 (Dense)              (None, 1)                 1025      \n",
      "=================================================================\n",
      "Total params: 3,784,705\n",
      "Trainable params: 3,784,705\n",
      "Non-trainable params: 0\n",
      "_________________________________________________________________\n"
     ]
    }
   ],
   "source": [
    "drop_out=0.5    # DeepTox range: 0.5, 0.2, 0\n",
    "L2_reg = 0.0001 # Default = 0.01\n",
    "layers = 3      # DeepTox range: 1, 2, 3, 4\n",
    "act = 'sigmoid' # Consider sigmoid and tanh\n",
    "neurons = 1024  # DeepTox range: 1024, 2048, 4096, 8192, 16384\n",
    "# Info on decay: https://datascience.stackexchange.com/questions/26112/decay-parameter-in-keras-optimizers\n",
    "decay = 0       # DeepTox range: 10^-4, 10^-5, 10^-6\n",
    "learn_rate = 0.1  #Research appropriate range\n",
    "DNN = keras.Sequential([\n",
    "    keras.layers.InputLayer(input_shape=x.shape[1:],name='Input_Layer')\n",
    "])\n",
    "for i in range(1,layers+1):\n",
    "    DNN.add(Dense(units=neurons, activation=act,\\\n",
    "                  name='h'+str(i)+'_'+act+'_activation',\\\n",
    "                  kernel_regularizer=keras.regularizers.l2(L2_reg)))\n",
    "    DNN.add(Dropout(rate=drop_out,name='Dropout'+str(i)))\n",
    "DNN.add(Dense(units=1, activation='sigmoid'))\n",
    "keras.optimizers.Adam(lr=learn_rate, beta_1=0.9,\\\n",
    "                      beta_2=0.999, decay=decay, amsgrad=False)\n",
    "DNN.compile(optimizer='adam', loss='binary_crossentropy',\\\n",
    "            metrics=['accuracy',recall_m,f1])\n",
    "DNN.summary()"
   ]
  },
  {
   "cell_type": "code",
   "execution_count": 21,
   "metadata": {
    "ExecuteTime": {
     "end_time": "2019-11-30T07:12:40.951357Z",
     "start_time": "2019-11-30T07:10:27.883455Z"
    },
    "scrolled": true
   },
   "outputs": [
    {
     "name": "stdout",
     "output_type": "stream",
     "text": [
      "WARNING:tensorflow:From /Users/sean/anaconda3/envs/metis/lib/python3.7/site-packages/tensorflow/python/ops/math_ops.py:3066: to_int32 (from tensorflow.python.ops.math_ops) is deprecated and will be removed in a future version.\n",
      "Instructions for updating:\n",
      "Use tf.cast instead.\n",
      "Train on 11934 samples, validate on 1689 samples\n",
      "Epoch 1/100\n",
      "11934/11934 [==============================] - 3s 262us/step - loss: 1.1956 - acc: 0.5098 - recall_m: 0.5541 - f1: 0.4577 - val_loss: 0.7989 - val_acc: 0.7922 - val_recall_m: 0.4145 - val_f1: 0.3107\n",
      "Epoch 2/100\n",
      "11934/11934 [==============================] - 2s 194us/step - loss: 0.8889 - acc: 0.5830 - recall_m: 0.5738 - f1: 0.5721 - val_loss: 0.7649 - val_acc: 0.5488 - val_recall_m: 0.8427 - val_f1: 0.3014\n",
      "Epoch 3/100\n",
      "11934/11934 [==============================] - 2s 202us/step - loss: 0.7988 - acc: 0.6487 - recall_m: 0.6800 - f1: 0.6577 - val_loss: 0.8140 - val_acc: 0.5340 - val_recall_m: 0.9034 - val_f1: 0.3099\n",
      "Epoch 4/100\n",
      "11934/11934 [==============================] - 3s 218us/step - loss: 0.7517 - acc: 0.6867 - recall_m: 0.7307 - f1: 0.6996 - val_loss: 0.6953 - val_acc: 0.6501 - val_recall_m: 0.8089 - val_f1: 0.3460\n",
      "Epoch 5/100\n",
      "11934/11934 [==============================] - 3s 222us/step - loss: 0.7380 - acc: 0.6892 - recall_m: 0.7317 - f1: 0.7007 - val_loss: 0.6675 - val_acc: 0.7247 - val_recall_m: 0.7244 - val_f1: 0.3748\n",
      "Epoch 6/100\n",
      "11934/11934 [==============================] - 3s 223us/step - loss: 0.7115 - acc: 0.7012 - recall_m: 0.7404 - f1: 0.7115 - val_loss: 0.5924 - val_acc: 0.8111 - val_recall_m: 0.6188 - val_f1: 0.4268\n",
      "Epoch 7/100\n",
      "11934/11934 [==============================] - 3s 221us/step - loss: 0.6974 - acc: 0.7082 - recall_m: 0.7341 - f1: 0.7139 - val_loss: 0.6512 - val_acc: 0.7478 - val_recall_m: 0.7400 - val_f1: 0.3989\n",
      "Epoch 8/100\n",
      "11934/11934 [==============================] - 3s 221us/step - loss: 0.6948 - acc: 0.7092 - recall_m: 0.7336 - f1: 0.7124 - val_loss: 0.8144 - val_acc: 0.5240 - val_recall_m: 0.9432 - val_f1: 0.3151\n",
      "Epoch 9/100\n",
      "11934/11934 [==============================] - 3s 223us/step - loss: 0.6797 - acc: 0.7112 - recall_m: 0.7488 - f1: 0.7205 - val_loss: 0.6469 - val_acc: 0.7525 - val_recall_m: 0.7303 - val_f1: 0.4003\n",
      "\n",
      "Epoch 00009: ReduceLROnPlateau reducing learning rate to 0.0005000000237487257.\n",
      "Epoch 10/100\n",
      "11934/11934 [==============================] - 3s 219us/step - loss: 0.6638 - acc: 0.7170 - recall_m: 0.7492 - f1: 0.7249 - val_loss: 0.6348 - val_acc: 0.7750 - val_recall_m: 0.6939 - val_f1: 0.4114\n",
      "Epoch 11/100\n",
      "11934/11934 [==============================] - 3s 224us/step - loss: 0.6513 - acc: 0.7283 - recall_m: 0.7621 - f1: 0.7367 - val_loss: 0.5923 - val_acc: 0.7851 - val_recall_m: 0.6793 - val_f1: 0.4167\n",
      "Epoch 12/100\n",
      "11934/11934 [==============================] - 3s 232us/step - loss: 0.6375 - acc: 0.7334 - recall_m: 0.7672 - f1: 0.7412 - val_loss: 0.5695 - val_acc: 0.8105 - val_recall_m: 0.6866 - val_f1: 0.4514\n",
      "Epoch 13/100\n",
      "11934/11934 [==============================] - 3s 232us/step - loss: 0.6281 - acc: 0.7402 - recall_m: 0.7664 - f1: 0.7463 - val_loss: 0.6254 - val_acc: 0.7152 - val_recall_m: 0.7829 - val_f1: 0.3846\n",
      "Epoch 14/100\n",
      "11934/11934 [==============================] - 3s 230us/step - loss: 0.6213 - acc: 0.7450 - recall_m: 0.7735 - f1: 0.7513 - val_loss: 0.5788 - val_acc: 0.7827 - val_recall_m: 0.7205 - val_f1: 0.4285\n",
      "Epoch 15/100\n",
      "11934/11934 [==============================] - 3s 230us/step - loss: 0.6186 - acc: 0.7417 - recall_m: 0.7756 - f1: 0.7490 - val_loss: 0.5580 - val_acc: 0.7975 - val_recall_m: 0.7047 - val_f1: 0.4413\n",
      "Epoch 16/100\n",
      "11934/11934 [==============================] - 3s 235us/step - loss: 0.6151 - acc: 0.7372 - recall_m: 0.7685 - f1: 0.7445 - val_loss: 0.6392 - val_acc: 0.7377 - val_recall_m: 0.7781 - val_f1: 0.4029\n",
      "Epoch 17/100\n",
      "11934/11934 [==============================] - 3s 233us/step - loss: 0.6123 - acc: 0.7435 - recall_m: 0.7628 - f1: 0.7467 - val_loss: 0.5450 - val_acc: 0.8147 - val_recall_m: 0.6608 - val_f1: 0.4472\n",
      "Epoch 18/100\n",
      "11934/11934 [==============================] - 3s 232us/step - loss: 0.6017 - acc: 0.7529 - recall_m: 0.7846 - f1: 0.7594 - val_loss: 0.5382 - val_acc: 0.8147 - val_recall_m: 0.6809 - val_f1: 0.4541\n",
      "Epoch 19/100\n",
      "11934/11934 [==============================] - 3s 240us/step - loss: 0.5997 - acc: 0.7508 - recall_m: 0.7765 - f1: 0.7565 - val_loss: 0.5823 - val_acc: 0.7750 - val_recall_m: 0.7159 - val_f1: 0.4189\n",
      "Epoch 20/100\n",
      "11934/11934 [==============================] - 3s 236us/step - loss: 0.5933 - acc: 0.7507 - recall_m: 0.7729 - f1: 0.7551 - val_loss: 0.6405 - val_acc: 0.6963 - val_recall_m: 0.8298 - val_f1: 0.3832\n",
      "Epoch 21/100\n",
      "11934/11934 [==============================] - 3s 235us/step - loss: 0.5953 - acc: 0.7500 - recall_m: 0.7808 - f1: 0.7563 - val_loss: 0.5790 - val_acc: 0.7584 - val_recall_m: 0.7520 - val_f1: 0.4142\n",
      "\n",
      "Epoch 00021: ReduceLROnPlateau reducing learning rate to 0.0002500000118743628.\n",
      "Epoch 22/100\n",
      "11934/11934 [==============================] - 3s 227us/step - loss: 0.5832 - acc: 0.7525 - recall_m: 0.7750 - f1: 0.7573 - val_loss: 0.5165 - val_acc: 0.8253 - val_recall_m: 0.6719 - val_f1: 0.4653\n",
      "Epoch 23/100\n",
      "11934/11934 [==============================] - 3s 221us/step - loss: 0.5719 - acc: 0.7612 - recall_m: 0.7838 - f1: 0.7654 - val_loss: 0.5677 - val_acc: 0.7010 - val_recall_m: 0.8017 - val_f1: 0.3777\n",
      "Epoch 24/100\n",
      "11934/11934 [==============================] - 3s 221us/step - loss: 0.5641 - acc: 0.7661 - recall_m: 0.7805 - f1: 0.7689 - val_loss: 0.5383 - val_acc: 0.7744 - val_recall_m: 0.7637 - val_f1: 0.4342\n",
      "Epoch 25/100\n",
      "11934/11934 [==============================] - 3s 223us/step - loss: 0.5632 - acc: 0.7661 - recall_m: 0.8037 - f1: 0.7739 - val_loss: 0.5952 - val_acc: 0.7460 - val_recall_m: 0.7914 - val_f1: 0.4146\n",
      "\n",
      "Epoch 00025: ReduceLROnPlateau reducing learning rate to 0.0001250000059371814.\n",
      "Epoch 26/100\n",
      "11934/11934 [==============================] - 3s 227us/step - loss: 0.5565 - acc: 0.7678 - recall_m: 0.7970 - f1: 0.7737 - val_loss: 0.5145 - val_acc: 0.8076 - val_recall_m: 0.7273 - val_f1: 0.4609\n",
      "Epoch 27/100\n",
      "11934/11934 [==============================] - 3s 230us/step - loss: 0.5502 - acc: 0.7728 - recall_m: 0.7988 - f1: 0.7783 - val_loss: 0.5244 - val_acc: 0.8123 - val_recall_m: 0.7566 - val_f1: 0.4771\n",
      "Epoch 28/100\n",
      "11934/11934 [==============================] - 3s 227us/step - loss: 0.5445 - acc: 0.7785 - recall_m: 0.8073 - f1: 0.7845 - val_loss: 0.5422 - val_acc: 0.7922 - val_recall_m: 0.7566 - val_f1: 0.4520\n",
      "Epoch 29/100\n",
      "11934/11934 [==============================] - 3s 228us/step - loss: 0.5428 - acc: 0.7800 - recall_m: 0.7868 - f1: 0.7810 - val_loss: 0.5289 - val_acc: 0.8070 - val_recall_m: 0.7398 - val_f1: 0.4644\n",
      "\n",
      "Epoch 00029: ReduceLROnPlateau reducing learning rate to 6.25000029685907e-05.\n",
      "Epoch 30/100\n",
      "11934/11934 [==============================] - 3s 220us/step - loss: 0.5388 - acc: 0.7773 - recall_m: 0.8003 - f1: 0.7821 - val_loss: 0.5218 - val_acc: 0.8064 - val_recall_m: 0.7313 - val_f1: 0.4607\n",
      "Epoch 31/100\n",
      "11934/11934 [==============================] - 3s 224us/step - loss: 0.5387 - acc: 0.7770 - recall_m: 0.8003 - f1: 0.7816 - val_loss: 0.5197 - val_acc: 0.8117 - val_recall_m: 0.7269 - val_f1: 0.4661\n",
      "Epoch 32/100\n",
      "11934/11934 [==============================] - 3s 217us/step - loss: 0.5367 - acc: 0.7774 - recall_m: 0.8005 - f1: 0.7821 - val_loss: 0.5192 - val_acc: 0.8064 - val_recall_m: 0.7231 - val_f1: 0.4581\n",
      "\n",
      "Epoch 00032: ReduceLROnPlateau reducing learning rate to 3.125000148429535e-05.\n",
      "Epoch 33/100\n",
      "11934/11934 [==============================] - 3s 216us/step - loss: 0.5365 - acc: 0.7775 - recall_m: 0.7996 - f1: 0.7821 - val_loss: 0.5245 - val_acc: 0.8070 - val_recall_m: 0.7541 - val_f1: 0.4696\n",
      "Epoch 34/100\n",
      "11934/11934 [==============================] - 3s 213us/step - loss: 0.5305 - acc: 0.7801 - recall_m: 0.8072 - f1: 0.7856 - val_loss: 0.5111 - val_acc: 0.8182 - val_recall_m: 0.7089 - val_f1: 0.4685\n",
      "Epoch 35/100\n",
      "11934/11934 [==============================] - 3s 214us/step - loss: 0.5302 - acc: 0.7821 - recall_m: 0.8057 - f1: 0.7868 - val_loss: 0.5305 - val_acc: 0.7869 - val_recall_m: 0.7753 - val_f1: 0.4515\n",
      "Epoch 36/100\n"
     ]
    },
    {
     "name": "stdout",
     "output_type": "stream",
     "text": [
      "11934/11934 [==============================] - 3s 219us/step - loss: 0.5280 - acc: 0.7811 - recall_m: 0.8128 - f1: 0.7874 - val_loss: 0.5312 - val_acc: 0.7531 - val_recall_m: 0.8016 - val_f1: 0.4240\n",
      "Epoch 37/100\n",
      "11934/11934 [==============================] - 3s 212us/step - loss: 0.5268 - acc: 0.7817 - recall_m: 0.8128 - f1: 0.7880 - val_loss: 0.5226 - val_acc: 0.7940 - val_recall_m: 0.7585 - val_f1: 0.4550\n",
      "\n",
      "Epoch 00037: ReduceLROnPlateau reducing learning rate to 1.5625000742147677e-05.\n",
      "Epoch 38/100\n",
      "11934/11934 [==============================] - 3s 215us/step - loss: 0.5270 - acc: 0.7833 - recall_m: 0.8088 - f1: 0.7885 - val_loss: 0.5200 - val_acc: 0.7951 - val_recall_m: 0.7536 - val_f1: 0.4548\n",
      "Epoch 39/100\n",
      "11934/11934 [==============================] - 3s 218us/step - loss: 0.5239 - acc: 0.7844 - recall_m: 0.8057 - f1: 0.7887 - val_loss: 0.5203 - val_acc: 0.7999 - val_recall_m: 0.7634 - val_f1: 0.4640\n",
      "Epoch 40/100\n",
      "11934/11934 [==============================] - 3s 218us/step - loss: 0.5232 - acc: 0.7838 - recall_m: 0.8128 - f1: 0.7896 - val_loss: 0.5196 - val_acc: 0.8022 - val_recall_m: 0.7590 - val_f1: 0.4655\n",
      "\n",
      "Epoch 00040: ReduceLROnPlateau reducing learning rate to 7.812500371073838e-06.\n",
      "Epoch 41/100\n",
      "11934/11934 [==============================] - 3s 212us/step - loss: 0.5282 - acc: 0.7819 - recall_m: 0.8049 - f1: 0.7864 - val_loss: 0.5182 - val_acc: 0.8017 - val_recall_m: 0.7541 - val_f1: 0.4631\n",
      "Epoch 42/100\n",
      "11934/11934 [==============================] - 3s 214us/step - loss: 0.5256 - acc: 0.7846 - recall_m: 0.8072 - f1: 0.7892 - val_loss: 0.5208 - val_acc: 0.7969 - val_recall_m: 0.7585 - val_f1: 0.4584\n",
      "Epoch 43/100\n",
      "11934/11934 [==============================] - 3s 216us/step - loss: 0.5252 - acc: 0.7798 - recall_m: 0.8014 - f1: 0.7840 - val_loss: 0.5160 - val_acc: 0.8070 - val_recall_m: 0.7541 - val_f1: 0.4695\n",
      "\n",
      "Epoch 00043: ReduceLROnPlateau reducing learning rate to 3.906250185536919e-06.\n",
      "Epoch 44/100\n",
      "11934/11934 [==============================] - 3s 215us/step - loss: 0.5222 - acc: 0.7906 - recall_m: 0.8117 - f1: 0.7946 - val_loss: 0.5188 - val_acc: 0.7969 - val_recall_m: 0.7585 - val_f1: 0.4585\n",
      "Epoch 45/100\n",
      "11934/11934 [==============================] - 3s 212us/step - loss: 0.5220 - acc: 0.7831 - recall_m: 0.8066 - f1: 0.7879 - val_loss: 0.5184 - val_acc: 0.7981 - val_recall_m: 0.7634 - val_f1: 0.4615\n",
      "Epoch 46/100\n",
      "11934/11934 [==============================] - 3s 215us/step - loss: 0.5210 - acc: 0.7881 - recall_m: 0.8148 - f1: 0.7934 - val_loss: 0.5176 - val_acc: 0.7999 - val_recall_m: 0.7585 - val_f1: 0.4620\n",
      "\n",
      "Epoch 00046: ReduceLROnPlateau reducing learning rate to 1.9531250927684596e-06.\n",
      "Epoch 47/100\n",
      "11934/11934 [==============================] - 3s 210us/step - loss: 0.5239 - acc: 0.7878 - recall_m: 0.8124 - f1: 0.7925 - val_loss: 0.5164 - val_acc: 0.8052 - val_recall_m: 0.7590 - val_f1: 0.4690\n",
      "Epoch 48/100\n",
      "11934/11934 [==============================] - 3s 210us/step - loss: 0.5205 - acc: 0.7873 - recall_m: 0.8109 - f1: 0.7918 - val_loss: 0.5171 - val_acc: 0.8011 - val_recall_m: 0.7634 - val_f1: 0.4651\n",
      "Epoch 49/100\n",
      "11934/11934 [==============================] - 3s 214us/step - loss: 0.5213 - acc: 0.7898 - recall_m: 0.8146 - f1: 0.7947 - val_loss: 0.5155 - val_acc: 0.8070 - val_recall_m: 0.7590 - val_f1: 0.4714\n",
      "\n",
      "Epoch 00049: ReduceLROnPlateau reducing learning rate to 9.765625463842298e-07.\n",
      "Epoch 50/100\n",
      "11934/11934 [==============================] - 3s 214us/step - loss: 0.5238 - acc: 0.7865 - recall_m: 0.8061 - f1: 0.7903 - val_loss: 0.5157 - val_acc: 0.8058 - val_recall_m: 0.7590 - val_f1: 0.4699\n",
      "Restoring model weights from the end of the best epoch\n",
      "Epoch 00050: early stopping\n"
     ]
    },
    {
     "data": {
      "text/plain": [
       "<keras.callbacks.History at 0x126944ef0>"
      ]
     },
     "execution_count": 21,
     "metadata": {},
     "output_type": "execute_result"
    }
   ],
   "source": [
    "DNN.fit(\n",
    "    x_resampled, y_resampled, batch_size=512, epochs=100,\\\n",
    "    validation_data=(x_val,y_val), verbose=1,\n",
    "    callbacks=[\n",
    "        keras.callbacks.EarlyStopping(patience=16,verbose=1,\\\n",
    "                                      restore_best_weights=True),\n",
    "        keras.callbacks.ReduceLROnPlateau(factor=0.5,patience=3,verbose=1)\n",
    "    ])"
   ]
  },
  {
   "cell_type": "code",
   "execution_count": 22,
   "metadata": {
    "ExecuteTime": {
     "end_time": "2019-11-30T07:12:47.301506Z",
     "start_time": "2019-11-30T07:12:47.182631Z"
    },
    "scrolled": true
   },
   "outputs": [
    {
     "name": "stdout",
     "output_type": "stream",
     "text": [
      "         NR.AhR: 0.85155\n"
     ]
    }
   ],
   "source": [
    "auc_te = roc_auc_score(y_te[target][rows_te], DNN.predict(x_te[rows_te]))\n",
    "print(\"%15s: %3.5f\" % (target, auc_te))"
   ]
  },
  {
   "cell_type": "markdown",
   "metadata": {},
   "source": [
    "# Precision-Recall Curve\n",
    "roc_auc can be misleading when imbalanced data:<sup>[1](https://stats.stackexchange.com/questions/90779/area-under-the-roc-curve-or-area-under-the-pr-curve-for-imbalanced-data),[2](https://machinelearningmastery.com/roc-curves-and-precision-recall-curves-for-classification-in-python/),[3](https://scikit-learn.org/stable/modules/model_evaluation.html#precision-recall-f-measure-metrics)</sup>\n",
    ">However, when dealing with highly skewed datasets, Precision-Recall (PR) curves give a more informative picture of an algorithm's performance. - Davis and Goadrich\n",
    "\n",
    "Use average precision from the precision-recall curve for a single value summary."
   ]
  },
  {
   "cell_type": "code",
   "execution_count": 27,
   "metadata": {
    "ExecuteTime": {
     "end_time": "2019-11-30T07:14:38.697324Z",
     "start_time": "2019-11-30T07:14:38.694852Z"
    }
   },
   "outputs": [],
   "source": [
    "# Precision-Recall Curve \n",
    "from sklearn.metrics import average_precision_score\n",
    "from sklearn.metrics import precision_recall_curve"
   ]
  },
  {
   "cell_type": "code",
   "execution_count": 32,
   "metadata": {
    "ExecuteTime": {
     "end_time": "2019-11-30T07:32:38.513269Z",
     "start_time": "2019-11-30T07:32:38.436677Z"
    }
   },
   "outputs": [
    {
     "data": {
      "text/plain": [
       "0.5019111423837479"
      ]
     },
     "execution_count": 32,
     "metadata": {},
     "output_type": "execute_result"
    }
   ],
   "source": [
    "average_precision=average_precision_score(y_te[target][rows_te],DNN.predict(x_te[rows_te]))\n",
    "average_precision"
   ]
  },
  {
   "cell_type": "markdown",
   "metadata": {},
   "source": [
    "Combining code from [here](https://machinelearningmastery.com/roc-curves-and-precision-recall-curves-for-classification-in-python/) and [here](https://scikit-learn.org/stable/auto_examples/model_selection/plot_precision_recall.html#sphx-glr-auto-examples-model-selection-plot-precision-recall-py)"
   ]
  },
  {
   "cell_type": "code",
   "execution_count": 39,
   "metadata": {
    "ExecuteTime": {
     "end_time": "2019-11-30T08:01:16.819169Z",
     "start_time": "2019-11-30T08:01:16.580884Z"
    }
   },
   "outputs": [
    {
     "data": {
      "image/png": "[encoded data removed]",
      "text/plain": [
       "<Figure size 432x288 with 1 Axes>"
      ]
     },
     "metadata": {
      "needs_background": "light"
     },
     "output_type": "display_data"
    }
   ],
   "source": [
    "import matplotlib.pyplot as plt\n",
    "from inspect import signature\n",
    "\n",
    "testy=y_te[target][rows_te]\n",
    "precision, recall, _ = precision_recall_curve(testy,DNN.predict(x_te[rows_te]))\n",
    "\n",
    "# In matplotlib < 1.5, plt.fill_between does not have a 'step' argument\n",
    "step_kwargs = ({'step': 'post'}\n",
    "               if 'step' in signature(plt.fill_between).parameters\n",
    "               else {})\n",
    "plt.step(recall, precision, color='b', alpha=0.2,\n",
    "         where='post')\n",
    "plt.fill_between(recall, precision, alpha=0.2, color='b', label='DNN', **step_kwargs)\n",
    "\n",
    "no_skill = len(testy[testy==1]) / len(testy)\n",
    "plt.plot([0, 1], [no_skill, no_skill], linestyle='--', label='No Skill')\n",
    "\n",
    "plt.xlabel('Recall')\n",
    "plt.ylabel('Precision')\n",
    "plt.ylim([0.0, 1.05])\n",
    "plt.xlim([0.0, 1.0])\n",
    "plt.legend()\n",
    "plt.title('2-class Precision-Recall curve: AP={0:0.2f}'.format(\n",
    "          average_precision));"
   ]
  },
  {
   "cell_type": "code",
   "execution_count": 23,
   "metadata": {
    "ExecuteTime": {
     "end_time": "2019-11-30T07:12:52.882073Z",
     "start_time": "2019-11-30T07:12:52.808156Z"
    },
    "scrolled": true
   },
   "outputs": [
    {
     "name": "stdout",
     "output_type": "stream",
     "text": [
      "[['TN' 'FP']\n",
      " ['FN' 'TP']]\n",
      "[[423 114]\n",
      " [ 17  56]]\n"
     ]
    }
   ],
   "source": [
    "y_testing=y_te[target][~np.isnan(y_te[target])]\n",
    "y_hat_testing=DNN.predict_classes(x_te[rows_te])\n",
    "print(np.array([['TN','FP'],['FN','TP']]))\n",
    "print(confusion_matrix(y_testing,y_hat_testing))"
   ]
  },
  {
   "cell_type": "code",
   "execution_count": 24,
   "metadata": {
    "ExecuteTime": {
     "end_time": "2019-11-30T07:12:55.651799Z",
     "start_time": "2019-11-30T07:12:55.641734Z"
    }
   },
   "outputs": [
    {
     "name": "stdout",
     "output_type": "stream",
     "text": [
      "f1: 0.4609053497942387\n",
      "recall: 0.7671232876712328\n",
      "precision: 0.32941176470588235\n"
     ]
    }
   ],
   "source": [
    "print('f1:',f1_score(y_testing,y_hat_testing))\n",
    "print('recall:',recall_score(y_testing,y_hat_testing))\n",
    "print('precision:',precision_score(y_testing,y_hat_testing))"
   ]
  },
  {
   "cell_type": "code",
   "execution_count": 25,
   "metadata": {
    "ExecuteTime": {
     "end_time": "2019-11-30T07:12:56.819852Z",
     "start_time": "2019-11-30T07:12:56.813054Z"
    }
   },
   "outputs": [
    {
     "data": {
      "text/plain": [
       "0.0    537\n",
       "1.0     73\n",
       "Name: NR.AhR, dtype: int64"
      ]
     },
     "execution_count": 25,
     "metadata": {},
     "output_type": "execute_result"
    }
   ],
   "source": [
    "y_te[target][rows_te].value_counts()"
   ]
  },
  {
   "cell_type": "code",
   "execution_count": 26,
   "metadata": {
    "ExecuteTime": {
     "end_time": "2019-11-30T07:12:57.627922Z",
     "start_time": "2019-11-30T07:12:57.623832Z"
    }
   },
   "outputs": [
    {
     "data": {
      "text/plain": [
       "0.8803278688524591"
      ]
     },
     "execution_count": 26,
     "metadata": {},
     "output_type": "execute_result"
    }
   ],
   "source": [
    "537/(537+73)"
   ]
  },
  {
   "cell_type": "markdown",
   "metadata": {},
   "source": [
    "Uncomment to save model.  Last ROC_UAC = 0.86068"
   ]
  },
  {
   "cell_type": "code",
   "execution_count": null,
   "metadata": {
    "ExecuteTime": {
     "end_time": "2019-11-27T23:22:47.686337Z",
     "start_time": "2019-11-27T23:22:47.348469Z"
    }
   },
   "outputs": [],
   "source": [
    "# DNN.save('./models/saves/first_model.h5')"
   ]
  },
  {
   "cell_type": "code",
   "execution_count": null,
   "metadata": {},
   "outputs": [],
   "source": []
  }
 ],
 "metadata": {
  "kernelspec": {
   "display_name": "Python [conda env:metis] *",
   "language": "python",
   "name": "conda-env-metis-py"
  },
  "language_info": {
   "codemirror_mode": {
    "name": "ipython",
    "version": 3
   },
   "file_extension": ".py",
   "mimetype": "text/x-python",
   "name": "python",
   "nbconvert_exporter": "python",
   "pygments_lexer": "ipython3",
   "version": "3.7.3"
  },
  "toc": {
   "base_numbering": 1,
   "nav_menu": {},
   "number_sections": true,
   "sideBar": true,
   "skip_h1_title": false,
   "title_cell": "Table of Contents",
   "title_sidebar": "Contents",
   "toc_cell": false,
   "toc_position": {},
   "toc_section_display": true,
   "toc_window_display": false
  }
 },
 "nbformat": 4,
 "nbformat_minor": 2
}
